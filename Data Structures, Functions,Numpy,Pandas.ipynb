{
 "cells": [
  {
   "cell_type": "markdown",
   "id": "3a7fd967-7f8e-40f9-be23-a8a1a4acc94b",
   "metadata": {},
   "source": [
    "### 1.\tCreate a list of 5 integers. Perform and print the result of the following operations: append, extend, insert, remove, pop, clear, index, count, sort, and reverse."
   ]
  },
  {
   "cell_type": "code",
   "execution_count": 2,
   "id": "b48bb3ea-cb66-4973-8fb9-d926fa843a96",
   "metadata": {},
   "outputs": [],
   "source": [
    "lst1 = [1, 7, 13, 41, 53]"
   ]
  },
  {
   "cell_type": "code",
   "execution_count": 3,
   "id": "2f25d617-3fe1-4ba0-b9e4-0055c662d491",
   "metadata": {},
   "outputs": [
    {
     "data": {
      "text/plain": [
       "[1, 7, 13, 41, 53, 60]"
      ]
     },
     "execution_count": 3,
     "metadata": {},
     "output_type": "execute_result"
    }
   ],
   "source": [
    "lst1.append(60) #add a single element at the end\n",
    "lst1"
   ]
  },
  {
   "cell_type": "code",
   "execution_count": 4,
   "id": "6109339e-0dca-4e57-bcb1-da726ac5b83e",
   "metadata": {},
   "outputs": [
    {
     "data": {
      "text/plain": [
       "[1, 7, 13, 41, 53, 60, 71, 23]"
      ]
     },
     "execution_count": 4,
     "metadata": {},
     "output_type": "execute_result"
    }
   ],
   "source": [
    "lst1.extend([71,23]) #add multiple elements at the end\n",
    "lst1"
   ]
  },
  {
   "cell_type": "code",
   "execution_count": 5,
   "id": "1d5dba19-2b0d-4595-b813-599a661b879c",
   "metadata": {},
   "outputs": [
    {
     "data": {
      "text/plain": [
       "[1, 7, 13, 13, 41, 53, 60, 71, 23]"
      ]
     },
     "execution_count": 5,
     "metadata": {},
     "output_type": "execute_result"
    }
   ],
   "source": [
    "lst1.insert(3,13) #insert at a specific index\n",
    "lst1"
   ]
  },
  {
   "cell_type": "code",
   "execution_count": 6,
   "id": "a49dbf11-ed11-4f48-b91b-fa68145886f2",
   "metadata": {},
   "outputs": [
    {
     "data": {
      "text/plain": [
       "[1, 7, 13, 13, 41, 53, 71, 23]"
      ]
     },
     "execution_count": 6,
     "metadata": {},
     "output_type": "execute_result"
    }
   ],
   "source": [
    "lst1.remove(60) #remove first occurrence of an element\n",
    "lst1"
   ]
  },
  {
   "cell_type": "code",
   "execution_count": 7,
   "id": "885b4590-1af1-4195-8d12-a2077045ba5c",
   "metadata": {},
   "outputs": [
    {
     "name": "stdout",
     "output_type": "stream",
     "text": [
      "After pop(3): [1, 7, 13, 41, 53, 71, 23], Popped Element: 13\n"
     ]
    }
   ],
   "source": [
    "popped =lst1.pop(3) # Removes element at index 3\n",
    "print(f\"After pop(3): {lst1}, Popped Element: {popped}\")"
   ]
  },
  {
   "cell_type": "code",
   "execution_count": 8,
   "id": "e1809553-5fc5-46ea-88a6-f951e6e368c4",
   "metadata": {},
   "outputs": [
    {
     "data": {
      "text/plain": [
       "5"
      ]
     },
     "execution_count": 8,
     "metadata": {},
     "output_type": "execute_result"
    }
   ],
   "source": [
    "index_val =lst1.index(71) # find the index of an element\n",
    "index_val"
   ]
  },
  {
   "cell_type": "code",
   "execution_count": 9,
   "id": "aae3991d-7296-429c-a98d-4ca18bdb8085",
   "metadata": {},
   "outputs": [
    {
     "data": {
      "text/plain": [
       "1"
      ]
     },
     "execution_count": 9,
     "metadata": {},
     "output_type": "execute_result"
    }
   ],
   "source": [
    "count_val = lst1.count(13)#count() - count occurrences of an element\n",
    "count_val"
   ]
  },
  {
   "cell_type": "code",
   "execution_count": 10,
   "id": "8693f4db-ff19-489b-a0cf-a4d038688ee9",
   "metadata": {},
   "outputs": [
    {
     "data": {
      "text/plain": [
       "[1, 7, 13, 23, 41, 53, 71]"
      ]
     },
     "execution_count": 10,
     "metadata": {},
     "output_type": "execute_result"
    }
   ],
   "source": [
    "lst1.sort()#sort the list in ascending order\n",
    "lst1"
   ]
  },
  {
   "cell_type": "code",
   "execution_count": 11,
   "id": "d6cc6ded-cab3-444d-9026-73291821eefe",
   "metadata": {},
   "outputs": [
    {
     "data": {
      "text/plain": [
       "[71, 53, 41, 23, 13, 7, 1]"
      ]
     },
     "execution_count": 11,
     "metadata": {},
     "output_type": "execute_result"
    }
   ],
   "source": [
    "lst1.reverse() #reverse the order of list\n",
    "lst1"
   ]
  },
  {
   "cell_type": "code",
   "execution_count": 12,
   "id": "9b73b322-778f-4a28-aac8-e6d68180c74f",
   "metadata": {},
   "outputs": [
    {
     "data": {
      "text/plain": [
       "[]"
      ]
     },
     "execution_count": 12,
     "metadata": {},
     "output_type": "execute_result"
    }
   ],
   "source": [
    "lst1.clear() #remove all elements\n",
    "lst1"
   ]
  },
  {
   "cell_type": "markdown",
   "id": "c2c2648a-4b2b-4c6f-bede-3ffeb03c1996",
   "metadata": {},
   "source": [
    "### 2.\tCreate a tuple that stores 3 student names. Try changing the second name in the tuple. What happens? Explain why."
   ]
  },
  {
   "cell_type": "code",
   "execution_count": 13,
   "id": "ed6c04e9-a91c-427c-9f84-7f3b70a49e64",
   "metadata": {},
   "outputs": [],
   "source": [
    "students = (\"Alice\", \"Bob\", \"Charlie\")\n"
   ]
  },
  {
   "cell_type": "code",
   "execution_count": 14,
   "id": "928797a6-51b1-4720-bc57-4b1470fa287f",
   "metadata": {},
   "outputs": [
    {
     "ename": "TypeError",
     "evalue": "'tuple' object does not support item assignment",
     "output_type": "error",
     "traceback": [
      "\u001b[1;31m---------------------------------------------------------------------------\u001b[0m",
      "\u001b[1;31mTypeError\u001b[0m                                 Traceback (most recent call last)",
      "Cell \u001b[1;32mIn[14], line 1\u001b[0m\n\u001b[1;32m----> 1\u001b[0m students[\u001b[38;5;241m1\u001b[39m] \u001b[38;5;241m=\u001b[39m \u001b[38;5;124m\"\u001b[39m\u001b[38;5;124mDavid\u001b[39m\u001b[38;5;124m\"\u001b[39m\n",
      "\u001b[1;31mTypeError\u001b[0m: 'tuple' object does not support item assignment"
     ]
    }
   ],
   "source": [
    "students[1] = \"David\""
   ]
  },
  {
   "cell_type": "markdown",
   "id": "ea7f186c-c869-4b25-a26c-ca48449890ce",
   "metadata": {},
   "source": [
    "## Explanation"
   ]
  },
  {
   "cell_type": "markdown",
   "id": "93b6232a-9a68-47e1-9f36-999cbe3b9e5d",
   "metadata": {},
   "source": [
    "###### 1.Tuples in Python are immutable, meaning once created, their elements cannot be changed, added, or removed.\n",
    "\n",
    "2.That’s why trying to do students[1] = \"David\" gives a TypeError.\n",
    "\n",
    "3.If you need a collection where elements can be changed, you should use a list instead of a tuple"
   ]
  },
  {
   "cell_type": "markdown",
   "id": "3311af4c-0c0c-4308-a5c8-e3aef92ae01d",
   "metadata": {},
   "source": [
    "### 3.\tCreate a set of integers with some duplicate values. Print the set and explain the output."
   ]
  },
  {
   "cell_type": "code",
   "execution_count": null,
   "id": "c6aee49e-6950-4a75-945d-181cb0d23493",
   "metadata": {},
   "outputs": [],
   "source": [
    "numbers = {10, 20, 30, 20, 40, 10, 50}\n",
    "print(f'Sets in Python do not allow duplicate values:{numbers}')"
   ]
  },
  {
   "cell_type": "markdown",
   "id": "6ba43f50-7dc5-4f46-9481-870f30783517",
   "metadata": {},
   "source": [
    "### 4.\tCreate a dictionary with the keys: 'name', 'age', and 'city'. Update the age and add a new key 'email'. Print the final dictionary."
   ]
  },
  {
   "cell_type": "code",
   "execution_count": 15,
   "id": "05651ff7-da72-4638-ab93-f6ef5671a85a",
   "metadata": {},
   "outputs": [
    {
     "name": "stdout",
     "output_type": "stream",
     "text": [
      "Original dictionary:{'name': 'Alice', 'age': 25, 'city': 'New York'}\n"
     ]
    }
   ],
   "source": [
    "person = {\"name\": \"Alice\",\"age\": 25,\"city\": \"New York\"}\n",
    "print(f'Original dictionary:{person}')"
   ]
  },
  {
   "cell_type": "code",
   "execution_count": 16,
   "id": "38a18b0f-535a-48b1-87f5-35a47739e540",
   "metadata": {},
   "outputs": [
    {
     "data": {
      "text/plain": [
       "{'name': 'Alice', 'age': 26, 'city': 'New York'}"
      ]
     },
     "execution_count": 16,
     "metadata": {},
     "output_type": "execute_result"
    }
   ],
   "source": [
    "person[\"age\"]=26 #update the age\n",
    "person"
   ]
  },
  {
   "cell_type": "code",
   "execution_count": 17,
   "id": "e0b6316d-0d62-45f5-9a86-80c887ef3153",
   "metadata": {},
   "outputs": [
    {
     "name": "stdout",
     "output_type": "stream",
     "text": [
      "Updated dictionary:{'name': 'Alice', 'age': 26, 'city': 'New York', 'email': 'alice@example.com'}\n"
     ]
    }
   ],
   "source": [
    "person[\"email\"] = \"alice@example.com\" #Add a new key 'email'\n",
    "print(f'Updated dictionary:{person}')"
   ]
  },
  {
   "cell_type": "markdown",
   "id": "9e5cbf7e-21cd-434b-b3c1-58298892b76d",
   "metadata": {},
   "source": [
    "### Write a script that checks if a person is eligible to vote (age ≥ 18). Take age as a variable and print the appropriate message."
   ]
  },
  {
   "cell_type": "code",
   "execution_count": 19,
   "id": "03373ec6-69f6-44ff-99a5-d894ca46ede1",
   "metadata": {},
   "outputs": [
    {
     "name": "stdin",
     "output_type": "stream",
     "text": [
      "Enter your age:  12\n"
     ]
    },
    {
     "name": "stdout",
     "output_type": "stream",
     "text": [
      "You are not eligible to vote\n"
     ]
    }
   ],
   "source": [
    "age = int(input(\"Enter your age: \"))\n",
    "if age >= 18:\n",
    "    print(\"You are eligible to vote\")\n",
    "else:\n",
    "    print(\"You are not eligible to vote\")"
   ]
  },
  {
   "cell_type": "markdown",
   "id": "d34f8527-4faa-4eee-92e3-bb46b291a76e",
   "metadata": {},
   "source": [
    "### 6.\tGiven a 'marks' variable, print the grade:\n",
    "- 90 and above: 'A'\n",
    "- 75–89: 'B'\n",
    "- 50–74: 'C'\n",
    "- Below 50: 'Fail'\n"
   ]
  },
  {
   "cell_type": "code",
   "execution_count": 69,
   "id": "5383fe0a-0f63-40ac-83ef-77a28874d57f",
   "metadata": {},
   "outputs": [
    {
     "name": "stdin",
     "output_type": "stream",
     "text": [
      "Give any marks:  57\n"
     ]
    },
    {
     "name": "stdout",
     "output_type": "stream",
     "text": [
      "Grade: C\n"
     ]
    }
   ],
   "source": [
    "marks = int(input(\"Give any marks: \"))\n",
    "\n",
    "# Check grade\n",
    "if marks >= 90:\n",
    "    print(\"Grade: A\")\n",
    "elif marks >= 75:\n",
    "    print(\"Grade: B\")\n",
    "elif marks >= 50:\n",
    "    print(\"Grade: C\")\n",
    "else:\n",
    "    print(\"Grade: Fail\")\n"
   ]
  },
  {
   "cell_type": "markdown",
   "id": "4b76f055-15e4-47a5-a46a-4618d36ef54b",
   "metadata": {},
   "source": [
    "### 7.\tGiven a number, check if it's positive, and if it is also even. If not positive, print if it's zero or negative."
   ]
  },
  {
   "cell_type": "code",
   "execution_count": 70,
   "id": "41afd0fd-5c99-4e0a-ad21-3c1cd005dac6",
   "metadata": {},
   "outputs": [],
   "source": [
    "def zero_or_nagative(num):\n",
    "    if num > 0:\n",
    "        print(\"The number is positive.\")\n",
    "        if num % 2 == 0:\n",
    "            print(\"It is also even.\")\n",
    "        else:\n",
    "            print(\"It is odd.\")\n",
    "    elif num == 0:\n",
    "        print(\"The number is zero.\")\n",
    "    else:\n",
    "        print(\"The number is negative.\")"
   ]
  },
  {
   "cell_type": "code",
   "execution_count": 72,
   "id": "38bf0bc5-b76c-4b55-b7bf-599874a7f1ae",
   "metadata": {},
   "outputs": [
    {
     "name": "stdin",
     "output_type": "stream",
     "text": [
      "Enter a number:  -3\n"
     ]
    },
    {
     "name": "stdout",
     "output_type": "stream",
     "text": [
      "The number is negative.\n"
     ]
    }
   ],
   "source": [
    "num = int(input(\"Enter a number: \"))\n",
    "zero_or_nagative(num)"
   ]
  },
  {
   "cell_type": "markdown",
   "id": "9fd49a73-4c31-4fb6-95e4-824d95d49509",
   "metadata": {},
   "source": [
    "### 8.\tCreate:\n",
    "- A scalar using np.array(5)\n",
    "- A 1D array with values 1 to 5\n",
    "- A 2D array (2x3) with values from 10 to 60 in steps of 10\n"
   ]
  },
  {
   "cell_type": "code",
   "execution_count": 20,
   "id": "8b23dd44-00f7-43b8-b6c0-496c9040f1ba",
   "metadata": {},
   "outputs": [],
   "source": [
    "import numpy as np"
   ]
  },
  {
   "cell_type": "code",
   "execution_count": 21,
   "id": "97d944a0-68b8-4e1f-a0ca-483a8a7c43f0",
   "metadata": {},
   "outputs": [
    {
     "data": {
      "text/plain": [
       "array(5)"
      ]
     },
     "execution_count": 21,
     "metadata": {},
     "output_type": "execute_result"
    }
   ],
   "source": [
    "scalar = np.array(5)\n",
    "scalar\n"
   ]
  },
  {
   "cell_type": "code",
   "execution_count": 22,
   "id": "9517a5a0-a411-4409-bb21-3de36f3bbf3b",
   "metadata": {},
   "outputs": [
    {
     "data": {
      "text/plain": [
       "array([1, 2, 3, 4, 5])"
      ]
     },
     "execution_count": 22,
     "metadata": {},
     "output_type": "execute_result"
    }
   ],
   "source": [
    "one_d_array = np.array([1, 2, 3, 4, 5])#1D array with values 1 to 5\n",
    "one_d_array"
   ]
  },
  {
   "cell_type": "code",
   "execution_count": 23,
   "id": "720afd48-6c55-4bb2-8fe0-567a0afb85db",
   "metadata": {},
   "outputs": [
    {
     "data": {
      "text/plain": [
       "array([[11, 22, 33],\n",
       "       [44, 54, 64]])"
      ]
     },
     "execution_count": 23,
     "metadata": {},
     "output_type": "execute_result"
    }
   ],
   "source": [
    "two_d_array= np.array([[11, 22, 33],\n",
    "                  [44, 54, 64]])\n",
    "two_d_array #2D array (2x3) with values 10 to 60 in steps of 10"
   ]
  },
  {
   "cell_type": "markdown",
   "id": "848adcaf-9108-451f-86e0-36abb5fdd2cf",
   "metadata": {},
   "source": [
    "### 9.\tGenerate a 4x4 Numpy array of random integers between 0 and 100 using np.random.randint()."
   ]
  },
  {
   "cell_type": "code",
   "execution_count": 24,
   "id": "afb50d0d-489e-4cf7-864a-d78037e1d493",
   "metadata": {},
   "outputs": [
    {
     "data": {
      "text/plain": [
       "array([[95, 26, 91, 59],\n",
       "       [19, 92,  1, 90],\n",
       "       [56, 86, 60, 74],\n",
       "       [87, 35, 97, 49]], dtype=int32)"
      ]
     },
     "execution_count": 24,
     "metadata": {},
     "output_type": "execute_result"
    }
   ],
   "source": [
    "arr = np.random.randint(0, 101, size=(4, 4))\n",
    "arr"
   ]
  },
  {
   "cell_type": "markdown",
   "id": "9a66dc87-f4bf-4b22-81ec-6f1f6c9feb52",
   "metadata": {},
   "source": [
    "### 10.\tCreate a 2D numpy array of shape (3x3). Convert it into a pandas DataFrame and add column names: 'A', 'B', 'C'."
   ]
  },
  {
   "cell_type": "code",
   "execution_count": 25,
   "id": "5d5478f9-097b-41e7-ad5b-d453c9f7bf48",
   "metadata": {},
   "outputs": [],
   "source": [
    "import pandas as pd"
   ]
  },
  {
   "cell_type": "code",
   "execution_count": 26,
   "id": "ee44a77c-c4e4-4fe6-9852-1fa826503913",
   "metadata": {},
   "outputs": [
    {
     "data": {
      "text/plain": [
       "array([[95, 26, 91],\n",
       "       [19, 92,  1],\n",
       "       [56, 86, 60]], dtype=int32)"
      ]
     },
     "execution_count": 26,
     "metadata": {},
     "output_type": "execute_result"
    }
   ],
   "source": [
    "arr1=arr[:3,:3]\n",
    "arr1"
   ]
  },
  {
   "cell_type": "code",
   "execution_count": 27,
   "id": "c1968666-ff1c-4a75-9fb3-4c462185a202",
   "metadata": {},
   "outputs": [
    {
     "data": {
      "text/html": [
       "<div>\n",
       "<style scoped>\n",
       "    .dataframe tbody tr th:only-of-type {\n",
       "        vertical-align: middle;\n",
       "    }\n",
       "\n",
       "    .dataframe tbody tr th {\n",
       "        vertical-align: top;\n",
       "    }\n",
       "\n",
       "    .dataframe thead th {\n",
       "        text-align: right;\n",
       "    }\n",
       "</style>\n",
       "<table border=\"1\" class=\"dataframe\">\n",
       "  <thead>\n",
       "    <tr style=\"text-align: right;\">\n",
       "      <th></th>\n",
       "      <th>A</th>\n",
       "      <th>B</th>\n",
       "      <th>C</th>\n",
       "    </tr>\n",
       "  </thead>\n",
       "  <tbody>\n",
       "    <tr>\n",
       "      <th>0</th>\n",
       "      <td>95</td>\n",
       "      <td>26</td>\n",
       "      <td>91</td>\n",
       "    </tr>\n",
       "    <tr>\n",
       "      <th>1</th>\n",
       "      <td>19</td>\n",
       "      <td>92</td>\n",
       "      <td>1</td>\n",
       "    </tr>\n",
       "    <tr>\n",
       "      <th>2</th>\n",
       "      <td>56</td>\n",
       "      <td>86</td>\n",
       "      <td>60</td>\n",
       "    </tr>\n",
       "  </tbody>\n",
       "</table>\n",
       "</div>"
      ],
      "text/plain": [
       "    A   B   C\n",
       "0  95  26  91\n",
       "1  19  92   1\n",
       "2  56  86  60"
      ]
     },
     "execution_count": 27,
     "metadata": {},
     "output_type": "execute_result"
    }
   ],
   "source": [
    "df = pd.DataFrame(arr1, columns=['A', 'B', 'C'])\n",
    "df"
   ]
  },
  {
   "cell_type": "markdown",
   "id": "f2e898ce-80fc-42d1-9e8e-f5d8cc355917",
   "metadata": {},
   "source": [
    "### Section C: Exploring Pandas\n"
   ]
  },
  {
   "cell_type": "markdown",
   "id": "5751cff8-78d9-4bff-8077-a13c923b4deb",
   "metadata": {},
   "source": [
    "#### 1. Create a small DataFrame manually with 10 rows and columns: 'Name', 'Age', 'City', and 'Salary'. Then:\n",
    "\n",
    "\n",
    "- Use .info(), .describe()\n",
    "- Select 'Name' and 'City' columns\n",
    "- Drop 'City' column\n",
    "- Fill any missing values in 'Salary' column with the mean\n",
    "- Remove any duplicate rows\n",
    "\n"
   ]
  },
  {
   "cell_type": "code",
   "execution_count": 76,
   "id": "1d04ea60-1513-4946-96ae-b77eca3e872b",
   "metadata": {},
   "outputs": [],
   "source": [
    "data = {\n",
    "    'Name': ['Alice', 'Bob', 'Charlie', 'David', 'Eva', 'Frank', 'David', 'Hannah', 'Ian', 'Jack'],\n",
    "    'Age': [25, 30, 35, 40, 28, 32, 40, 27, 29, 35],\n",
    "    'City': ['New York', 'Los Angeles', 'Chicago', 'Houston', 'Miami', 'Chicago', 'Miami', 'New York', 'Houston', 'Miami'],\n",
    "    'Salary': [50000, 60000, 55000, None, 48000, 60000, None, None, 52000, 48000]\n",
    "}"
   ]
  },
  {
   "cell_type": "code",
   "execution_count": 77,
   "id": "37906dbc-521b-4101-bb81-016ee9b552f9",
   "metadata": {},
   "outputs": [
    {
     "data": {
      "text/html": [
       "<div>\n",
       "<style scoped>\n",
       "    .dataframe tbody tr th:only-of-type {\n",
       "        vertical-align: middle;\n",
       "    }\n",
       "\n",
       "    .dataframe tbody tr th {\n",
       "        vertical-align: top;\n",
       "    }\n",
       "\n",
       "    .dataframe thead th {\n",
       "        text-align: right;\n",
       "    }\n",
       "</style>\n",
       "<table border=\"1\" class=\"dataframe\">\n",
       "  <thead>\n",
       "    <tr style=\"text-align: right;\">\n",
       "      <th></th>\n",
       "      <th>Name</th>\n",
       "      <th>Age</th>\n",
       "      <th>City</th>\n",
       "      <th>Salary</th>\n",
       "    </tr>\n",
       "  </thead>\n",
       "  <tbody>\n",
       "    <tr>\n",
       "      <th>0</th>\n",
       "      <td>Alice</td>\n",
       "      <td>25</td>\n",
       "      <td>New York</td>\n",
       "      <td>50000.0</td>\n",
       "    </tr>\n",
       "    <tr>\n",
       "      <th>1</th>\n",
       "      <td>Bob</td>\n",
       "      <td>30</td>\n",
       "      <td>Los Angeles</td>\n",
       "      <td>60000.0</td>\n",
       "    </tr>\n",
       "    <tr>\n",
       "      <th>2</th>\n",
       "      <td>Charlie</td>\n",
       "      <td>35</td>\n",
       "      <td>Chicago</td>\n",
       "      <td>55000.0</td>\n",
       "    </tr>\n",
       "    <tr>\n",
       "      <th>3</th>\n",
       "      <td>David</td>\n",
       "      <td>40</td>\n",
       "      <td>Houston</td>\n",
       "      <td>NaN</td>\n",
       "    </tr>\n",
       "    <tr>\n",
       "      <th>4</th>\n",
       "      <td>Eva</td>\n",
       "      <td>28</td>\n",
       "      <td>Miami</td>\n",
       "      <td>48000.0</td>\n",
       "    </tr>\n",
       "    <tr>\n",
       "      <th>5</th>\n",
       "      <td>Frank</td>\n",
       "      <td>32</td>\n",
       "      <td>Chicago</td>\n",
       "      <td>60000.0</td>\n",
       "    </tr>\n",
       "    <tr>\n",
       "      <th>6</th>\n",
       "      <td>David</td>\n",
       "      <td>40</td>\n",
       "      <td>Miami</td>\n",
       "      <td>NaN</td>\n",
       "    </tr>\n",
       "    <tr>\n",
       "      <th>7</th>\n",
       "      <td>Hannah</td>\n",
       "      <td>27</td>\n",
       "      <td>New York</td>\n",
       "      <td>NaN</td>\n",
       "    </tr>\n",
       "    <tr>\n",
       "      <th>8</th>\n",
       "      <td>Ian</td>\n",
       "      <td>29</td>\n",
       "      <td>Houston</td>\n",
       "      <td>52000.0</td>\n",
       "    </tr>\n",
       "    <tr>\n",
       "      <th>9</th>\n",
       "      <td>Jack</td>\n",
       "      <td>35</td>\n",
       "      <td>Miami</td>\n",
       "      <td>48000.0</td>\n",
       "    </tr>\n",
       "  </tbody>\n",
       "</table>\n",
       "</div>"
      ],
      "text/plain": [
       "      Name  Age         City   Salary\n",
       "0    Alice   25     New York  50000.0\n",
       "1      Bob   30  Los Angeles  60000.0\n",
       "2  Charlie   35      Chicago  55000.0\n",
       "3    David   40      Houston      NaN\n",
       "4      Eva   28        Miami  48000.0\n",
       "5    Frank   32      Chicago  60000.0\n",
       "6    David   40        Miami      NaN\n",
       "7   Hannah   27     New York      NaN\n",
       "8      Ian   29      Houston  52000.0\n",
       "9     Jack   35        Miami  48000.0"
      ]
     },
     "execution_count": 77,
     "metadata": {},
     "output_type": "execute_result"
    }
   ],
   "source": [
    "df = pd.DataFrame(data)\n",
    "df"
   ]
  },
  {
   "cell_type": "code",
   "execution_count": 78,
   "id": "ab20d5c0-93af-470a-88cc-1da087439100",
   "metadata": {},
   "outputs": [
    {
     "data": {
      "text/plain": [
       "(10, 4)"
      ]
     },
     "execution_count": 78,
     "metadata": {},
     "output_type": "execute_result"
    }
   ],
   "source": [
    "df.shape"
   ]
  },
  {
   "cell_type": "code",
   "execution_count": 79,
   "id": "64b2638f-f347-484e-ac10-76c2cc7ac099",
   "metadata": {},
   "outputs": [
    {
     "name": "stdout",
     "output_type": "stream",
     "text": [
      "<class 'pandas.core.frame.DataFrame'>\n",
      "RangeIndex: 10 entries, 0 to 9\n",
      "Data columns (total 4 columns):\n",
      " #   Column  Non-Null Count  Dtype  \n",
      "---  ------  --------------  -----  \n",
      " 0   Name    10 non-null     object \n",
      " 1   Age     10 non-null     int64  \n",
      " 2   City    10 non-null     object \n",
      " 3   Salary  7 non-null      float64\n",
      "dtypes: float64(1), int64(1), object(2)\n",
      "memory usage: 452.0+ bytes\n"
     ]
    }
   ],
   "source": [
    "df.info()"
   ]
  },
  {
   "cell_type": "code",
   "execution_count": 80,
   "id": "9b96411c-8bd7-46a9-a588-b74c48905381",
   "metadata": {},
   "outputs": [
    {
     "data": {
      "text/html": [
       "<div>\n",
       "<style scoped>\n",
       "    .dataframe tbody tr th:only-of-type {\n",
       "        vertical-align: middle;\n",
       "    }\n",
       "\n",
       "    .dataframe tbody tr th {\n",
       "        vertical-align: top;\n",
       "    }\n",
       "\n",
       "    .dataframe thead th {\n",
       "        text-align: right;\n",
       "    }\n",
       "</style>\n",
       "<table border=\"1\" class=\"dataframe\">\n",
       "  <thead>\n",
       "    <tr style=\"text-align: right;\">\n",
       "      <th></th>\n",
       "      <th>Age</th>\n",
       "      <th>Salary</th>\n",
       "    </tr>\n",
       "  </thead>\n",
       "  <tbody>\n",
       "    <tr>\n",
       "      <th>count</th>\n",
       "      <td>10.000000</td>\n",
       "      <td>7.000000</td>\n",
       "    </tr>\n",
       "    <tr>\n",
       "      <th>mean</th>\n",
       "      <td>32.100000</td>\n",
       "      <td>53285.714286</td>\n",
       "    </tr>\n",
       "    <tr>\n",
       "      <th>std</th>\n",
       "      <td>5.258855</td>\n",
       "      <td>5186.980037</td>\n",
       "    </tr>\n",
       "    <tr>\n",
       "      <th>min</th>\n",
       "      <td>25.000000</td>\n",
       "      <td>48000.000000</td>\n",
       "    </tr>\n",
       "    <tr>\n",
       "      <th>25%</th>\n",
       "      <td>28.250000</td>\n",
       "      <td>49000.000000</td>\n",
       "    </tr>\n",
       "    <tr>\n",
       "      <th>50%</th>\n",
       "      <td>31.000000</td>\n",
       "      <td>52000.000000</td>\n",
       "    </tr>\n",
       "    <tr>\n",
       "      <th>75%</th>\n",
       "      <td>35.000000</td>\n",
       "      <td>57500.000000</td>\n",
       "    </tr>\n",
       "    <tr>\n",
       "      <th>max</th>\n",
       "      <td>40.000000</td>\n",
       "      <td>60000.000000</td>\n",
       "    </tr>\n",
       "  </tbody>\n",
       "</table>\n",
       "</div>"
      ],
      "text/plain": [
       "             Age        Salary\n",
       "count  10.000000      7.000000\n",
       "mean   32.100000  53285.714286\n",
       "std     5.258855   5186.980037\n",
       "min    25.000000  48000.000000\n",
       "25%    28.250000  49000.000000\n",
       "50%    31.000000  52000.000000\n",
       "75%    35.000000  57500.000000\n",
       "max    40.000000  60000.000000"
      ]
     },
     "execution_count": 80,
     "metadata": {},
     "output_type": "execute_result"
    }
   ],
   "source": [
    "df.describe()"
   ]
  },
  {
   "cell_type": "code",
   "execution_count": 81,
   "id": "aa6054f5-7c10-4df8-bb7e-c5d5a1a6c00b",
   "metadata": {},
   "outputs": [
    {
     "data": {
      "text/html": [
       "<div>\n",
       "<style scoped>\n",
       "    .dataframe tbody tr th:only-of-type {\n",
       "        vertical-align: middle;\n",
       "    }\n",
       "\n",
       "    .dataframe tbody tr th {\n",
       "        vertical-align: top;\n",
       "    }\n",
       "\n",
       "    .dataframe thead th {\n",
       "        text-align: right;\n",
       "    }\n",
       "</style>\n",
       "<table border=\"1\" class=\"dataframe\">\n",
       "  <thead>\n",
       "    <tr style=\"text-align: right;\">\n",
       "      <th></th>\n",
       "      <th>Name</th>\n",
       "      <th>City</th>\n",
       "    </tr>\n",
       "  </thead>\n",
       "  <tbody>\n",
       "    <tr>\n",
       "      <th>0</th>\n",
       "      <td>Alice</td>\n",
       "      <td>New York</td>\n",
       "    </tr>\n",
       "    <tr>\n",
       "      <th>1</th>\n",
       "      <td>Bob</td>\n",
       "      <td>Los Angeles</td>\n",
       "    </tr>\n",
       "    <tr>\n",
       "      <th>2</th>\n",
       "      <td>Charlie</td>\n",
       "      <td>Chicago</td>\n",
       "    </tr>\n",
       "    <tr>\n",
       "      <th>3</th>\n",
       "      <td>David</td>\n",
       "      <td>Houston</td>\n",
       "    </tr>\n",
       "    <tr>\n",
       "      <th>4</th>\n",
       "      <td>Eva</td>\n",
       "      <td>Miami</td>\n",
       "    </tr>\n",
       "    <tr>\n",
       "      <th>5</th>\n",
       "      <td>Frank</td>\n",
       "      <td>Chicago</td>\n",
       "    </tr>\n",
       "    <tr>\n",
       "      <th>6</th>\n",
       "      <td>David</td>\n",
       "      <td>Miami</td>\n",
       "    </tr>\n",
       "    <tr>\n",
       "      <th>7</th>\n",
       "      <td>Hannah</td>\n",
       "      <td>New York</td>\n",
       "    </tr>\n",
       "    <tr>\n",
       "      <th>8</th>\n",
       "      <td>Ian</td>\n",
       "      <td>Houston</td>\n",
       "    </tr>\n",
       "    <tr>\n",
       "      <th>9</th>\n",
       "      <td>Jack</td>\n",
       "      <td>Miami</td>\n",
       "    </tr>\n",
       "  </tbody>\n",
       "</table>\n",
       "</div>"
      ],
      "text/plain": [
       "      Name         City\n",
       "0    Alice     New York\n",
       "1      Bob  Los Angeles\n",
       "2  Charlie      Chicago\n",
       "3    David      Houston\n",
       "4      Eva        Miami\n",
       "5    Frank      Chicago\n",
       "6    David        Miami\n",
       "7   Hannah     New York\n",
       "8      Ian      Houston\n",
       "9     Jack        Miami"
      ]
     },
     "execution_count": 81,
     "metadata": {},
     "output_type": "execute_result"
    }
   ],
   "source": [
    "df[['Name', 'City']]"
   ]
  },
  {
   "cell_type": "code",
   "execution_count": 82,
   "id": "959baf25-1cdc-4569-ba4b-4b1ae1bb82c4",
   "metadata": {},
   "outputs": [],
   "source": [
    "df_dropped = df.drop(columns=['City'] ,inplace=True)\n",
    "df_dropped"
   ]
  },
  {
   "cell_type": "code",
   "execution_count": 83,
   "id": "b669eb7c-9e9c-4ea1-87de-554a71f7134d",
   "metadata": {},
   "outputs": [
    {
     "data": {
      "text/plain": [
       "np.float64(53285.71428571428)"
      ]
     },
     "execution_count": 83,
     "metadata": {},
     "output_type": "execute_result"
    }
   ],
   "source": [
    "mean_salary = df['Salary'].mean()\n",
    "mean_salary"
   ]
  },
  {
   "cell_type": "code",
   "execution_count": 90,
   "id": "50ba40b1-fa57-4ad2-83e1-177ce3eef780",
   "metadata": {},
   "outputs": [
    {
     "data": {
      "text/html": [
       "<div>\n",
       "<style scoped>\n",
       "    .dataframe tbody tr th:only-of-type {\n",
       "        vertical-align: middle;\n",
       "    }\n",
       "\n",
       "    .dataframe tbody tr th {\n",
       "        vertical-align: top;\n",
       "    }\n",
       "\n",
       "    .dataframe thead th {\n",
       "        text-align: right;\n",
       "    }\n",
       "</style>\n",
       "<table border=\"1\" class=\"dataframe\">\n",
       "  <thead>\n",
       "    <tr style=\"text-align: right;\">\n",
       "      <th></th>\n",
       "      <th>Name</th>\n",
       "      <th>Age</th>\n",
       "      <th>Salary</th>\n",
       "    </tr>\n",
       "  </thead>\n",
       "  <tbody>\n",
       "    <tr>\n",
       "      <th>0</th>\n",
       "      <td>Alice</td>\n",
       "      <td>25</td>\n",
       "      <td>53285.714286</td>\n",
       "    </tr>\n",
       "    <tr>\n",
       "      <th>1</th>\n",
       "      <td>Bob</td>\n",
       "      <td>30</td>\n",
       "      <td>53285.714286</td>\n",
       "    </tr>\n",
       "    <tr>\n",
       "      <th>2</th>\n",
       "      <td>Charlie</td>\n",
       "      <td>35</td>\n",
       "      <td>53285.714286</td>\n",
       "    </tr>\n",
       "    <tr>\n",
       "      <th>3</th>\n",
       "      <td>David</td>\n",
       "      <td>40</td>\n",
       "      <td>53285.714286</td>\n",
       "    </tr>\n",
       "    <tr>\n",
       "      <th>4</th>\n",
       "      <td>Eva</td>\n",
       "      <td>28</td>\n",
       "      <td>53285.714286</td>\n",
       "    </tr>\n",
       "    <tr>\n",
       "      <th>5</th>\n",
       "      <td>Frank</td>\n",
       "      <td>32</td>\n",
       "      <td>53285.714286</td>\n",
       "    </tr>\n",
       "    <tr>\n",
       "      <th>6</th>\n",
       "      <td>David</td>\n",
       "      <td>40</td>\n",
       "      <td>53285.714286</td>\n",
       "    </tr>\n",
       "    <tr>\n",
       "      <th>7</th>\n",
       "      <td>Hannah</td>\n",
       "      <td>27</td>\n",
       "      <td>53285.714286</td>\n",
       "    </tr>\n",
       "    <tr>\n",
       "      <th>8</th>\n",
       "      <td>Ian</td>\n",
       "      <td>29</td>\n",
       "      <td>53285.714286</td>\n",
       "    </tr>\n",
       "    <tr>\n",
       "      <th>9</th>\n",
       "      <td>Jack</td>\n",
       "      <td>35</td>\n",
       "      <td>53285.714286</td>\n",
       "    </tr>\n",
       "  </tbody>\n",
       "</table>\n",
       "</div>"
      ],
      "text/plain": [
       "      Name  Age        Salary\n",
       "0    Alice   25  53285.714286\n",
       "1      Bob   30  53285.714286\n",
       "2  Charlie   35  53285.714286\n",
       "3    David   40  53285.714286\n",
       "4      Eva   28  53285.714286\n",
       "5    Frank   32  53285.714286\n",
       "6    David   40  53285.714286\n",
       "7   Hannah   27  53285.714286\n",
       "8      Ian   29  53285.714286\n",
       "9     Jack   35  53285.714286"
      ]
     },
     "execution_count": 90,
     "metadata": {},
     "output_type": "execute_result"
    }
   ],
   "source": [
    "import warnings\n",
    "warnings.filterwarnings('ignore')\n",
    "df['Salary'] =df['Salary'].fillna(mean_salary)\n",
    "df"
   ]
  },
  {
   "cell_type": "code",
   "execution_count": 91,
   "id": "cf7169b8-ba2e-43db-a71d-a0472a07c6d2",
   "metadata": {},
   "outputs": [
    {
     "data": {
      "text/plain": [
       "np.int64(1)"
      ]
     },
     "execution_count": 91,
     "metadata": {},
     "output_type": "execute_result"
    }
   ],
   "source": [
    "df.duplicated().sum()"
   ]
  },
  {
   "cell_type": "code",
   "execution_count": 92,
   "id": "6e4b3b68-fb5a-49d1-98eb-75046d4d595b",
   "metadata": {},
   "outputs": [
    {
     "data": {
      "text/html": [
       "<div>\n",
       "<style scoped>\n",
       "    .dataframe tbody tr th:only-of-type {\n",
       "        vertical-align: middle;\n",
       "    }\n",
       "\n",
       "    .dataframe tbody tr th {\n",
       "        vertical-align: top;\n",
       "    }\n",
       "\n",
       "    .dataframe thead th {\n",
       "        text-align: right;\n",
       "    }\n",
       "</style>\n",
       "<table border=\"1\" class=\"dataframe\">\n",
       "  <thead>\n",
       "    <tr style=\"text-align: right;\">\n",
       "      <th></th>\n",
       "      <th>Name</th>\n",
       "      <th>Age</th>\n",
       "      <th>Salary</th>\n",
       "    </tr>\n",
       "  </thead>\n",
       "  <tbody>\n",
       "    <tr>\n",
       "      <th>0</th>\n",
       "      <td>Alice</td>\n",
       "      <td>25</td>\n",
       "      <td>53285.714286</td>\n",
       "    </tr>\n",
       "    <tr>\n",
       "      <th>1</th>\n",
       "      <td>Bob</td>\n",
       "      <td>30</td>\n",
       "      <td>53285.714286</td>\n",
       "    </tr>\n",
       "    <tr>\n",
       "      <th>2</th>\n",
       "      <td>Charlie</td>\n",
       "      <td>35</td>\n",
       "      <td>53285.714286</td>\n",
       "    </tr>\n",
       "    <tr>\n",
       "      <th>3</th>\n",
       "      <td>David</td>\n",
       "      <td>40</td>\n",
       "      <td>53285.714286</td>\n",
       "    </tr>\n",
       "    <tr>\n",
       "      <th>4</th>\n",
       "      <td>Eva</td>\n",
       "      <td>28</td>\n",
       "      <td>53285.714286</td>\n",
       "    </tr>\n",
       "    <tr>\n",
       "      <th>5</th>\n",
       "      <td>Frank</td>\n",
       "      <td>32</td>\n",
       "      <td>53285.714286</td>\n",
       "    </tr>\n",
       "    <tr>\n",
       "      <th>7</th>\n",
       "      <td>Hannah</td>\n",
       "      <td>27</td>\n",
       "      <td>53285.714286</td>\n",
       "    </tr>\n",
       "    <tr>\n",
       "      <th>8</th>\n",
       "      <td>Ian</td>\n",
       "      <td>29</td>\n",
       "      <td>53285.714286</td>\n",
       "    </tr>\n",
       "    <tr>\n",
       "      <th>9</th>\n",
       "      <td>Jack</td>\n",
       "      <td>35</td>\n",
       "      <td>53285.714286</td>\n",
       "    </tr>\n",
       "  </tbody>\n",
       "</table>\n",
       "</div>"
      ],
      "text/plain": [
       "      Name  Age        Salary\n",
       "0    Alice   25  53285.714286\n",
       "1      Bob   30  53285.714286\n",
       "2  Charlie   35  53285.714286\n",
       "3    David   40  53285.714286\n",
       "4      Eva   28  53285.714286\n",
       "5    Frank   32  53285.714286\n",
       "7   Hannah   27  53285.714286\n",
       "8      Ian   29  53285.714286\n",
       "9     Jack   35  53285.714286"
      ]
     },
     "execution_count": 92,
     "metadata": {},
     "output_type": "execute_result"
    }
   ],
   "source": [
    "df_no_duplicates = df.drop_duplicates()\n",
    "df_no_duplicates"
   ]
  },
  {
   "cell_type": "code",
   "execution_count": 93,
   "id": "08ae0692-4bf1-40e1-aeaf-9a9ad8c0c8d2",
   "metadata": {},
   "outputs": [
    {
     "data": {
      "text/html": [
       "<div>\n",
       "<style scoped>\n",
       "    .dataframe tbody tr th:only-of-type {\n",
       "        vertical-align: middle;\n",
       "    }\n",
       "\n",
       "    .dataframe tbody tr th {\n",
       "        vertical-align: top;\n",
       "    }\n",
       "\n",
       "    .dataframe thead th {\n",
       "        text-align: right;\n",
       "    }\n",
       "</style>\n",
       "<table border=\"1\" class=\"dataframe\">\n",
       "  <thead>\n",
       "    <tr style=\"text-align: right;\">\n",
       "      <th></th>\n",
       "      <th>Name</th>\n",
       "      <th>Age</th>\n",
       "      <th>Salary</th>\n",
       "    </tr>\n",
       "  </thead>\n",
       "  <tbody>\n",
       "    <tr>\n",
       "      <th>0</th>\n",
       "      <td>Alice</td>\n",
       "      <td>25</td>\n",
       "      <td>53285.714286</td>\n",
       "    </tr>\n",
       "    <tr>\n",
       "      <th>1</th>\n",
       "      <td>Bob</td>\n",
       "      <td>30</td>\n",
       "      <td>53285.714286</td>\n",
       "    </tr>\n",
       "    <tr>\n",
       "      <th>2</th>\n",
       "      <td>Charlie</td>\n",
       "      <td>35</td>\n",
       "      <td>53285.714286</td>\n",
       "    </tr>\n",
       "    <tr>\n",
       "      <th>3</th>\n",
       "      <td>David</td>\n",
       "      <td>40</td>\n",
       "      <td>53285.714286</td>\n",
       "    </tr>\n",
       "    <tr>\n",
       "      <th>4</th>\n",
       "      <td>Eva</td>\n",
       "      <td>28</td>\n",
       "      <td>53285.714286</td>\n",
       "    </tr>\n",
       "    <tr>\n",
       "      <th>5</th>\n",
       "      <td>Frank</td>\n",
       "      <td>32</td>\n",
       "      <td>53285.714286</td>\n",
       "    </tr>\n",
       "    <tr>\n",
       "      <th>6</th>\n",
       "      <td>Hannah</td>\n",
       "      <td>27</td>\n",
       "      <td>53285.714286</td>\n",
       "    </tr>\n",
       "    <tr>\n",
       "      <th>7</th>\n",
       "      <td>Ian</td>\n",
       "      <td>29</td>\n",
       "      <td>53285.714286</td>\n",
       "    </tr>\n",
       "    <tr>\n",
       "      <th>8</th>\n",
       "      <td>Jack</td>\n",
       "      <td>35</td>\n",
       "      <td>53285.714286</td>\n",
       "    </tr>\n",
       "  </tbody>\n",
       "</table>\n",
       "</div>"
      ],
      "text/plain": [
       "      Name  Age        Salary\n",
       "0    Alice   25  53285.714286\n",
       "1      Bob   30  53285.714286\n",
       "2  Charlie   35  53285.714286\n",
       "3    David   40  53285.714286\n",
       "4      Eva   28  53285.714286\n",
       "5    Frank   32  53285.714286\n",
       "6   Hannah   27  53285.714286\n",
       "7      Ian   29  53285.714286\n",
       "8     Jack   35  53285.714286"
      ]
     },
     "execution_count": 93,
     "metadata": {},
     "output_type": "execute_result"
    }
   ],
   "source": [
    "df_no_duplicates.reset_index(drop=True)"
   ]
  },
  {
   "cell_type": "code",
   "execution_count": null,
   "id": "23e99f80-9e3e-499c-ad04-1a204ab67960",
   "metadata": {},
   "outputs": [],
   "source": []
  },
  {
   "cell_type": "code",
   "execution_count": null,
   "id": "6a4bfb28-ac4f-4b90-a338-8fee23399b36",
   "metadata": {},
   "outputs": [],
   "source": []
  }
 ],
 "metadata": {
  "kernelspec": {
   "display_name": "Python 3 (ipykernel)",
   "language": "python",
   "name": "python3"
  },
  "language_info": {
   "codemirror_mode": {
    "name": "ipython",
    "version": 3
   },
   "file_extension": ".py",
   "mimetype": "text/x-python",
   "name": "python",
   "nbconvert_exporter": "python",
   "pygments_lexer": "ipython3",
   "version": "3.13.5"
  }
 },
 "nbformat": 4,
 "nbformat_minor": 5
}
