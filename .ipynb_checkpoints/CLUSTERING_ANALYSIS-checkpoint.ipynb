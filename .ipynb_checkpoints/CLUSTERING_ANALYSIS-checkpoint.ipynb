{
 "cells": [
  {
   "cell_type": "markdown",
   "id": "9e2a50bf-31cb-4ef9-b1c5-de7f1d07c2a7",
   "metadata": {},
   "source": [
    "### CLUSTERING ANALYSIS "
   ]
  },
  {
   "cell_type": "markdown",
   "id": "456d11a0-676b-407a-9ebc-85c7d309d369",
   "metadata": {},
   "source": [
    "#### Objective:\n",
    "The objective of this assignment is to introduce to various clustering algorithms, including K-Means, hierarchical, and DBSCAN, and provide hands-on experience in applying these techniques to a real-world dataset.\n"
   ]
  },
  {
   "cell_type": "code",
   "execution_count": 1,
   "id": "ffbb0cba-238c-41d7-a8dc-018e56043937",
   "metadata": {},
   "outputs": [],
   "source": [
    "import pandas as pd\n",
    "import numpy as np\n",
    "import matplotlib.pyplot as plt\n",
    "import seaborn as sns\n",
    "from sklearn.impute import SimpleImputer\n",
    "from sklearn.preprocessing import StandardScaler, RobustScaler\n",
    "from sklearn.decomposition import PCA\n",
    "from sklearn.cluster import KMeans, DBSCAN\n",
    "from sklearn.metrics import silhouette_score, silhouette_samples\n",
    "from sklearn.neighbors import NearestNeighbors\n",
    "from scipy import stats"
   ]
  },
  {
   "cell_type": "markdown",
   "id": "3084e38c-7e5c-4375-ac90-b61b554655e8",
   "metadata": {},
   "source": [
    "#### Datasets :"
   ]
  },
  {
   "cell_type": "code",
   "execution_count": 2,
   "id": "39551d4c-6750-40c6-959e-5d32e0d6e647",
   "metadata": {},
   "outputs": [
    {
     "data": {
      "text/plain": [
       "(26, 5)"
      ]
     },
     "execution_count": 2,
     "metadata": {},
     "output_type": "execute_result"
    }
   ],
   "source": [
    "df = pd.read_excel(\"EastWestAirlines.xlsx\")\n",
    "df.shape"
   ]
  },
  {
   "cell_type": "markdown",
   "id": "3508e9a0-67e8-4b1c-bcfc-856abc68676e",
   "metadata": {},
   "source": [
    "#### Data Preprocessing:\n",
    "1.\tPreprocess the dataset to handle missing values, remove outliers, and scale the features if necessary.\n"
   ]
  },
  {
   "cell_type": "code",
   "execution_count": 3,
   "id": "ca28c778-05b2-4393-8163-f6eaf9564282",
   "metadata": {},
   "outputs": [
    {
     "data": {
      "text/html": [
       "<div>\n",
       "<style scoped>\n",
       "    .dataframe tbody tr th:only-of-type {\n",
       "        vertical-align: middle;\n",
       "    }\n",
       "\n",
       "    .dataframe tbody tr th {\n",
       "        vertical-align: top;\n",
       "    }\n",
       "\n",
       "    .dataframe thead th {\n",
       "        text-align: right;\n",
       "    }\n",
       "</style>\n",
       "<table border=\"1\" class=\"dataframe\">\n",
       "  <thead>\n",
       "    <tr style=\"text-align: right;\">\n",
       "      <th></th>\n",
       "      <th>East-West Airlines is trying to learn more about its customers.  Key issues are their</th>\n",
       "      <th>Unnamed: 1</th>\n",
       "      <th>Unnamed: 2</th>\n",
       "      <th>Unnamed: 3</th>\n",
       "      <th>Unnamed: 4</th>\n",
       "    </tr>\n",
       "  </thead>\n",
       "  <tbody>\n",
       "    <tr>\n",
       "      <th>0</th>\n",
       "      <td>flying patterns, earning and use of frequent f...</td>\n",
       "      <td>NaN</td>\n",
       "      <td>NaN</td>\n",
       "      <td>NaN</td>\n",
       "      <td>NaN</td>\n",
       "    </tr>\n",
       "    <tr>\n",
       "      <th>1</th>\n",
       "      <td>card.  The task is to identify customer segmen...</td>\n",
       "      <td>NaN</td>\n",
       "      <td>NaN</td>\n",
       "      <td>NaN</td>\n",
       "      <td>NaN</td>\n",
       "    </tr>\n",
       "    <tr>\n",
       "      <th>2</th>\n",
       "      <td>NaN</td>\n",
       "      <td>NaN</td>\n",
       "      <td>NaN</td>\n",
       "      <td>NaN</td>\n",
       "      <td>NaN</td>\n",
       "    </tr>\n",
       "    <tr>\n",
       "      <th>3</th>\n",
       "      <td>NaN</td>\n",
       "      <td>NaN</td>\n",
       "      <td>NaN</td>\n",
       "      <td>NaN</td>\n",
       "      <td>NaN</td>\n",
       "    </tr>\n",
       "    <tr>\n",
       "      <th>4</th>\n",
       "      <td>Source: Based upon real business data; company...</td>\n",
       "      <td>NaN</td>\n",
       "      <td>NaN</td>\n",
       "      <td>NaN</td>\n",
       "      <td>NaN</td>\n",
       "    </tr>\n",
       "  </tbody>\n",
       "</table>\n",
       "</div>"
      ],
      "text/plain": [
       "  East-West Airlines is trying to learn more about its customers.  Key issues are their  \\\n",
       "0  flying patterns, earning and use of frequent f...                                      \n",
       "1  card.  The task is to identify customer segmen...                                      \n",
       "2                                                NaN                                      \n",
       "3                                                NaN                                      \n",
       "4  Source: Based upon real business data; company...                                      \n",
       "\n",
       "  Unnamed: 1 Unnamed: 2 Unnamed: 3 Unnamed: 4  \n",
       "0        NaN        NaN        NaN        NaN  \n",
       "1        NaN        NaN        NaN        NaN  \n",
       "2        NaN        NaN        NaN        NaN  \n",
       "3        NaN        NaN        NaN        NaN  \n",
       "4        NaN        NaN        NaN        NaN  "
      ]
     },
     "execution_count": 3,
     "metadata": {},
     "output_type": "execute_result"
    }
   ],
   "source": [
    "df.head()"
   ]
  },
  {
   "cell_type": "code",
   "execution_count": 4,
   "id": "2f12d93a-3fde-45e4-9dc1-1bea17816a26",
   "metadata": {},
   "outputs": [],
   "source": [
    "def load_eastwest_excel(path):\n",
    "    # read first 30 rows to find the header row that includes 'ID' or 'Balance' etc.\n",
    "    preview = pd.read_excel(path, header=None, nrows=40, engine=\"openpyxl\")\n",
    "    header_row = None\n",
    "    for idx, row in preview.iterrows():\n",
    "        # convert row values to strings and lowercase for matching\n",
    "        vals = [str(x).lower() for x in row.fillna(\"\").values]\n",
    "        # try to detect a row that contains some known column names\n",
    "        if any('id' == v.strip() for v in vals) or any('balance' in v for v in vals) or any('qual_miles' in v for v in vals) or any('bonus_miles' in v for v in vals):\n",
    "            header_row = idx\n",
    "            break\n",
    "    if header_row is None:\n",
    "        raise ValueError(\"Could not auto-detect header row. Please supply skiprows manually.\")\n",
    "    # read again with header\n",
    "    df = pd.read_excel(path, header=header_row, engine=\"openpyxl\")\n",
    "    # drop completely-empty columns created by messy files\n",
    "    df = df.loc[:, ~df.columns.str.contains(\"^unnamed\", case=False)]\n",
    "    # drop rows that are fully NaN\n",
    "    df = df.dropna(how='all')\n",
    "    df = df.reset_index(drop=True)\n",
    "    return df, header_row\n"
   ]
  },
  {
   "cell_type": "code",
   "execution_count": 5,
   "id": "50bd0141-8428-49c8-9990-7778defb225c",
   "metadata": {},
   "outputs": [
    {
     "ename": "TypeError",
     "evalue": "bad operand type for unary ~: 'float'",
     "output_type": "error",
     "traceback": [
      "\u001b[1;31m---------------------------------------------------------------------------\u001b[0m",
      "\u001b[1;31mTypeError\u001b[0m                                 Traceback (most recent call last)",
      "Cell \u001b[1;32mIn[5], line 2\u001b[0m\n\u001b[0;32m      1\u001b[0m file_path \u001b[38;5;241m=\u001b[39m \u001b[38;5;124m\"\u001b[39m\u001b[38;5;124mEastWestAirlines.xlsx\u001b[39m\u001b[38;5;124m\"\u001b[39m\n\u001b[1;32m----> 2\u001b[0m df_raw, detected_header_row \u001b[38;5;241m=\u001b[39m load_eastwest_excel(file_path)\n\u001b[0;32m      3\u001b[0m \u001b[38;5;28mprint\u001b[39m(\u001b[38;5;124mf\u001b[39m\u001b[38;5;124m\"\u001b[39m\u001b[38;5;124mDetected header row: \u001b[39m\u001b[38;5;132;01m{\u001b[39;00mdetected_header_row\u001b[38;5;132;01m}\u001b[39;00m\u001b[38;5;124m\"\u001b[39m)\n\u001b[0;32m      4\u001b[0m \u001b[38;5;28mprint\u001b[39m(\u001b[38;5;124m\"\u001b[39m\u001b[38;5;124mData shape after load:\u001b[39m\u001b[38;5;124m\"\u001b[39m, df_raw\u001b[38;5;241m.\u001b[39mshape)\n",
      "Cell \u001b[1;32mIn[4], line 17\u001b[0m, in \u001b[0;36mload_eastwest_excel\u001b[1;34m(path)\u001b[0m\n\u001b[0;32m     15\u001b[0m df \u001b[38;5;241m=\u001b[39m pd\u001b[38;5;241m.\u001b[39mread_excel(path, header\u001b[38;5;241m=\u001b[39mheader_row, engine\u001b[38;5;241m=\u001b[39m\u001b[38;5;124m\"\u001b[39m\u001b[38;5;124mopenpyxl\u001b[39m\u001b[38;5;124m\"\u001b[39m)\n\u001b[0;32m     16\u001b[0m \u001b[38;5;66;03m# drop completely-empty columns created by messy files\u001b[39;00m\n\u001b[1;32m---> 17\u001b[0m df \u001b[38;5;241m=\u001b[39m df\u001b[38;5;241m.\u001b[39mloc[:, \u001b[38;5;241m~\u001b[39mdf\u001b[38;5;241m.\u001b[39mcolumns\u001b[38;5;241m.\u001b[39mstr\u001b[38;5;241m.\u001b[39mcontains(\u001b[38;5;124m\"\u001b[39m\u001b[38;5;124m^unnamed\u001b[39m\u001b[38;5;124m\"\u001b[39m, case\u001b[38;5;241m=\u001b[39m\u001b[38;5;28;01mFalse\u001b[39;00m)]\n\u001b[0;32m     18\u001b[0m \u001b[38;5;66;03m# drop rows that are fully NaN\u001b[39;00m\n\u001b[0;32m     19\u001b[0m df \u001b[38;5;241m=\u001b[39m df\u001b[38;5;241m.\u001b[39mdropna(how\u001b[38;5;241m=\u001b[39m\u001b[38;5;124m'\u001b[39m\u001b[38;5;124mall\u001b[39m\u001b[38;5;124m'\u001b[39m)\n",
      "File \u001b[1;32m~\\anaconda3\\Lib\\site-packages\\pandas\\core\\indexes\\base.py:7256\u001b[0m, in \u001b[0;36mIndex.__invert__\u001b[1;34m(self)\u001b[0m\n\u001b[0;32m   7254\u001b[0m \u001b[38;5;28;01mdef\u001b[39;00m\u001b[38;5;250m \u001b[39m\u001b[38;5;21m__invert__\u001b[39m(\u001b[38;5;28mself\u001b[39m) \u001b[38;5;241m-\u001b[39m\u001b[38;5;241m>\u001b[39m Index:\n\u001b[0;32m   7255\u001b[0m     \u001b[38;5;66;03m# GH#8875\u001b[39;00m\n\u001b[1;32m-> 7256\u001b[0m     \u001b[38;5;28;01mreturn\u001b[39;00m \u001b[38;5;28mself\u001b[39m\u001b[38;5;241m.\u001b[39m_unary_method(operator\u001b[38;5;241m.\u001b[39minv)\n",
      "File \u001b[1;32m~\\anaconda3\\Lib\\site-packages\\pandas\\core\\indexes\\base.py:7242\u001b[0m, in \u001b[0;36mIndex._unary_method\u001b[1;34m(self, op)\u001b[0m\n\u001b[0;32m   7240\u001b[0m \u001b[38;5;129m@final\u001b[39m\n\u001b[0;32m   7241\u001b[0m \u001b[38;5;28;01mdef\u001b[39;00m\u001b[38;5;250m \u001b[39m\u001b[38;5;21m_unary_method\u001b[39m(\u001b[38;5;28mself\u001b[39m, op):\n\u001b[1;32m-> 7242\u001b[0m     result \u001b[38;5;241m=\u001b[39m op(\u001b[38;5;28mself\u001b[39m\u001b[38;5;241m.\u001b[39m_values)\n\u001b[0;32m   7243\u001b[0m     \u001b[38;5;28;01mreturn\u001b[39;00m Index(result, name\u001b[38;5;241m=\u001b[39m\u001b[38;5;28mself\u001b[39m\u001b[38;5;241m.\u001b[39mname)\n",
      "\u001b[1;31mTypeError\u001b[0m: bad operand type for unary ~: 'float'"
     ]
    }
   ],
   "source": [
    "file_path = \"EastWestAirlines.xlsx\"\n",
    "df_raw, detected_header_row = load_eastwest_excel(file_path)\n",
    "print(f\"Detected header row: {detected_header_row}\")\n",
    "print(\"Data shape after load:\", df_raw.shape)\n",
    "display(df_raw.head())"
   ]
  },
  {
   "cell_type": "code",
   "execution_count": null,
   "id": "3602a297-82aa-4572-9a94-71240303988c",
   "metadata": {},
   "outputs": [],
   "source": []
  }
 ],
 "metadata": {
  "kernelspec": {
   "display_name": "Python 3 (ipykernel)",
   "language": "python",
   "name": "python3"
  },
  "language_info": {
   "codemirror_mode": {
    "name": "ipython",
    "version": 3
   },
   "file_extension": ".py",
   "mimetype": "text/x-python",
   "name": "python",
   "nbconvert_exporter": "python",
   "pygments_lexer": "ipython3",
   "version": "3.13.5"
  }
 },
 "nbformat": 4,
 "nbformat_minor": 5
}
