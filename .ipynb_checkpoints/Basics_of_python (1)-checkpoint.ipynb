{
 "cells": [
  {
   "cell_type": "markdown",
   "id": "048da0ed-be08-474f-835d-99f70c91e2c8",
   "metadata": {},
   "source": [
    "## Exercise 1: Prime Numbers"
   ]
  },
  {
   "cell_type": "markdown",
   "id": "d96d5b59-6db1-4e15-843e-925fe3da8b4c",
   "metadata": {},
   "source": [
    "#### Write a Python program that checks whether a given number is prime or not. A prime number is a natural number greater than 1 that has no positive divisors other than 1 and itself."
   ]
  },
  {
   "cell_type": "code",
   "execution_count": 24,
   "id": "29ea3609-f97f-4356-8de8-83dba0fd42a3",
   "metadata": {},
   "outputs": [
    {
     "data": {
      "text/plain": [
       "3"
      ]
     },
     "execution_count": 24,
     "metadata": {},
     "output_type": "execute_result"
    }
   ],
   "source": [
    "int(4**0.5)+1"
   ]
  },
  {
   "cell_type": "code",
   "execution_count": 25,
   "id": "ab87dc4c-7109-4dc9-92b0-cc108f734456",
   "metadata": {},
   "outputs": [],
   "source": [
    "def is_prime(num):\n",
    "    # Prime numbers are greater than 1\n",
    "    if num <= 1:\n",
    "        return False\n",
    "    for i in range(2, int(num**0.5) + 1):\n",
    "        if num % i == 0:   # If divisible, not prime\n",
    "            return False\n",
    "    return True"
   ]
  },
  {
   "cell_type": "code",
   "execution_count": 34,
   "id": "6e608d33-5f91-4e9b-931b-76fd379a86e8",
   "metadata": {},
   "outputs": [
    {
     "name": "stdin",
     "output_type": "stream",
     "text": [
      "Enter a number:  10\n"
     ]
    },
    {
     "name": "stdout",
     "output_type": "stream",
     "text": [
      "10 is NOT a Prime Number\n"
     ]
    }
   ],
   "source": [
    "number = int(input(\"Enter a number: \"))\n",
    "if is_prime(number):\n",
    "    print(f\"{number} is a Prime Number\")\n",
    "else:\n",
    "    print(f\"{number} is NOT a Prime Number\")"
   ]
  },
  {
   "cell_type": "markdown",
   "id": "593fbc0c-f286-4234-b774-ebb16ff86cbb",
   "metadata": {},
   "source": [
    "## Exercise 2: Product of Random Numbers"
   ]
  },
  {
   "cell_type": "markdown",
   "id": "831b2f61-142b-4e96-8279-3a5c0374f543",
   "metadata": {},
   "source": [
    "#### Develop a Python program that generates two random numbers and asks the user to enter the product of these numbers. The program should then check if the user's answer is correct and display an appropriate message."
   ]
  },
  {
   "cell_type": "code",
   "execution_count": 42,
   "id": "0fa35599-6510-400c-ac30-5cc0188d6fe2",
   "metadata": {},
   "outputs": [
    {
     "name": "stdout",
     "output_type": "stream",
     "text": [
      "What is 9 * 10?\n"
     ]
    }
   ],
   "source": [
    "import random\n",
    "num1 = random.randint(1, 10)  # random number between 1 and 10\n",
    "num2 = random.randint(1, 10)\n",
    "print(f\"What is {num1} * {num2}?\")"
   ]
  },
  {
   "cell_type": "code",
   "execution_count": 44,
   "id": "2e295ad4-1ea2-48b8-afbe-9ac21a71af6d",
   "metadata": {},
   "outputs": [
    {
     "name": "stdin",
     "output_type": "stream",
     "text": [
      "Enter your answer:  12\n"
     ]
    },
    {
     "name": "stdout",
     "output_type": "stream",
     "text": [
      "Incorrect. The correct answer is 90.\n"
     ]
    }
   ],
   "source": [
    "user_answer = int(input(\"Enter your answer: \"))\n",
    "correct_answer = num1 * num2\n",
    "\n",
    "if user_answer == correct_answer:\n",
    "    print(\"Correct! Well done.\")\n",
    "else:\n",
    "    print(f\"Incorrect. The correct answer is {correct_answer}.\")"
   ]
  },
  {
   "cell_type": "markdown",
   "id": "5b4f7efa-4c68-4f63-89a6-466ee6c97956",
   "metadata": {},
   "source": [
    "## Exercise 3: Squares of Even/Odd Numbers"
   ]
  },
  {
   "cell_type": "markdown",
   "id": "cfbdce6e-683b-43d1-b4e7-fc7f592284f5",
   "metadata": {},
   "source": [
    "#### Create a Python script that prints the squares of all even or odd numbers within the range of 100 to 200. Choose either even or odd numbers and document your choice in the code."
   ]
  },
  {
   "cell_type": "code",
   "execution_count": 45,
   "id": "bae1ebd7-2c4d-48c7-a19e-5ee324c980a0",
   "metadata": {},
   "outputs": [
    {
     "name": "stdout",
     "output_type": "stream",
     "text": [
      "100^2 = 10000\n",
      "102^2 = 10404\n",
      "104^2 = 10816\n",
      "106^2 = 11236\n",
      "108^2 = 11664\n",
      "110^2 = 12100\n",
      "112^2 = 12544\n",
      "114^2 = 12996\n",
      "116^2 = 13456\n",
      "118^2 = 13924\n",
      "120^2 = 14400\n",
      "122^2 = 14884\n",
      "124^2 = 15376\n",
      "126^2 = 15876\n",
      "128^2 = 16384\n",
      "130^2 = 16900\n",
      "132^2 = 17424\n",
      "134^2 = 17956\n",
      "136^2 = 18496\n",
      "138^2 = 19044\n",
      "140^2 = 19600\n",
      "142^2 = 20164\n",
      "144^2 = 20736\n",
      "146^2 = 21316\n",
      "148^2 = 21904\n",
      "150^2 = 22500\n",
      "152^2 = 23104\n",
      "154^2 = 23716\n",
      "156^2 = 24336\n",
      "158^2 = 24964\n",
      "160^2 = 25600\n",
      "162^2 = 26244\n",
      "164^2 = 26896\n",
      "166^2 = 27556\n",
      "168^2 = 28224\n",
      "170^2 = 28900\n",
      "172^2 = 29584\n",
      "174^2 = 30276\n",
      "176^2 = 30976\n",
      "178^2 = 31684\n",
      "180^2 = 32400\n",
      "182^2 = 33124\n",
      "184^2 = 33856\n",
      "186^2 = 34596\n",
      "188^2 = 35344\n",
      "190^2 = 36100\n",
      "192^2 = 36864\n",
      "194^2 = 37636\n",
      "196^2 = 38416\n",
      "198^2 = 39204\n",
      "200^2 = 40000\n"
     ]
    }
   ],
   "source": [
    "for num in range(100, 201, 2):   # start=100, stop=200, step=2 (even numbers only)\n",
    "    square = num ** 2\n",
    "    print(f\"{num}^2 = {square}\")"
   ]
  },
  {
   "cell_type": "markdown",
   "id": "883cf2d2-2f03-48c3-8175-3ce5b350b813",
   "metadata": {},
   "source": [
    "## Exercise 4:"
   ]
  },
  {
   "cell_type": "markdown",
   "id": "3f14d0c2-7cd7-4fdb-9aa9-2d59e00e6d06",
   "metadata": {},
   "source": [
    "#### ✅ Problem Statement (Question): Hospital Billing System\n",
    "A hospital charges its patients based on the following:\n",
    "•\tRoom charges per day: ₹2,000\n",
    "•\tDoctor consultation fee (flat): ₹1,500\n",
    "•\tLab test charges: Based on the number of tests taken. Each test costs ₹300\n",
    "•\tMedicine charges: Total cost of medicines provided\n",
    "•\tDiscount: If the total bill (before discount) exceeds ₹10,000, a 10% discount is applied\n",
    "Write a Python program to calculate the final bill for a patient who:\n",
    "•\tStayed for 4 days\n"
   ]
  },
  {
   "cell_type": "code",
   "execution_count": 49,
   "id": "befdabec-09c1-4835-ba78-3c6caa617b57",
   "metadata": {},
   "outputs": [
    {
     "name": "stdout",
     "output_type": "stream",
     "text": [
      "\n",
      "--- Final Hospital Bill ---\n",
      "Room Charges (for 4 days): ₹8000\n",
      "Doctor Consultation Fee: ₹1500\n",
      "Lab Test Charges (for 3 tests): ₹900\n",
      "Medicine Charges: ₹2400\n",
      "Total (before discount): ₹12800\n",
      "Discount Applied: ₹1280.0\n",
      "Final Bill Amount: ₹11520.0\n"
     ]
    },
    {
     "data": {
      "text/plain": [
       "12800"
      ]
     },
     "execution_count": 49,
     "metadata": {},
     "output_type": "execute_result"
    }
   ],
   "source": [
    "# Hospital Billing System\n",
    "\n",
    "# Fixed charges\n",
    "room_charge_per_day = 2000\n",
    "doctor_fee = 1500\n",
    "lab_test_charge_per_test = 300\n",
    "\n",
    "# Patient details\n",
    "days_stayed = 4\n",
    "num_tests = 3\n",
    "medicine_charges = 2400\n",
    "\n",
    "# Calculations\n",
    "room_charges = days_stayed * room_charge_per_day\n",
    "lab_test_charges = num_tests * lab_test_charge_per_test\n",
    "\n",
    "# Total before discount\n",
    "total_before_discount = sum([room_charges,doctor_fee,lab_test_charges,medicine_charges])\n",
    "\n",
    "# Apply discount if applicable\n",
    "if total_before_discount > 10000:\n",
    "    discount = 0.10 * total_before_discount\n",
    "else:\n",
    "    discount = 0\n",
    "\n",
    "final_bill = total_before_discount - discount\n",
    "\n",
    "# Print bill\n",
    "print(\"\\n--- Final Hospital Bill ---\")\n",
    "print(f\"Room Charges (for {days_stayed} days): ₹{room_charges}\")\n",
    "print(f\"Doctor Consultation Fee: ₹{doctor_fee}\")\n",
    "print(f\"Lab Test Charges (for {num_tests} tests): ₹{lab_test_charges}\")\n",
    "print(f\"Medicine Charges: ₹{medicine_charges}\")\n",
    "print(f\"Total (before discount): ₹{total_before_discount}\")\n",
    "print(f\"Discount Applied: ₹{discount}\")\n",
    "print(f\"Final Bill Amount: ₹{final_bill}\")\n",
    "total_before_discount"
   ]
  },
  {
   "cell_type": "code",
   "execution_count": null,
   "id": "845f5de6-5a89-4dab-8778-190b3615832b",
   "metadata": {},
   "outputs": [],
   "source": []
  }
 ],
 "metadata": {
  "kernelspec": {
   "display_name": "Python 3 (ipykernel)",
   "language": "python",
   "name": "python3"
  },
  "language_info": {
   "codemirror_mode": {
    "name": "ipython",
    "version": 3
   },
   "file_extension": ".py",
   "mimetype": "text/x-python",
   "name": "python",
   "nbconvert_exporter": "python",
   "pygments_lexer": "ipython3",
   "version": "3.13.5"
  }
 },
 "nbformat": 4,
 "nbformat_minor": 5
}
