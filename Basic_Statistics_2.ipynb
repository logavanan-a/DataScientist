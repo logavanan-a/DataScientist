{
 "cells": [
  {
   "cell_type": "markdown",
   "id": "14ffd6b1-0708-4181-a1ec-14dd4f324751",
   "metadata": {},
   "source": [
    "## Problem Statement : Hospital Patient Data Analysis"
   ]
  },
  {
   "cell_type": "markdown",
   "id": "5c4bdf19-92ed-4333-a4af-ccfd9f7d12b3",
   "metadata": {},
   "source": [
    "### Context:\n",
    "A hospital maintains patient records including admission details, department, diagnosis, doctor, and bill amount. You have two datasets: one with patient info and another with billing details. Some patients have blank bill amounts, and there are multiple rows for the same patient due to follow-ups.\n"
   ]
  },
  {
   "cell_type": "code",
   "execution_count": 64,
   "id": "ff7fb962-9095-4839-b2e2-559f4ac5fcdb",
   "metadata": {},
   "outputs": [],
   "source": [
    "import pandas as pd\n",
    "import numpy as np\n",
    "import warnings\n",
    "warnings.filterwarnings('ignore')"
   ]
  },
  {
   "cell_type": "code",
   "execution_count": 65,
   "id": "2df282a9-2ccb-484c-8dd1-d56ce10a5d6f",
   "metadata": {},
   "outputs": [
    {
     "data": {
      "text/html": [
       "<div>\n",
       "<style scoped>\n",
       "    .dataframe tbody tr th:only-of-type {\n",
       "        vertical-align: middle;\n",
       "    }\n",
       "\n",
       "    .dataframe tbody tr th {\n",
       "        vertical-align: top;\n",
       "    }\n",
       "\n",
       "    .dataframe thead th {\n",
       "        text-align: right;\n",
       "    }\n",
       "</style>\n",
       "<table border=\"1\" class=\"dataframe\">\n",
       "  <thead>\n",
       "    <tr style=\"text-align: right;\">\n",
       "      <th></th>\n",
       "      <th>PatientID</th>\n",
       "      <th>Name</th>\n",
       "      <th>Department</th>\n",
       "      <th>Doctor</th>\n",
       "      <th>BillAmount</th>\n",
       "      <th>ReceptionistID</th>\n",
       "      <th>CheckInTime</th>\n",
       "    </tr>\n",
       "  </thead>\n",
       "  <tbody>\n",
       "    <tr>\n",
       "      <th>0</th>\n",
       "      <td>101</td>\n",
       "      <td>Alice</td>\n",
       "      <td>Cardiology</td>\n",
       "      <td>Dr. Smith</td>\n",
       "      <td>5000.0</td>\n",
       "      <td>1</td>\n",
       "      <td>2023-01-10 09:00</td>\n",
       "    </tr>\n",
       "    <tr>\n",
       "      <th>1</th>\n",
       "      <td>102</td>\n",
       "      <td>Bob</td>\n",
       "      <td>Neurology</td>\n",
       "      <td>Dr. John</td>\n",
       "      <td>NaN</td>\n",
       "      <td>2</td>\n",
       "      <td>2023-01-11 10:30</td>\n",
       "    </tr>\n",
       "    <tr>\n",
       "      <th>2</th>\n",
       "      <td>103</td>\n",
       "      <td>Charlie</td>\n",
       "      <td>Orthopedics</td>\n",
       "      <td>Dr. Lee</td>\n",
       "      <td>7500.0</td>\n",
       "      <td>1</td>\n",
       "      <td>2023-01-12 11:00</td>\n",
       "    </tr>\n",
       "    <tr>\n",
       "      <th>3</th>\n",
       "      <td>104</td>\n",
       "      <td>David</td>\n",
       "      <td>Cardiology</td>\n",
       "      <td>Dr. Smith</td>\n",
       "      <td>6200.0</td>\n",
       "      <td>3</td>\n",
       "      <td>2023-01-13 12:00</td>\n",
       "    </tr>\n",
       "    <tr>\n",
       "      <th>4</th>\n",
       "      <td>105</td>\n",
       "      <td>Eva</td>\n",
       "      <td>Dermatology</td>\n",
       "      <td>Dr. Rose</td>\n",
       "      <td>NaN</td>\n",
       "      <td>2</td>\n",
       "      <td>2023-01-14 08:45</td>\n",
       "    </tr>\n",
       "    <tr>\n",
       "      <th>5</th>\n",
       "      <td>101</td>\n",
       "      <td>Alice</td>\n",
       "      <td>Cardiology</td>\n",
       "      <td>Dr. Smith</td>\n",
       "      <td>5000.0</td>\n",
       "      <td>1</td>\n",
       "      <td>2023-01-10 09:00</td>\n",
       "    </tr>\n",
       "  </tbody>\n",
       "</table>\n",
       "</div>"
      ],
      "text/plain": [
       "   PatientID     Name   Department     Doctor  BillAmount  ReceptionistID  \\\n",
       "0        101    Alice   Cardiology  Dr. Smith      5000.0               1   \n",
       "1        102      Bob    Neurology   Dr. John         NaN               2   \n",
       "2        103  Charlie  Orthopedics    Dr. Lee      7500.0               1   \n",
       "3        104    David   Cardiology  Dr. Smith      6200.0               3   \n",
       "4        105      Eva  Dermatology   Dr. Rose         NaN               2   \n",
       "5        101    Alice   Cardiology  Dr. Smith      5000.0               1   \n",
       "\n",
       "        CheckInTime  \n",
       "0  2023-01-10 09:00  \n",
       "1  2023-01-11 10:30  \n",
       "2  2023-01-12 11:00  \n",
       "3  2023-01-13 12:00  \n",
       "4  2023-01-14 08:45  \n",
       "5  2023-01-10 09:00  "
      ]
     },
     "execution_count": 65,
     "metadata": {},
     "output_type": "execute_result"
    }
   ],
   "source": [
    "patient_df = pd.read_csv('Patient_Data.csv')\n",
    "patient_df"
   ]
  },
  {
   "cell_type": "markdown",
   "id": "53ea0cb5-fb88-4a62-868f-2aea0f1f8339",
   "metadata": {},
   "source": [
    "#### 1.\tLoad the patient dataset and show summary with info()."
   ]
  },
  {
   "cell_type": "code",
   "execution_count": 66,
   "id": "50aa2cc9-0852-41c5-80f3-62cbf17a73eb",
   "metadata": {},
   "outputs": [
    {
     "name": "stdout",
     "output_type": "stream",
     "text": [
      "<class 'pandas.core.frame.DataFrame'>\n",
      "RangeIndex: 6 entries, 0 to 5\n",
      "Data columns (total 7 columns):\n",
      " #   Column          Non-Null Count  Dtype  \n",
      "---  ------          --------------  -----  \n",
      " 0   PatientID       6 non-null      int64  \n",
      " 1   Name            6 non-null      object \n",
      " 2   Department      6 non-null      object \n",
      " 3   Doctor          6 non-null      object \n",
      " 4   BillAmount      4 non-null      float64\n",
      " 5   ReceptionistID  6 non-null      int64  \n",
      " 6   CheckInTime     6 non-null      object \n",
      "dtypes: float64(1), int64(2), object(4)\n",
      "memory usage: 468.0+ bytes\n"
     ]
    }
   ],
   "source": [
    "patient_df.info()"
   ]
  },
  {
   "cell_type": "markdown",
   "id": "201ebe82-9257-441f-a199-a10c2de3caf8",
   "metadata": {},
   "source": [
    "#### 2.\tSelect only the columns relevant for billing: ['PatientID', 'Department', 'Doctor', 'BillAmount']."
   ]
  },
  {
   "cell_type": "code",
   "execution_count": 67,
   "id": "cf9ac727-5f5b-4960-b5b7-3735d84abda6",
   "metadata": {},
   "outputs": [
    {
     "data": {
      "text/html": [
       "<div>\n",
       "<style scoped>\n",
       "    .dataframe tbody tr th:only-of-type {\n",
       "        vertical-align: middle;\n",
       "    }\n",
       "\n",
       "    .dataframe tbody tr th {\n",
       "        vertical-align: top;\n",
       "    }\n",
       "\n",
       "    .dataframe thead th {\n",
       "        text-align: right;\n",
       "    }\n",
       "</style>\n",
       "<table border=\"1\" class=\"dataframe\">\n",
       "  <thead>\n",
       "    <tr style=\"text-align: right;\">\n",
       "      <th></th>\n",
       "      <th>PatientID</th>\n",
       "      <th>Department</th>\n",
       "      <th>Doctor</th>\n",
       "      <th>BillAmount</th>\n",
       "    </tr>\n",
       "  </thead>\n",
       "  <tbody>\n",
       "    <tr>\n",
       "      <th>0</th>\n",
       "      <td>101</td>\n",
       "      <td>Cardiology</td>\n",
       "      <td>Dr. Smith</td>\n",
       "      <td>5000.0</td>\n",
       "    </tr>\n",
       "    <tr>\n",
       "      <th>1</th>\n",
       "      <td>102</td>\n",
       "      <td>Neurology</td>\n",
       "      <td>Dr. John</td>\n",
       "      <td>NaN</td>\n",
       "    </tr>\n",
       "    <tr>\n",
       "      <th>2</th>\n",
       "      <td>103</td>\n",
       "      <td>Orthopedics</td>\n",
       "      <td>Dr. Lee</td>\n",
       "      <td>7500.0</td>\n",
       "    </tr>\n",
       "    <tr>\n",
       "      <th>3</th>\n",
       "      <td>104</td>\n",
       "      <td>Cardiology</td>\n",
       "      <td>Dr. Smith</td>\n",
       "      <td>6200.0</td>\n",
       "    </tr>\n",
       "    <tr>\n",
       "      <th>4</th>\n",
       "      <td>105</td>\n",
       "      <td>Dermatology</td>\n",
       "      <td>Dr. Rose</td>\n",
       "      <td>NaN</td>\n",
       "    </tr>\n",
       "    <tr>\n",
       "      <th>5</th>\n",
       "      <td>101</td>\n",
       "      <td>Cardiology</td>\n",
       "      <td>Dr. Smith</td>\n",
       "      <td>5000.0</td>\n",
       "    </tr>\n",
       "  </tbody>\n",
       "</table>\n",
       "</div>"
      ],
      "text/plain": [
       "   PatientID   Department     Doctor  BillAmount\n",
       "0        101   Cardiology  Dr. Smith      5000.0\n",
       "1        102    Neurology   Dr. John         NaN\n",
       "2        103  Orthopedics    Dr. Lee      7500.0\n",
       "3        104   Cardiology  Dr. Smith      6200.0\n",
       "4        105  Dermatology   Dr. Rose         NaN\n",
       "5        101   Cardiology  Dr. Smith      5000.0"
      ]
     },
     "execution_count": 67,
     "metadata": {},
     "output_type": "execute_result"
    }
   ],
   "source": [
    "billing_cols = ['PatientID', 'Department', 'Doctor', 'BillAmount']\n",
    "df_billing_view = patient_df[billing_cols]\n",
    "df_billing_view"
   ]
  },
  {
   "cell_type": "markdown",
   "id": "89b1d220-9291-4e6c-b309-9ccc34b97382",
   "metadata": {},
   "source": [
    "#### 3.\tDrop administrative columns like ['ReceptionistID', 'CheckInTime']."
   ]
  },
  {
   "cell_type": "code",
   "execution_count": 68,
   "id": "02859dbd-e1ea-4a65-9be2-920193db5ca6",
   "metadata": {},
   "outputs": [],
   "source": [
    "drop_cols = patient_df.drop(columns=['ReceptionistID', 'CheckInTime'], inplace=True)\n",
    "drop_cols"
   ]
  },
  {
   "cell_type": "markdown",
   "id": "1b101454-afc3-44c4-a2a9-0953f8bcffa0",
   "metadata": {},
   "source": [
    "#### 4.\tUse groupby to find total bill amount per department."
   ]
  },
  {
   "cell_type": "code",
   "execution_count": 69,
   "id": "4594d04d-197a-4dfb-93bc-f92d07fc19e5",
   "metadata": {},
   "outputs": [
    {
     "data": {
      "text/plain": [
       "Department\n",
       "Cardiology     16200.0\n",
       "Dermatology        0.0\n",
       "Neurology          0.0\n",
       "Orthopedics     7500.0\n",
       "Name: BillAmount, dtype: float64"
      ]
     },
     "execution_count": 69,
     "metadata": {},
     "output_type": "execute_result"
    }
   ],
   "source": [
    "department_bill = patient_df.groupby('Department')['BillAmount'].sum()\n",
    "department_bill"
   ]
  },
  {
   "cell_type": "markdown",
   "id": "50fc1e40-4f4a-420b-b687-469b4aadafc6",
   "metadata": {},
   "source": [
    "#### 5.\tRemove duplicate patient records based on PatientID."
   ]
  },
  {
   "cell_type": "code",
   "execution_count": 70,
   "id": "03a321d4-c7dc-4089-a3cb-1608f6f0af88",
   "metadata": {},
   "outputs": [
    {
     "data": {
      "text/plain": [
       "np.int64(1)"
      ]
     },
     "execution_count": 70,
     "metadata": {},
     "output_type": "execute_result"
    }
   ],
   "source": [
    "patient_df.duplicated().sum()"
   ]
  },
  {
   "cell_type": "code",
   "execution_count": 71,
   "id": "7049941e-2d68-40a1-b744-968b905289e9",
   "metadata": {},
   "outputs": [
    {
     "data": {
      "text/html": [
       "<div>\n",
       "<style scoped>\n",
       "    .dataframe tbody tr th:only-of-type {\n",
       "        vertical-align: middle;\n",
       "    }\n",
       "\n",
       "    .dataframe tbody tr th {\n",
       "        vertical-align: top;\n",
       "    }\n",
       "\n",
       "    .dataframe thead th {\n",
       "        text-align: right;\n",
       "    }\n",
       "</style>\n",
       "<table border=\"1\" class=\"dataframe\">\n",
       "  <thead>\n",
       "    <tr style=\"text-align: right;\">\n",
       "      <th></th>\n",
       "      <th>PatientID</th>\n",
       "      <th>Name</th>\n",
       "      <th>Department</th>\n",
       "      <th>Doctor</th>\n",
       "      <th>BillAmount</th>\n",
       "    </tr>\n",
       "  </thead>\n",
       "  <tbody>\n",
       "    <tr>\n",
       "      <th>0</th>\n",
       "      <td>101</td>\n",
       "      <td>Alice</td>\n",
       "      <td>Cardiology</td>\n",
       "      <td>Dr. Smith</td>\n",
       "      <td>5000.0</td>\n",
       "    </tr>\n",
       "    <tr>\n",
       "      <th>1</th>\n",
       "      <td>102</td>\n",
       "      <td>Bob</td>\n",
       "      <td>Neurology</td>\n",
       "      <td>Dr. John</td>\n",
       "      <td>NaN</td>\n",
       "    </tr>\n",
       "    <tr>\n",
       "      <th>2</th>\n",
       "      <td>103</td>\n",
       "      <td>Charlie</td>\n",
       "      <td>Orthopedics</td>\n",
       "      <td>Dr. Lee</td>\n",
       "      <td>7500.0</td>\n",
       "    </tr>\n",
       "    <tr>\n",
       "      <th>3</th>\n",
       "      <td>104</td>\n",
       "      <td>David</td>\n",
       "      <td>Cardiology</td>\n",
       "      <td>Dr. Smith</td>\n",
       "      <td>6200.0</td>\n",
       "    </tr>\n",
       "    <tr>\n",
       "      <th>4</th>\n",
       "      <td>105</td>\n",
       "      <td>Eva</td>\n",
       "      <td>Dermatology</td>\n",
       "      <td>Dr. Rose</td>\n",
       "      <td>NaN</td>\n",
       "    </tr>\n",
       "  </tbody>\n",
       "</table>\n",
       "</div>"
      ],
      "text/plain": [
       "   PatientID     Name   Department     Doctor  BillAmount\n",
       "0        101    Alice   Cardiology  Dr. Smith      5000.0\n",
       "1        102      Bob    Neurology   Dr. John         NaN\n",
       "2        103  Charlie  Orthopedics    Dr. Lee      7500.0\n",
       "3        104    David   Cardiology  Dr. Smith      6200.0\n",
       "4        105      Eva  Dermatology   Dr. Rose         NaN"
      ]
     },
     "execution_count": 71,
     "metadata": {},
     "output_type": "execute_result"
    }
   ],
   "source": [
    "df_no_duplicates = df_cleaned.drop_duplicates(subset='PatientID')\n",
    "df_no_duplicates"
   ]
  },
  {
   "cell_type": "markdown",
   "id": "f0cc5643-82a2-4862-8589-b6a58249a0d4",
   "metadata": {},
   "source": [
    "#### 6.\tFill missing BillAmount values with the mean bill amount."
   ]
  },
  {
   "cell_type": "code",
   "execution_count": 72,
   "id": "7488954d-b99c-4ece-9abe-b38da3da9edd",
   "metadata": {},
   "outputs": [
    {
     "data": {
      "text/html": [
       "<div>\n",
       "<style scoped>\n",
       "    .dataframe tbody tr th:only-of-type {\n",
       "        vertical-align: middle;\n",
       "    }\n",
       "\n",
       "    .dataframe tbody tr th {\n",
       "        vertical-align: top;\n",
       "    }\n",
       "\n",
       "    .dataframe thead th {\n",
       "        text-align: right;\n",
       "    }\n",
       "</style>\n",
       "<table border=\"1\" class=\"dataframe\">\n",
       "  <thead>\n",
       "    <tr style=\"text-align: right;\">\n",
       "      <th></th>\n",
       "      <th>PatientID</th>\n",
       "      <th>Name</th>\n",
       "      <th>Department</th>\n",
       "      <th>Doctor</th>\n",
       "      <th>BillAmount</th>\n",
       "    </tr>\n",
       "  </thead>\n",
       "  <tbody>\n",
       "    <tr>\n",
       "      <th>0</th>\n",
       "      <td>101</td>\n",
       "      <td>Alice</td>\n",
       "      <td>Cardiology</td>\n",
       "      <td>Dr. Smith</td>\n",
       "      <td>None</td>\n",
       "    </tr>\n",
       "    <tr>\n",
       "      <th>1</th>\n",
       "      <td>102</td>\n",
       "      <td>Bob</td>\n",
       "      <td>Neurology</td>\n",
       "      <td>Dr. John</td>\n",
       "      <td>None</td>\n",
       "    </tr>\n",
       "    <tr>\n",
       "      <th>2</th>\n",
       "      <td>103</td>\n",
       "      <td>Charlie</td>\n",
       "      <td>Orthopedics</td>\n",
       "      <td>Dr. Lee</td>\n",
       "      <td>None</td>\n",
       "    </tr>\n",
       "    <tr>\n",
       "      <th>3</th>\n",
       "      <td>104</td>\n",
       "      <td>David</td>\n",
       "      <td>Cardiology</td>\n",
       "      <td>Dr. Smith</td>\n",
       "      <td>None</td>\n",
       "    </tr>\n",
       "    <tr>\n",
       "      <th>4</th>\n",
       "      <td>105</td>\n",
       "      <td>Eva</td>\n",
       "      <td>Dermatology</td>\n",
       "      <td>Dr. Rose</td>\n",
       "      <td>None</td>\n",
       "    </tr>\n",
       "    <tr>\n",
       "      <th>5</th>\n",
       "      <td>101</td>\n",
       "      <td>Alice</td>\n",
       "      <td>Cardiology</td>\n",
       "      <td>Dr. Smith</td>\n",
       "      <td>None</td>\n",
       "    </tr>\n",
       "  </tbody>\n",
       "</table>\n",
       "</div>"
      ],
      "text/plain": [
       "   PatientID     Name   Department     Doctor BillAmount\n",
       "0        101    Alice   Cardiology  Dr. Smith       None\n",
       "1        102      Bob    Neurology   Dr. John       None\n",
       "2        103  Charlie  Orthopedics    Dr. Lee       None\n",
       "3        104    David   Cardiology  Dr. Smith       None\n",
       "4        105      Eva  Dermatology   Dr. Rose       None\n",
       "5        101    Alice   Cardiology  Dr. Smith       None"
      ]
     },
     "execution_count": 72,
     "metadata": {},
     "output_type": "execute_result"
    }
   ],
   "source": [
    "mean_bill = patient_df['BillAmount'].mean()\n",
    "patient_df['BillAmount'] = patient_df['BillAmount'].fillna(mean_bill, inplace=True)\n",
    "patient_df"
   ]
  },
  {
   "cell_type": "markdown",
   "id": "da637ea6-7439-45ee-ba6e-56a0ad4380bf",
   "metadata": {},
   "source": [
    "#### 7.\tMerge the billing dataset with patient dataset on PatientID."
   ]
  },
  {
   "cell_type": "code",
   "execution_count": 73,
   "id": "40dcf7c9-430d-4fc1-987b-2e6a0582e473",
   "metadata": {},
   "outputs": [
    {
     "data": {
      "text/html": [
       "<div>\n",
       "<style scoped>\n",
       "    .dataframe tbody tr th:only-of-type {\n",
       "        vertical-align: middle;\n",
       "    }\n",
       "\n",
       "    .dataframe tbody tr th {\n",
       "        vertical-align: top;\n",
       "    }\n",
       "\n",
       "    .dataframe thead th {\n",
       "        text-align: right;\n",
       "    }\n",
       "</style>\n",
       "<table border=\"1\" class=\"dataframe\">\n",
       "  <thead>\n",
       "    <tr style=\"text-align: right;\">\n",
       "      <th></th>\n",
       "      <th>PatientID</th>\n",
       "      <th>InsuranceCovered</th>\n",
       "      <th>FinalAmount</th>\n",
       "    </tr>\n",
       "  </thead>\n",
       "  <tbody>\n",
       "    <tr>\n",
       "      <th>0</th>\n",
       "      <td>101</td>\n",
       "      <td>2000</td>\n",
       "      <td>3000</td>\n",
       "    </tr>\n",
       "    <tr>\n",
       "      <th>1</th>\n",
       "      <td>102</td>\n",
       "      <td>1500</td>\n",
       "      <td>3500</td>\n",
       "    </tr>\n",
       "    <tr>\n",
       "      <th>2</th>\n",
       "      <td>103</td>\n",
       "      <td>2500</td>\n",
       "      <td>5000</td>\n",
       "    </tr>\n",
       "    <tr>\n",
       "      <th>3</th>\n",
       "      <td>104</td>\n",
       "      <td>3000</td>\n",
       "      <td>3200</td>\n",
       "    </tr>\n",
       "    <tr>\n",
       "      <th>4</th>\n",
       "      <td>105</td>\n",
       "      <td>1000</td>\n",
       "      <td>4000</td>\n",
       "    </tr>\n",
       "  </tbody>\n",
       "</table>\n",
       "</div>"
      ],
      "text/plain": [
       "   PatientID  InsuranceCovered  FinalAmount\n",
       "0        101              2000         3000\n",
       "1        102              1500         3500\n",
       "2        103              2500         5000\n",
       "3        104              3000         3200\n",
       "4        105              1000         4000"
      ]
     },
     "execution_count": 73,
     "metadata": {},
     "output_type": "execute_result"
    }
   ],
   "source": [
    "billing_df = pd.read_csv('Billing_Data.csv')\n",
    "billing_df"
   ]
  },
  {
   "cell_type": "code",
   "execution_count": 74,
   "id": "7d203069-265c-45ac-9c36-5186268aa402",
   "metadata": {},
   "outputs": [
    {
     "name": "stdout",
     "output_type": "stream",
     "text": [
      "<class 'pandas.core.frame.DataFrame'>\n",
      "RangeIndex: 5 entries, 0 to 4\n",
      "Data columns (total 3 columns):\n",
      " #   Column            Non-Null Count  Dtype\n",
      "---  ------            --------------  -----\n",
      " 0   PatientID         5 non-null      int64\n",
      " 1   InsuranceCovered  5 non-null      int64\n",
      " 2   FinalAmount       5 non-null      int64\n",
      "dtypes: int64(3)\n",
      "memory usage: 252.0 bytes\n"
     ]
    }
   ],
   "source": [
    "billing_df.info()"
   ]
  },
  {
   "cell_type": "code",
   "execution_count": 75,
   "id": "388de9dc-6e8c-4568-8079-a832b5ced29e",
   "metadata": {},
   "outputs": [
    {
     "data": {
      "text/html": [
       "<div>\n",
       "<style scoped>\n",
       "    .dataframe tbody tr th:only-of-type {\n",
       "        vertical-align: middle;\n",
       "    }\n",
       "\n",
       "    .dataframe tbody tr th {\n",
       "        vertical-align: top;\n",
       "    }\n",
       "\n",
       "    .dataframe thead th {\n",
       "        text-align: right;\n",
       "    }\n",
       "</style>\n",
       "<table border=\"1\" class=\"dataframe\">\n",
       "  <thead>\n",
       "    <tr style=\"text-align: right;\">\n",
       "      <th></th>\n",
       "      <th>PatientID</th>\n",
       "      <th>Name</th>\n",
       "      <th>Department</th>\n",
       "      <th>Doctor</th>\n",
       "      <th>BillAmount</th>\n",
       "      <th>InsuranceCovered</th>\n",
       "      <th>FinalAmount</th>\n",
       "    </tr>\n",
       "  </thead>\n",
       "  <tbody>\n",
       "    <tr>\n",
       "      <th>0</th>\n",
       "      <td>101</td>\n",
       "      <td>Alice</td>\n",
       "      <td>Cardiology</td>\n",
       "      <td>Dr. Smith</td>\n",
       "      <td>None</td>\n",
       "      <td>2000</td>\n",
       "      <td>3000</td>\n",
       "    </tr>\n",
       "    <tr>\n",
       "      <th>1</th>\n",
       "      <td>102</td>\n",
       "      <td>Bob</td>\n",
       "      <td>Neurology</td>\n",
       "      <td>Dr. John</td>\n",
       "      <td>None</td>\n",
       "      <td>1500</td>\n",
       "      <td>3500</td>\n",
       "    </tr>\n",
       "    <tr>\n",
       "      <th>2</th>\n",
       "      <td>103</td>\n",
       "      <td>Charlie</td>\n",
       "      <td>Orthopedics</td>\n",
       "      <td>Dr. Lee</td>\n",
       "      <td>None</td>\n",
       "      <td>2500</td>\n",
       "      <td>5000</td>\n",
       "    </tr>\n",
       "    <tr>\n",
       "      <th>3</th>\n",
       "      <td>104</td>\n",
       "      <td>David</td>\n",
       "      <td>Cardiology</td>\n",
       "      <td>Dr. Smith</td>\n",
       "      <td>None</td>\n",
       "      <td>3000</td>\n",
       "      <td>3200</td>\n",
       "    </tr>\n",
       "    <tr>\n",
       "      <th>4</th>\n",
       "      <td>105</td>\n",
       "      <td>Eva</td>\n",
       "      <td>Dermatology</td>\n",
       "      <td>Dr. Rose</td>\n",
       "      <td>None</td>\n",
       "      <td>1000</td>\n",
       "      <td>4000</td>\n",
       "    </tr>\n",
       "    <tr>\n",
       "      <th>5</th>\n",
       "      <td>101</td>\n",
       "      <td>Alice</td>\n",
       "      <td>Cardiology</td>\n",
       "      <td>Dr. Smith</td>\n",
       "      <td>None</td>\n",
       "      <td>2000</td>\n",
       "      <td>3000</td>\n",
       "    </tr>\n",
       "  </tbody>\n",
       "</table>\n",
       "</div>"
      ],
      "text/plain": [
       "   PatientID     Name   Department     Doctor BillAmount  InsuranceCovered  \\\n",
       "0        101    Alice   Cardiology  Dr. Smith       None              2000   \n",
       "1        102      Bob    Neurology   Dr. John       None              1500   \n",
       "2        103  Charlie  Orthopedics    Dr. Lee       None              2500   \n",
       "3        104    David   Cardiology  Dr. Smith       None              3000   \n",
       "4        105      Eva  Dermatology   Dr. Rose       None              1000   \n",
       "5        101    Alice   Cardiology  Dr. Smith       None              2000   \n",
       "\n",
       "   FinalAmount  \n",
       "0         3000  \n",
       "1         3500  \n",
       "2         5000  \n",
       "3         3200  \n",
       "4         4000  \n",
       "5         3000  "
      ]
     },
     "execution_count": 75,
     "metadata": {},
     "output_type": "execute_result"
    }
   ],
   "source": [
    "df_merged = pd.merge(patient_df, billing_df, on='PatientID', how='left')\n",
    "df_merged"
   ]
  },
  {
   "cell_type": "markdown",
   "id": "142194b4-52af-40c7-9390-2ec435a1db62",
   "metadata": {},
   "source": [
    "#### 8.\tConcatenate an additional DataFrame that contains new patients for the current week (row-wise)."
   ]
  },
  {
   "cell_type": "code",
   "execution_count": 76,
   "id": "34c5787f-9e51-40e0-8765-e461e29047fb",
   "metadata": {},
   "outputs": [],
   "source": [
    "new_data={\n",
    "    'PatientID': [106, 107],\n",
    "    'Name': ['Frank', 'Grace'],\n",
    "    'Department': ['Dermatology', 'Cardiology'],\n",
    "    'Doctor': ['Dr. Brown', 'Dr. Smith'],\n",
    "    'BillAmount': [7200.0, 6400.0]\n",
    "}"
   ]
  },
  {
   "cell_type": "code",
   "execution_count": 77,
   "id": "db7bbd2f-09cc-4cd5-b82d-b6b50958fd80",
   "metadata": {},
   "outputs": [
    {
     "data": {
      "text/html": [
       "<div>\n",
       "<style scoped>\n",
       "    .dataframe tbody tr th:only-of-type {\n",
       "        vertical-align: middle;\n",
       "    }\n",
       "\n",
       "    .dataframe tbody tr th {\n",
       "        vertical-align: top;\n",
       "    }\n",
       "\n",
       "    .dataframe thead th {\n",
       "        text-align: right;\n",
       "    }\n",
       "</style>\n",
       "<table border=\"1\" class=\"dataframe\">\n",
       "  <thead>\n",
       "    <tr style=\"text-align: right;\">\n",
       "      <th></th>\n",
       "      <th>PatientID</th>\n",
       "      <th>Name</th>\n",
       "      <th>Department</th>\n",
       "      <th>Doctor</th>\n",
       "      <th>BillAmount</th>\n",
       "    </tr>\n",
       "  </thead>\n",
       "  <tbody>\n",
       "    <tr>\n",
       "      <th>0</th>\n",
       "      <td>106</td>\n",
       "      <td>Frank</td>\n",
       "      <td>Dermatology</td>\n",
       "      <td>Dr. Brown</td>\n",
       "      <td>7200.0</td>\n",
       "    </tr>\n",
       "    <tr>\n",
       "      <th>1</th>\n",
       "      <td>107</td>\n",
       "      <td>Grace</td>\n",
       "      <td>Cardiology</td>\n",
       "      <td>Dr. Smith</td>\n",
       "      <td>6400.0</td>\n",
       "    </tr>\n",
       "  </tbody>\n",
       "</table>\n",
       "</div>"
      ],
      "text/plain": [
       "   PatientID   Name   Department     Doctor  BillAmount\n",
       "0        106  Frank  Dermatology  Dr. Brown      7200.0\n",
       "1        107  Grace   Cardiology  Dr. Smith      6400.0"
      ]
     },
     "execution_count": 77,
     "metadata": {},
     "output_type": "execute_result"
    }
   ],
   "source": [
    "new_patients = pd.DataFrame(new_data)\n",
    "new_patients"
   ]
  },
  {
   "cell_type": "code",
   "execution_count": 78,
   "id": "992d5d5b-f6f5-49be-968f-1a8337870f1c",
   "metadata": {},
   "outputs": [
    {
     "data": {
      "text/html": [
       "<div>\n",
       "<style scoped>\n",
       "    .dataframe tbody tr th:only-of-type {\n",
       "        vertical-align: middle;\n",
       "    }\n",
       "\n",
       "    .dataframe tbody tr th {\n",
       "        vertical-align: top;\n",
       "    }\n",
       "\n",
       "    .dataframe thead th {\n",
       "        text-align: right;\n",
       "    }\n",
       "</style>\n",
       "<table border=\"1\" class=\"dataframe\">\n",
       "  <thead>\n",
       "    <tr style=\"text-align: right;\">\n",
       "      <th></th>\n",
       "      <th>PatientID</th>\n",
       "      <th>Name</th>\n",
       "      <th>Department</th>\n",
       "      <th>Doctor</th>\n",
       "      <th>BillAmount</th>\n",
       "    </tr>\n",
       "  </thead>\n",
       "  <tbody>\n",
       "    <tr>\n",
       "      <th>0</th>\n",
       "      <td>101</td>\n",
       "      <td>Alice</td>\n",
       "      <td>Cardiology</td>\n",
       "      <td>Dr. Smith</td>\n",
       "      <td>5000.0</td>\n",
       "    </tr>\n",
       "    <tr>\n",
       "      <th>1</th>\n",
       "      <td>102</td>\n",
       "      <td>Bob</td>\n",
       "      <td>Neurology</td>\n",
       "      <td>Dr. John</td>\n",
       "      <td>NaN</td>\n",
       "    </tr>\n",
       "    <tr>\n",
       "      <th>2</th>\n",
       "      <td>103</td>\n",
       "      <td>Charlie</td>\n",
       "      <td>Orthopedics</td>\n",
       "      <td>Dr. Lee</td>\n",
       "      <td>7500.0</td>\n",
       "    </tr>\n",
       "    <tr>\n",
       "      <th>3</th>\n",
       "      <td>104</td>\n",
       "      <td>David</td>\n",
       "      <td>Cardiology</td>\n",
       "      <td>Dr. Smith</td>\n",
       "      <td>6200.0</td>\n",
       "    </tr>\n",
       "    <tr>\n",
       "      <th>4</th>\n",
       "      <td>105</td>\n",
       "      <td>Eva</td>\n",
       "      <td>Dermatology</td>\n",
       "      <td>Dr. Rose</td>\n",
       "      <td>NaN</td>\n",
       "    </tr>\n",
       "    <tr>\n",
       "      <th>5</th>\n",
       "      <td>106</td>\n",
       "      <td>Frank</td>\n",
       "      <td>Dermatology</td>\n",
       "      <td>Dr. Brown</td>\n",
       "      <td>7200.0</td>\n",
       "    </tr>\n",
       "    <tr>\n",
       "      <th>6</th>\n",
       "      <td>107</td>\n",
       "      <td>Grace</td>\n",
       "      <td>Cardiology</td>\n",
       "      <td>Dr. Smith</td>\n",
       "      <td>6400.0</td>\n",
       "    </tr>\n",
       "  </tbody>\n",
       "</table>\n",
       "</div>"
      ],
      "text/plain": [
       "   PatientID     Name   Department     Doctor  BillAmount\n",
       "0        101    Alice   Cardiology  Dr. Smith      5000.0\n",
       "1        102      Bob    Neurology   Dr. John         NaN\n",
       "2        103  Charlie  Orthopedics    Dr. Lee      7500.0\n",
       "3        104    David   Cardiology  Dr. Smith      6200.0\n",
       "4        105      Eva  Dermatology   Dr. Rose         NaN\n",
       "5        106    Frank  Dermatology  Dr. Brown      7200.0\n",
       "6        107    Grace   Cardiology  Dr. Smith      6400.0"
      ]
     },
     "execution_count": 78,
     "metadata": {},
     "output_type": "execute_result"
    }
   ],
   "source": [
    "df_all_patients = pd.concat([df_no_duplicates, new_patients], ignore_index=True)\n",
    "df_all_patients"
   ]
  },
  {
   "cell_type": "markdown",
   "id": "b9777a85-1654-4918-ad9b-5f4660d48c62",
   "metadata": {},
   "source": [
    "#### 9.\tConcatenate new billing category columns like ['InsuranceCovered', 'FinalAmount'] (column-wise)."
   ]
  },
  {
   "cell_type": "code",
   "execution_count": 79,
   "id": "279cb23a-f3a3-47a4-b5c3-12fb8777257b",
   "metadata": {},
   "outputs": [],
   "source": [
    "billing_data = {\n",
    "    'InsuranceCovered': [3900, 5500, 6400, 5200, 6700, 5600, 4600],\n",
    "    'FinalAmount': [4500, 7000, 5000, 7200, 6500, 7200, 6400]\n",
    "}"
   ]
  },
  {
   "cell_type": "markdown",
   "id": "d4e8f0f6-1fe9-4779-8782-30485bf67938",
   "metadata": {},
   "source": [
    "#### •\tFinal cleaned dataset with accurate billing info."
   ]
  },
  {
   "cell_type": "code",
   "execution_count": 80,
   "id": "5b6d7f35-2f40-4214-9989-64ea769c4716",
   "metadata": {},
   "outputs": [
    {
     "data": {
      "text/html": [
       "<div>\n",
       "<style scoped>\n",
       "    .dataframe tbody tr th:only-of-type {\n",
       "        vertical-align: middle;\n",
       "    }\n",
       "\n",
       "    .dataframe tbody tr th {\n",
       "        vertical-align: top;\n",
       "    }\n",
       "\n",
       "    .dataframe thead th {\n",
       "        text-align: right;\n",
       "    }\n",
       "</style>\n",
       "<table border=\"1\" class=\"dataframe\">\n",
       "  <thead>\n",
       "    <tr style=\"text-align: right;\">\n",
       "      <th></th>\n",
       "      <th>InsuranceCovered</th>\n",
       "      <th>FinalAmount</th>\n",
       "    </tr>\n",
       "  </thead>\n",
       "  <tbody>\n",
       "    <tr>\n",
       "      <th>0</th>\n",
       "      <td>3900</td>\n",
       "      <td>4500</td>\n",
       "    </tr>\n",
       "    <tr>\n",
       "      <th>1</th>\n",
       "      <td>5500</td>\n",
       "      <td>7000</td>\n",
       "    </tr>\n",
       "    <tr>\n",
       "      <th>2</th>\n",
       "      <td>6400</td>\n",
       "      <td>5000</td>\n",
       "    </tr>\n",
       "    <tr>\n",
       "      <th>3</th>\n",
       "      <td>5200</td>\n",
       "      <td>7200</td>\n",
       "    </tr>\n",
       "    <tr>\n",
       "      <th>4</th>\n",
       "      <td>6700</td>\n",
       "      <td>6500</td>\n",
       "    </tr>\n",
       "    <tr>\n",
       "      <th>5</th>\n",
       "      <td>5600</td>\n",
       "      <td>7200</td>\n",
       "    </tr>\n",
       "    <tr>\n",
       "      <th>6</th>\n",
       "      <td>4600</td>\n",
       "      <td>6400</td>\n",
       "    </tr>\n",
       "  </tbody>\n",
       "</table>\n",
       "</div>"
      ],
      "text/plain": [
       "   InsuranceCovered  FinalAmount\n",
       "0              3900         4500\n",
       "1              5500         7000\n",
       "2              6400         5000\n",
       "3              5200         7200\n",
       "4              6700         6500\n",
       "5              5600         7200\n",
       "6              4600         6400"
      ]
     },
     "execution_count": 80,
     "metadata": {},
     "output_type": "execute_result"
    }
   ],
   "source": [
    "new_billing_cols = pd.DataFrame(billing_data)\n",
    "new_billing_cols"
   ]
  },
  {
   "cell_type": "markdown",
   "id": "c3b81232-82a3-4716-93cc-55b7dc7d3dd6",
   "metadata": {},
   "source": [
    "#### •\tAll missing values handled, merged dataset across PatientID."
   ]
  },
  {
   "cell_type": "code",
   "execution_count": 81,
   "id": "b6ede663-19de-466f-aacb-2b8d196d60ff",
   "metadata": {},
   "outputs": [
    {
     "data": {
      "text/html": [
       "<div>\n",
       "<style scoped>\n",
       "    .dataframe tbody tr th:only-of-type {\n",
       "        vertical-align: middle;\n",
       "    }\n",
       "\n",
       "    .dataframe tbody tr th {\n",
       "        vertical-align: top;\n",
       "    }\n",
       "\n",
       "    .dataframe thead th {\n",
       "        text-align: right;\n",
       "    }\n",
       "</style>\n",
       "<table border=\"1\" class=\"dataframe\">\n",
       "  <thead>\n",
       "    <tr style=\"text-align: right;\">\n",
       "      <th></th>\n",
       "      <th>PatientID</th>\n",
       "      <th>Name</th>\n",
       "      <th>Department</th>\n",
       "      <th>Doctor</th>\n",
       "      <th>BillAmount</th>\n",
       "      <th>InsuranceCovered</th>\n",
       "      <th>FinalAmount</th>\n",
       "    </tr>\n",
       "  </thead>\n",
       "  <tbody>\n",
       "    <tr>\n",
       "      <th>0</th>\n",
       "      <td>101</td>\n",
       "      <td>Alice</td>\n",
       "      <td>Cardiology</td>\n",
       "      <td>Dr. Smith</td>\n",
       "      <td>5000.0</td>\n",
       "      <td>3900</td>\n",
       "      <td>4500</td>\n",
       "    </tr>\n",
       "    <tr>\n",
       "      <th>1</th>\n",
       "      <td>102</td>\n",
       "      <td>Bob</td>\n",
       "      <td>Neurology</td>\n",
       "      <td>Dr. John</td>\n",
       "      <td>NaN</td>\n",
       "      <td>5500</td>\n",
       "      <td>7000</td>\n",
       "    </tr>\n",
       "    <tr>\n",
       "      <th>2</th>\n",
       "      <td>103</td>\n",
       "      <td>Charlie</td>\n",
       "      <td>Orthopedics</td>\n",
       "      <td>Dr. Lee</td>\n",
       "      <td>7500.0</td>\n",
       "      <td>6400</td>\n",
       "      <td>5000</td>\n",
       "    </tr>\n",
       "    <tr>\n",
       "      <th>3</th>\n",
       "      <td>104</td>\n",
       "      <td>David</td>\n",
       "      <td>Cardiology</td>\n",
       "      <td>Dr. Smith</td>\n",
       "      <td>6200.0</td>\n",
       "      <td>5200</td>\n",
       "      <td>7200</td>\n",
       "    </tr>\n",
       "    <tr>\n",
       "      <th>4</th>\n",
       "      <td>105</td>\n",
       "      <td>Eva</td>\n",
       "      <td>Dermatology</td>\n",
       "      <td>Dr. Rose</td>\n",
       "      <td>NaN</td>\n",
       "      <td>6700</td>\n",
       "      <td>6500</td>\n",
       "    </tr>\n",
       "    <tr>\n",
       "      <th>5</th>\n",
       "      <td>106</td>\n",
       "      <td>Frank</td>\n",
       "      <td>Dermatology</td>\n",
       "      <td>Dr. Brown</td>\n",
       "      <td>7200.0</td>\n",
       "      <td>5600</td>\n",
       "      <td>7200</td>\n",
       "    </tr>\n",
       "    <tr>\n",
       "      <th>6</th>\n",
       "      <td>107</td>\n",
       "      <td>Grace</td>\n",
       "      <td>Cardiology</td>\n",
       "      <td>Dr. Smith</td>\n",
       "      <td>6400.0</td>\n",
       "      <td>4600</td>\n",
       "      <td>6400</td>\n",
       "    </tr>\n",
       "  </tbody>\n",
       "</table>\n",
       "</div>"
      ],
      "text/plain": [
       "   PatientID     Name   Department     Doctor  BillAmount  InsuranceCovered  \\\n",
       "0        101    Alice   Cardiology  Dr. Smith      5000.0              3900   \n",
       "1        102      Bob    Neurology   Dr. John         NaN              5500   \n",
       "2        103  Charlie  Orthopedics    Dr. Lee      7500.0              6400   \n",
       "3        104    David   Cardiology  Dr. Smith      6200.0              5200   \n",
       "4        105      Eva  Dermatology   Dr. Rose         NaN              6700   \n",
       "5        106    Frank  Dermatology  Dr. Brown      7200.0              5600   \n",
       "6        107    Grace   Cardiology  Dr. Smith      6400.0              4600   \n",
       "\n",
       "   FinalAmount  \n",
       "0         4500  \n",
       "1         7000  \n",
       "2         5000  \n",
       "3         7200  \n",
       "4         6500  \n",
       "5         7200  \n",
       "6         6400  "
      ]
     },
     "execution_count": 81,
     "metadata": {},
     "output_type": "execute_result"
    }
   ],
   "source": [
    "df_final = pd.concat([df_all_patients, new_billing_cols], axis=1)\n",
    "df_final"
   ]
  },
  {
   "cell_type": "markdown",
   "id": "6fdeec18-38c1-4cf5-bc8d-e1299eaf6cf7",
   "metadata": {},
   "source": [
    "#### •\tAbility to perform further analytics on department-wise revenue or doctor performance."
   ]
  },
  {
   "cell_type": "code",
   "execution_count": 82,
   "id": "5599e75f-e2c2-4d29-9dee-ab7c8ae34e27",
   "metadata": {},
   "outputs": [
    {
     "name": "stdout",
     "output_type": "stream",
     "text": [
      "<class 'pandas.core.frame.DataFrame'>\n",
      "RangeIndex: 7 entries, 0 to 6\n",
      "Data columns (total 7 columns):\n",
      " #   Column            Non-Null Count  Dtype  \n",
      "---  ------            --------------  -----  \n",
      " 0   PatientID         7 non-null      int64  \n",
      " 1   Name              7 non-null      object \n",
      " 2   Department        7 non-null      object \n",
      " 3   Doctor            7 non-null      object \n",
      " 4   BillAmount        5 non-null      float64\n",
      " 5   InsuranceCovered  7 non-null      int64  \n",
      " 6   FinalAmount       7 non-null      int64  \n",
      "dtypes: float64(1), int64(3), object(3)\n",
      "memory usage: 524.0+ bytes\n"
     ]
    }
   ],
   "source": [
    "df_final.info()"
   ]
  },
  {
   "cell_type": "code",
   "execution_count": 84,
   "id": "6667cc67-7986-486a-84fd-4f837738d5ef",
   "metadata": {},
   "outputs": [
    {
     "data": {
      "text/plain": [
       "Department\n",
       "Cardiology     18100\n",
       "Dermatology    13700\n",
       "Neurology       7000\n",
       "Orthopedics     5000\n",
       "Name: FinalAmount, dtype: int64"
      ]
     },
     "execution_count": 84,
     "metadata": {},
     "output_type": "execute_result"
    }
   ],
   "source": [
    "df_final.groupby('Department')['FinalAmount'].sum()"
   ]
  },
  {
   "cell_type": "code",
   "execution_count": 86,
   "id": "47495ce4-749e-4a07-abfb-a886e587d810",
   "metadata": {},
   "outputs": [
    {
     "data": {
      "text/plain": [
       "Doctor\n",
       "Dr. Brown    7200.000000\n",
       "Dr. John     7000.000000\n",
       "Dr. Lee      5000.000000\n",
       "Dr. Rose     6500.000000\n",
       "Dr. Smith    6033.333333\n",
       "Name: FinalAmount, dtype: float64"
      ]
     },
     "execution_count": 86,
     "metadata": {},
     "output_type": "execute_result"
    }
   ],
   "source": [
    "df_final.groupby('Doctor')['FinalAmount'].mean()"
   ]
  },
  {
   "cell_type": "code",
   "execution_count": null,
   "id": "b7c52d51-4dd6-4cf1-a200-083ed503deb6",
   "metadata": {},
   "outputs": [],
   "source": []
  }
 ],
 "metadata": {
  "kernelspec": {
   "display_name": "Python 3 (ipykernel)",
   "language": "python",
   "name": "python3"
  },
  "language_info": {
   "codemirror_mode": {
    "name": "ipython",
    "version": 3
   },
   "file_extension": ".py",
   "mimetype": "text/x-python",
   "name": "python",
   "nbconvert_exporter": "python",
   "pygments_lexer": "ipython3",
   "version": "3.13.5"
  }
 },
 "nbformat": 4,
 "nbformat_minor": 5
}
