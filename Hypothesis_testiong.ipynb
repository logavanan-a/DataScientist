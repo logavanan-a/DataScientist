{
 "cells": [
  {
   "cell_type": "markdown",
   "id": "92920950-b83b-4f01-adc8-9e6aed05acef",
   "metadata": {},
   "source": [
    "### ESTIMATION AND CONFIDENCE INTERVALS"
   ]
  },
  {
   "cell_type": "markdown",
   "id": "b8dc42fe-1e10-47d5-9de2-83e3780e579f",
   "metadata": {},
   "source": [
    "### Data"
   ]
  },
  {
   "cell_type": "markdown",
   "id": "3b6d7f7d-55e7-473b-9fbb-3c69196365ad",
   "metadata": {},
   "source": [
    "#### A total of 15 print-heads were randomly selected and tested until failure. \n",
    "The durability of each print-head (in millions of characters) was recorded as follows:\n",
    "1.13, 1.55, 1.43, 0.92, 1.25, 1.36, 1.32, 0.85, 1.07, 1.48, 1.20, 1.33, 1.18, 1.22, 1.29"
   ]
  },
  {
   "cell_type": "code",
   "execution_count": 2,
   "id": "f8facb5d-330c-48d5-8f57-efb7bce47ad1",
   "metadata": {},
   "outputs": [],
   "source": [
    "import numpy as np\n",
    "from scipy import stats"
   ]
  },
  {
   "cell_type": "code",
   "execution_count": 3,
   "id": "2f44d81f-6938-49fa-9365-c6f27c0084f9",
   "metadata": {},
   "outputs": [],
   "source": [
    "data = np.array([1.13, 1.55, 1.43, 0.92, 1.25, \n",
    "                 1.36, 1.32, 0.85, 1.07, 1.48, \n",
    "                 1.20, 1.33, 1.18, 1.22, 1.29])"
   ]
  },
  {
   "cell_type": "markdown",
   "id": "30d33e05-ade1-4d46-a1d6-2c5c7ae655ef",
   "metadata": {},
   "source": [
    "#### a. Build 99% Confidence Interval Using Sample Standard Deviation\n",
    "Assuming the sample is representative of the population, construct a 99% confidence interval for the mean number of characters printed before the print-head fails using the sample standard deviation. Explain the steps you take and the rationale behind using the t-distribution for this task.\n"
   ]
  },
  {
   "cell_type": "code",
   "execution_count": 4,
   "id": "cc9ef6d2-9bc3-47b1-bd86-f29c70966f43",
   "metadata": {},
   "outputs": [
    {
     "data": {
      "text/plain": [
       "15"
      ]
     },
     "execution_count": 4,
     "metadata": {},
     "output_type": "execute_result"
    }
   ],
   "source": [
    "n = len(data)\n",
    "n"
   ]
  },
  {
   "cell_type": "code",
   "execution_count": 10,
   "id": "b9952e9e-f3c5-4ead-9b13-393a9f0fa141",
   "metadata": {},
   "outputs": [
    {
     "name": "stdout",
     "output_type": "stream",
     "text": [
      "1.24\n"
     ]
    }
   ],
   "source": [
    "mean = np.mean(data)\n",
    "print(f'mean:{mean:.2f}')"
   ]
  },
  {
   "cell_type": "code",
   "execution_count": 11,
   "id": "54602f49-9197-4b18-9afc-1c3bee976d45",
   "metadata": {},
   "outputs": [
    {
     "name": "stdout",
     "output_type": "stream",
     "text": [
      "std:0.19\n"
     ]
    }
   ],
   "source": [
    "sample_std = np.std(data, ddof=1)\n",
    "print(f'std:{sample_std:.2f}')"
   ]
  },
  {
   "cell_type": "code",
   "execution_count": 12,
   "id": "898465a2-0e04-4e9f-8c2a-7e13c2ee9b7c",
   "metadata": {},
   "outputs": [
    {
     "data": {
      "text/plain": [
       "14"
      ]
     },
     "execution_count": 12,
     "metadata": {},
     "output_type": "execute_result"
    }
   ],
   "source": [
    "alpha = 0.01\n",
    "df = n - 1\n",
    "df"
   ]
  },
  {
   "cell_type": "code",
   "execution_count": 13,
   "id": "cf81c449-b70e-4b20-9e48-01204fb0a917",
   "metadata": {},
   "outputs": [
    {
     "data": {
      "text/plain": [
       "np.float64(2.976842734370834)"
      ]
     },
     "execution_count": 13,
     "metadata": {},
     "output_type": "execute_result"
    }
   ],
   "source": [
    "t_crit = stats.t.ppf(1 - alpha/2, df)\n",
    "t_crit"
   ]
  },
  {
   "cell_type": "code",
   "execution_count": 14,
   "id": "69215180-7905-4b64-9c4d-957085f7e53a",
   "metadata": {},
   "outputs": [
    {
     "data": {
      "text/plain": [
       "np.float64(0.04987476379384733)"
      ]
     },
     "execution_count": 14,
     "metadata": {},
     "output_type": "execute_result"
    }
   ],
   "source": [
    "se = sample_std / np.sqrt(n)\n",
    "se"
   ]
  },
  {
   "cell_type": "code",
   "execution_count": 15,
   "id": "65aa6856-6b0b-4d85-a2c8-e34c3e687383",
   "metadata": {},
   "outputs": [
    {
     "data": {
      "text/plain": [
       "np.float64(0.14846932822817596)"
      ]
     },
     "execution_count": 15,
     "metadata": {},
     "output_type": "execute_result"
    }
   ],
   "source": [
    "margin_t = t_crit * se\n",
    "margin_t"
   ]
  },
  {
   "cell_type": "code",
   "execution_count": 16,
   "id": "0a625b75-f57f-4628-87d4-e3f36f95bee7",
   "metadata": {},
   "outputs": [
    {
     "data": {
      "text/plain": [
       "(np.float64(1.0901973384384906), np.float64(1.3871359948948425))"
      ]
     },
     "execution_count": 16,
     "metadata": {},
     "output_type": "execute_result"
    }
   ],
   "source": [
    "ci_t = (mean - margin_t, mean + margin_t)\n",
    "ci_t"
   ]
  },
  {
   "cell_type": "code",
   "execution_count": 21,
   "id": "5fd6fe83-aefd-45d4-a1d3-15fcc14fa938",
   "metadata": {},
   "outputs": [
    {
     "name": "stdout",
     "output_type": "stream",
     "text": [
      "(a) 99% CI using t-distribution:CI = (1.090, 1.387)\n"
     ]
    }
   ],
   "source": [
    "print(f\"(a) 99% CI using t-distribution:CI = ({ci_t[0]:.3f}, {ci_t[1]:.3f})\")"
   ]
  },
  {
   "cell_type": "markdown",
   "id": "d31d30e0-b14c-4fb5-a659-d180942af92c",
   "metadata": {},
   "source": [
    "#### b. Build 99% Confidence Interval Using Known Population Standard Deviation\n",
    "If it were known that the population standard deviation is 0.2 million characters, construct a 99% confidence interval for the mean number of characters printed before failure\n"
   ]
  },
  {
   "cell_type": "code",
   "execution_count": 22,
   "id": "4b9e26f0-11ef-4b6b-8004-78ab7ac8eaed",
   "metadata": {},
   "outputs": [
    {
     "data": {
      "text/plain": [
       "np.float64(2.5758293035489004)"
      ]
     },
     "execution_count": 22,
     "metadata": {},
     "output_type": "execute_result"
    }
   ],
   "source": [
    "pop_std = 0.2\n",
    "z_crit = stats.norm.ppf(1 - alpha/2)\n",
    "z_crit"
   ]
  },
  {
   "cell_type": "code",
   "execution_count": 23,
   "id": "43fdbeb9-0386-458b-bd22-2904a2a748df",
   "metadata": {},
   "outputs": [
    {
     "data": {
      "text/plain": [
       "np.float64(0.051639777949432225)"
      ]
     },
     "execution_count": 23,
     "metadata": {},
     "output_type": "execute_result"
    }
   ],
   "source": [
    "se_known = pop_std / np.sqrt(n)\n",
    "se_known"
   ]
  },
  {
   "cell_type": "code",
   "execution_count": 24,
   "id": "1e1f99ec-e0c7-4651-9465-40e2966e0393",
   "metadata": {},
   "outputs": [
    {
     "data": {
      "text/plain": [
       "np.float64(0.13301525327090588)"
      ]
     },
     "execution_count": 24,
     "metadata": {},
     "output_type": "execute_result"
    }
   ],
   "source": [
    "margin_z = z_crit * se_known\n",
    "margin_z"
   ]
  },
  {
   "cell_type": "code",
   "execution_count": 25,
   "id": "e58ac3bb-e0fc-413a-a611-c0297f3d226c",
   "metadata": {},
   "outputs": [
    {
     "data": {
      "text/plain": [
       "(np.float64(1.1056514133957607), np.float64(1.3716819199375725))"
      ]
     },
     "execution_count": 25,
     "metadata": {},
     "output_type": "execute_result"
    }
   ],
   "source": [
    "ci_z = (mean - margin_z, mean + margin_z)\n",
    "ci_z"
   ]
  },
  {
   "cell_type": "code",
   "execution_count": 26,
   "id": "2a6b1bef-7c0d-4ce6-a640-8e3dde11e90a",
   "metadata": {},
   "outputs": [
    {
     "name": "stdout",
     "output_type": "stream",
     "text": [
      "\n",
      "(b) 99% CI using z-distribution (σ=0.2): CI = (1.106, 1.372)\n"
     ]
    }
   ],
   "source": [
    "print(f\"\\n(b) 99% CI using z-distribution (σ=0.2): CI = ({ci_z[0]:.3f}, {ci_z[1]:.3f})\")"
   ]
  },
  {
   "cell_type": "markdown",
   "id": "28aec0dd-516e-4629-ab22-7b318bb1c5da",
   "metadata": {},
   "source": [
    "### HYPOTHESIS TESTING"
   ]
  },
  {
   "cell_type": "markdown",
   "id": "6009a507-e69f-4205-87fd-67fca23b7c85",
   "metadata": {},
   "source": [
    "#### Background:\n",
    "Bombay hospitality Ltd. operates a franchise model for producing exotic Norwegian dinners throughout New England. \n",
    "The operating cost for a franchise in a week (W) is given by the equation W = $1,000 + $5X, where X represents the number of units produced in a week. \n",
    "                  Recent feedback from restaurant owners suggests that this cost model may no longer be accurate, as their observed weekly operating costs are higher.\n"
   ]
  },
  {
   "cell_type": "markdown",
   "id": "b80d6e44-e08f-432d-ad9a-b534d098a385",
   "metadata": {},
   "source": [
    "#### Objective:\n",
    "To investigate the restaurant owners' claim about the increase in weekly operating costs using hypothesis testing.\n"
   ]
  },
  {
   "cell_type": "markdown",
   "id": "0aef292d-7f3c-4dfc-b03c-9e3f4151d70a",
   "metadata": {},
   "source": [
    "#### Data Provided:\n",
    "●\tThe theoretical weekly operating cost model: W = $1,000 + $5X"
   ]
  },
  {
   "cell_type": "markdown",
   "id": "9d31145c-e2d6-4308-bf30-f99be6921975",
   "metadata": {},
   "source": [
    "##### ●\tSample of 25 restaurants with a mean weekly cost of Rs. 3,0506\n",
    "●\tNumber of units produced in a week (X) follows a normal distribution with a mean (μ) of 600 units and a standard deviation (σ) of 25 units"
   ]
  },
  {
   "cell_type": "markdown",
   "id": "d97f3a0a-8c72-4471-ad64-b5b9cd0d39eb",
   "metadata": {},
   "source": [
    "#### Assignment Tasks:"
   ]
  },
  {
   "cell_type": "code",
   "execution_count": 2,
   "id": "c9b75cbf-a047-424c-b204-54edc4f32ede",
   "metadata": {},
   "outputs": [],
   "source": [
    "import numpy as np\n",
    "from scipy.stats import norm"
   ]
  },
  {
   "cell_type": "markdown",
   "id": "066cab4a-f851-432e-99a4-6771c3cf9fb0",
   "metadata": {},
   "source": [
    "#### 2. Calculate the Test Statistic:\n",
    "Use the following formula to calculate the test statistic(z):\n",
    "where:"
   ]
  },
  {
   "cell_type": "code",
   "execution_count": 15,
   "id": "11772999-c7b2-4b4b-842a-94e55db83c1c",
   "metadata": {},
   "outputs": [],
   "source": [
    "x_bar = 3050  #ˉxˉ = sample mean weekly cost (Rs. 3,050)\n",
    "n = 25  #n = sample size (25 restaurants)\n",
    "alpha = 0.05  "
   ]
  },
  {
   "cell_type": "code",
   "execution_count": 13,
   "id": "c70fdef9-d4d5-49d2-adc4-5da9f2085bae",
   "metadata": {},
   "outputs": [
    {
     "data": {
      "text/plain": [
       "4000"
      ]
     },
     "execution_count": 13,
     "metadata": {},
     "output_type": "execute_result"
    }
   ],
   "source": [
    "#μ = theoretical mean weekly cost according to the cost model (W = $1,000 + $5X for X = 600 units)\n",
    "mu = 1000 + 5*600  \n",
    "mu"
   ]
  },
  {
   "cell_type": "code",
   "execution_count": 14,
   "id": "9c9e1e3b-27da-4ae6-95f8-c3c27fdd45fa",
   "metadata": {},
   "outputs": [
    {
     "data": {
      "text/plain": [
       "125"
      ]
     },
     "execution_count": 14,
     "metadata": {},
     "output_type": "execute_result"
    }
   ],
   "source": [
    "#σ = 5*25 units\n",
    "sigma = 5 * 25    \n",
    "sigma"
   ]
  },
  {
   "cell_type": "code",
   "execution_count": 16,
   "id": "e39c9d9f-9cbe-4c1e-b6ac-384fc9e55914",
   "metadata": {},
   "outputs": [
    {
     "data": {
      "text/plain": [
       "np.float64(-38.0)"
      ]
     },
     "execution_count": 16,
     "metadata": {},
     "output_type": "execute_result"
    }
   ],
   "source": [
    "# Step 1: Test Statistic\n",
    "z = (x_bar - mu) / (sigma / np.sqrt(n))\n",
    "z"
   ]
  },
  {
   "cell_type": "code",
   "execution_count": 18,
   "id": "68274ceb-cb75-42fe-ae20-d8a7dcf971c9",
   "metadata": {},
   "outputs": [
    {
     "data": {
      "text/plain": [
       "np.float64(1.0)"
      ]
     },
     "execution_count": 18,
     "metadata": {},
     "output_type": "execute_result"
    }
   ],
   "source": [
    "# Step 2: p-value (right-tailed test)\n",
    "p_value = 1 - norm.cdf(z)\n",
    "p_value"
   ]
  },
  {
   "cell_type": "code",
   "execution_count": 19,
   "id": "af4d8766-6c94-45c2-8280-4759d5bf164c",
   "metadata": {},
   "outputs": [
    {
     "data": {
      "text/plain": [
       "np.float64(1.6448536269514722)"
      ]
     },
     "execution_count": 19,
     "metadata": {},
     "output_type": "execute_result"
    }
   ],
   "source": [
    "# Step 3: Critical value\n",
    "z_critical = norm.ppf(1 - alpha)\n",
    "z_critical"
   ]
  },
  {
   "cell_type": "code",
   "execution_count": 20,
   "id": "f2772ee0-6131-4169-b8b4-87446fa59faa",
   "metadata": {},
   "outputs": [
    {
     "data": {
      "text/plain": [
       "'Fail to Reject H0'"
      ]
     },
     "execution_count": 20,
     "metadata": {},
     "output_type": "execute_result"
    }
   ],
   "source": [
    "if z > z_critical:\n",
    "    decision = \"Reject H0\"\n",
    "else:\n",
    "    decision = \"Fail to Reject H0\"\n",
    "decision"
   ]
  },
  {
   "cell_type": "code",
   "execution_count": 21,
   "id": "18e6f12d-1693-4567-bd73-ef14fed9dcfd",
   "metadata": {},
   "outputs": [
    {
     "data": {
      "text/plain": [
       "'There is NO evidence that weekly costs are higher. In fact, observed costs are lower.'"
      ]
     },
     "execution_count": 21,
     "metadata": {},
     "output_type": "execute_result"
    }
   ],
   "source": [
    "if decision == \"Reject H0\":\n",
    "    conclusion = \"There is evidence that weekly costs are higher than the model prediction.\"\n",
    "else:\n",
    "    conclusion = \"There is NO evidence that weekly costs are higher. In fact, observed costs are lower.\"\n",
    "conclusion"
   ]
  },
  {
   "cell_type": "code",
   "execution_count": 26,
   "id": "28784331-5bd7-4374-afc7-be1522212727",
   "metadata": {},
   "outputs": [
    {
     "name": "stdout",
     "output_type": "stream",
     "text": [
      "Sample Mean: 3050\n",
      "Theoretical Mean: 4000\n",
      "Z-statistic: -38.00\n",
      "Critical Value (alpha=0.05): 1.64\n",
      "P-value: 1.0000\n",
      "Decision: Fail to Reject H0\n",
      "Conclusion: There is NO evidence that weekly costs are higher. In fact, observed costs are lower.\n"
     ]
    }
   ],
   "source": [
    "print(f\"Sample Mean: {x_bar}\\nTheoretical Mean: {mu}\\nZ-statistic: {z:.2f}\\nCritical Value (alpha=0.05): {z_critical:.2f}\")\n",
    "print(f\"P-value: {p_value:.4f}\\nDecision: {decision}\\nConclusion: {conclusion}\")"
   ]
  },
  {
   "cell_type": "code",
   "execution_count": null,
   "id": "0d0e486a-0d32-41fc-8547-ef8c0b30ff40",
   "metadata": {},
   "outputs": [],
   "source": []
  }
 ],
 "metadata": {
  "kernelspec": {
   "display_name": "Python 3 (ipykernel)",
   "language": "python",
   "name": "python3"
  },
  "language_info": {
   "codemirror_mode": {
    "name": "ipython",
    "version": 3
   },
   "file_extension": ".py",
   "mimetype": "text/x-python",
   "name": "python",
   "nbconvert_exporter": "python",
   "pygments_lexer": "ipython3",
   "version": "3.13.5"
  }
 },
 "nbformat": 4,
 "nbformat_minor": 5
}
