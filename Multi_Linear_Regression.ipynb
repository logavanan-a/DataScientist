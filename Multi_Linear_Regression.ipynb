{
 "cells": [
  {
   "cell_type": "markdown",
   "id": "992e3938-db94-47c9-8e06-b07e6a18433d",
   "metadata": {},
   "source": [
    "## MULTIPLE LINEAR REGRESSION"
   ]
  },
  {
   "cell_type": "code",
   "execution_count": 40,
   "id": "be248d7c-8292-4afc-80e4-fff8a303f0f6",
   "metadata": {},
   "outputs": [],
   "source": [
    "import numpy as np\n",
    "import pandas as pd\n",
    "import matplotlib.pyplot as plt\n",
    "import seaborn as sns\n",
    "from sklearn.model_selection import train_test_split\n",
    "from sklearn.preprocessing import OneHotEncoder, StandardScaler\n",
    "from sklearn.compose import ColumnTransformer\n",
    "from sklearn.linear_model import LinearRegression, LassoCV, RidgeCV\n",
    "from sklearn.metrics import mean_squared_error, mean_absolute_error, r2_score"
   ]
  },
  {
   "cell_type": "code",
   "execution_count": 41,
   "id": "71df096a-e7a3-4ef9-9139-709b68d1d13b",
   "metadata": {},
   "outputs": [],
   "source": [
    "df = pd.read_csv(\"ToyotaCorolla - MLR.csv\")"
   ]
  },
  {
   "cell_type": "code",
   "execution_count": 42,
   "id": "b4e6eaa5-f8c7-4844-8706-44e57bb71c0e",
   "metadata": {},
   "outputs": [
    {
     "data": {
      "text/html": [
       "<div>\n",
       "<style scoped>\n",
       "    .dataframe tbody tr th:only-of-type {\n",
       "        vertical-align: middle;\n",
       "    }\n",
       "\n",
       "    .dataframe tbody tr th {\n",
       "        vertical-align: top;\n",
       "    }\n",
       "\n",
       "    .dataframe thead th {\n",
       "        text-align: right;\n",
       "    }\n",
       "</style>\n",
       "<table border=\"1\" class=\"dataframe\">\n",
       "  <thead>\n",
       "    <tr style=\"text-align: right;\">\n",
       "      <th></th>\n",
       "      <th>Price</th>\n",
       "      <th>Age_08_04</th>\n",
       "      <th>KM</th>\n",
       "      <th>Fuel_Type</th>\n",
       "      <th>HP</th>\n",
       "      <th>Automatic</th>\n",
       "      <th>cc</th>\n",
       "      <th>Doors</th>\n",
       "      <th>Cylinders</th>\n",
       "      <th>Gears</th>\n",
       "      <th>Weight</th>\n",
       "    </tr>\n",
       "  </thead>\n",
       "  <tbody>\n",
       "    <tr>\n",
       "      <th>0</th>\n",
       "      <td>13500</td>\n",
       "      <td>23</td>\n",
       "      <td>46986</td>\n",
       "      <td>Diesel</td>\n",
       "      <td>90</td>\n",
       "      <td>0</td>\n",
       "      <td>2000</td>\n",
       "      <td>3</td>\n",
       "      <td>4</td>\n",
       "      <td>5</td>\n",
       "      <td>1165</td>\n",
       "    </tr>\n",
       "    <tr>\n",
       "      <th>1</th>\n",
       "      <td>13750</td>\n",
       "      <td>23</td>\n",
       "      <td>72937</td>\n",
       "      <td>Diesel</td>\n",
       "      <td>90</td>\n",
       "      <td>0</td>\n",
       "      <td>2000</td>\n",
       "      <td>3</td>\n",
       "      <td>4</td>\n",
       "      <td>5</td>\n",
       "      <td>1165</td>\n",
       "    </tr>\n",
       "    <tr>\n",
       "      <th>2</th>\n",
       "      <td>13950</td>\n",
       "      <td>24</td>\n",
       "      <td>41711</td>\n",
       "      <td>Diesel</td>\n",
       "      <td>90</td>\n",
       "      <td>0</td>\n",
       "      <td>2000</td>\n",
       "      <td>3</td>\n",
       "      <td>4</td>\n",
       "      <td>5</td>\n",
       "      <td>1165</td>\n",
       "    </tr>\n",
       "    <tr>\n",
       "      <th>3</th>\n",
       "      <td>14950</td>\n",
       "      <td>26</td>\n",
       "      <td>48000</td>\n",
       "      <td>Diesel</td>\n",
       "      <td>90</td>\n",
       "      <td>0</td>\n",
       "      <td>2000</td>\n",
       "      <td>3</td>\n",
       "      <td>4</td>\n",
       "      <td>5</td>\n",
       "      <td>1165</td>\n",
       "    </tr>\n",
       "    <tr>\n",
       "      <th>4</th>\n",
       "      <td>13750</td>\n",
       "      <td>30</td>\n",
       "      <td>38500</td>\n",
       "      <td>Diesel</td>\n",
       "      <td>90</td>\n",
       "      <td>0</td>\n",
       "      <td>2000</td>\n",
       "      <td>3</td>\n",
       "      <td>4</td>\n",
       "      <td>5</td>\n",
       "      <td>1170</td>\n",
       "    </tr>\n",
       "  </tbody>\n",
       "</table>\n",
       "</div>"
      ],
      "text/plain": [
       "   Price  Age_08_04     KM Fuel_Type  HP  Automatic    cc  Doors  Cylinders  \\\n",
       "0  13500         23  46986    Diesel  90          0  2000      3          4   \n",
       "1  13750         23  72937    Diesel  90          0  2000      3          4   \n",
       "2  13950         24  41711    Diesel  90          0  2000      3          4   \n",
       "3  14950         26  48000    Diesel  90          0  2000      3          4   \n",
       "4  13750         30  38500    Diesel  90          0  2000      3          4   \n",
       "\n",
       "   Gears  Weight  \n",
       "0      5    1165  \n",
       "1      5    1165  \n",
       "2      5    1165  \n",
       "3      5    1165  \n",
       "4      5    1170  "
      ]
     },
     "execution_count": 42,
     "metadata": {},
     "output_type": "execute_result"
    }
   ],
   "source": [
    "df.head()"
   ]
  },
  {
   "cell_type": "code",
   "execution_count": 43,
   "id": "317c334a-9cbe-4f45-abc0-7749c4308507",
   "metadata": {},
   "outputs": [
    {
     "data": {
      "text/plain": [
       "(1436, 11)"
      ]
     },
     "execution_count": 43,
     "metadata": {},
     "output_type": "execute_result"
    }
   ],
   "source": [
    "df.shape"
   ]
  },
  {
   "cell_type": "code",
   "execution_count": 44,
   "id": "01ac9e98-51ff-4f35-971d-fbd78a433fb1",
   "metadata": {},
   "outputs": [
    {
     "name": "stdout",
     "output_type": "stream",
     "text": [
      "<class 'pandas.core.frame.DataFrame'>\n",
      "RangeIndex: 1436 entries, 0 to 1435\n",
      "Data columns (total 11 columns):\n",
      " #   Column     Non-Null Count  Dtype \n",
      "---  ------     --------------  ----- \n",
      " 0   Price      1436 non-null   int64 \n",
      " 1   Age_08_04  1436 non-null   int64 \n",
      " 2   KM         1436 non-null   int64 \n",
      " 3   Fuel_Type  1436 non-null   object\n",
      " 4   HP         1436 non-null   int64 \n",
      " 5   Automatic  1436 non-null   int64 \n",
      " 6   cc         1436 non-null   int64 \n",
      " 7   Doors      1436 non-null   int64 \n",
      " 8   Cylinders  1436 non-null   int64 \n",
      " 9   Gears      1436 non-null   int64 \n",
      " 10  Weight     1436 non-null   int64 \n",
      "dtypes: int64(10), object(1)\n",
      "memory usage: 123.5+ KB\n"
     ]
    }
   ],
   "source": [
    "df.info()"
   ]
  },
  {
   "cell_type": "code",
   "execution_count": 45,
   "id": "c2c8aba3-f854-402d-8dcc-9818eec8aa79",
   "metadata": {},
   "outputs": [
    {
     "data": {
      "text/plain": [
       "Price        0\n",
       "Age_08_04    0\n",
       "KM           0\n",
       "Fuel_Type    0\n",
       "HP           0\n",
       "Automatic    0\n",
       "cc           0\n",
       "Doors        0\n",
       "Cylinders    0\n",
       "Gears        0\n",
       "Weight       0\n",
       "dtype: int64"
      ]
     },
     "execution_count": 45,
     "metadata": {},
     "output_type": "execute_result"
    }
   ],
   "source": [
    "df.isnull().sum()"
   ]
  },
  {
   "cell_type": "code",
   "execution_count": 46,
   "id": "a19268a0-95ab-42eb-bcca-2d6509d10ead",
   "metadata": {},
   "outputs": [],
   "source": [
    "df = df.rename(columns={\n",
    "    'Age_08_04': 'Age',\n",
    "    'Fuel_Type': 'FuelType',\n",
    "    'cc': 'CC',\n",
    "    'Price': 'Price'\n",
    "})"
   ]
  },
  {
   "cell_type": "code",
   "execution_count": 47,
   "id": "dc94e962-61ce-49f0-95fe-e36807d2637b",
   "metadata": {},
   "outputs": [
    {
     "data": {
      "text/plain": [
       "['Price', 'Age', 'KM', 'FuelType', 'HP', 'Automatic', 'CC', 'Doors', 'Weight']"
      ]
     },
     "execution_count": 47,
     "metadata": {},
     "output_type": "execute_result"
    }
   ],
   "source": [
    "expected_cols = ['Price','Age','KM','FuelType','HP','Automatic','CC','Doors','Weight']\n",
    "available = [c for c in expected_cols if c in df.columns]\n",
    "available"
   ]
  },
  {
   "cell_type": "code",
   "execution_count": 48,
   "id": "80c0d1c1-ca7a-42e0-a73f-eb7145a02248",
   "metadata": {},
   "outputs": [
    {
     "name": "stdout",
     "output_type": "stream",
     "text": [
      "Quarterly_Tax not found — computed proxy from CC (assumption).\n"
     ]
    }
   ],
   "source": [
    "if 'Quarterly_Tax' not in df.columns:\n",
    "    df['Quarterly_Tax'] = np.clip((df['CC'] / 1000.0) * 50 + np.random.normal(0, 10, size=len(df)), 0, None).round(2)\n",
    "    print(\"Quarterly_Tax not found — computed proxy from CC (assumption).\")\n"
   ]
  },
  {
   "cell_type": "code",
   "execution_count": 49,
   "id": "05d81fbc-e7dd-4bf8-88f7-fcfde2f7ba4c",
   "metadata": {},
   "outputs": [
    {
     "data": {
      "text/html": [
       "<div>\n",
       "<style scoped>\n",
       "    .dataframe tbody tr th:only-of-type {\n",
       "        vertical-align: middle;\n",
       "    }\n",
       "\n",
       "    .dataframe tbody tr th {\n",
       "        vertical-align: top;\n",
       "    }\n",
       "\n",
       "    .dataframe thead th {\n",
       "        text-align: right;\n",
       "    }\n",
       "</style>\n",
       "<table border=\"1\" class=\"dataframe\">\n",
       "  <thead>\n",
       "    <tr style=\"text-align: right;\">\n",
       "      <th></th>\n",
       "      <th>Price</th>\n",
       "      <th>Age</th>\n",
       "      <th>KM</th>\n",
       "      <th>FuelType</th>\n",
       "      <th>HP</th>\n",
       "      <th>Automatic</th>\n",
       "      <th>CC</th>\n",
       "      <th>Doors</th>\n",
       "      <th>Cylinders</th>\n",
       "      <th>Gears</th>\n",
       "      <th>Weight</th>\n",
       "      <th>Quarterly_Tax</th>\n",
       "    </tr>\n",
       "  </thead>\n",
       "  <tbody>\n",
       "    <tr>\n",
       "      <th>0</th>\n",
       "      <td>13500</td>\n",
       "      <td>23</td>\n",
       "      <td>46986</td>\n",
       "      <td>Diesel</td>\n",
       "      <td>90</td>\n",
       "      <td>0</td>\n",
       "      <td>2000</td>\n",
       "      <td>3</td>\n",
       "      <td>4</td>\n",
       "      <td>5</td>\n",
       "      <td>1165</td>\n",
       "      <td>84.49</td>\n",
       "    </tr>\n",
       "    <tr>\n",
       "      <th>1</th>\n",
       "      <td>13750</td>\n",
       "      <td>23</td>\n",
       "      <td>72937</td>\n",
       "      <td>Diesel</td>\n",
       "      <td>90</td>\n",
       "      <td>0</td>\n",
       "      <td>2000</td>\n",
       "      <td>3</td>\n",
       "      <td>4</td>\n",
       "      <td>5</td>\n",
       "      <td>1165</td>\n",
       "      <td>83.77</td>\n",
       "    </tr>\n",
       "    <tr>\n",
       "      <th>2</th>\n",
       "      <td>13950</td>\n",
       "      <td>24</td>\n",
       "      <td>41711</td>\n",
       "      <td>Diesel</td>\n",
       "      <td>90</td>\n",
       "      <td>0</td>\n",
       "      <td>2000</td>\n",
       "      <td>3</td>\n",
       "      <td>4</td>\n",
       "      <td>5</td>\n",
       "      <td>1165</td>\n",
       "      <td>87.51</td>\n",
       "    </tr>\n",
       "    <tr>\n",
       "      <th>3</th>\n",
       "      <td>14950</td>\n",
       "      <td>26</td>\n",
       "      <td>48000</td>\n",
       "      <td>Diesel</td>\n",
       "      <td>90</td>\n",
       "      <td>0</td>\n",
       "      <td>2000</td>\n",
       "      <td>3</td>\n",
       "      <td>4</td>\n",
       "      <td>5</td>\n",
       "      <td>1165</td>\n",
       "      <td>105.14</td>\n",
       "    </tr>\n",
       "    <tr>\n",
       "      <th>4</th>\n",
       "      <td>13750</td>\n",
       "      <td>30</td>\n",
       "      <td>38500</td>\n",
       "      <td>Diesel</td>\n",
       "      <td>90</td>\n",
       "      <td>0</td>\n",
       "      <td>2000</td>\n",
       "      <td>3</td>\n",
       "      <td>4</td>\n",
       "      <td>5</td>\n",
       "      <td>1170</td>\n",
       "      <td>97.47</td>\n",
       "    </tr>\n",
       "    <tr>\n",
       "      <th>...</th>\n",
       "      <td>...</td>\n",
       "      <td>...</td>\n",
       "      <td>...</td>\n",
       "      <td>...</td>\n",
       "      <td>...</td>\n",
       "      <td>...</td>\n",
       "      <td>...</td>\n",
       "      <td>...</td>\n",
       "      <td>...</td>\n",
       "      <td>...</td>\n",
       "      <td>...</td>\n",
       "      <td>...</td>\n",
       "    </tr>\n",
       "    <tr>\n",
       "      <th>1431</th>\n",
       "      <td>7500</td>\n",
       "      <td>69</td>\n",
       "      <td>20544</td>\n",
       "      <td>Petrol</td>\n",
       "      <td>86</td>\n",
       "      <td>0</td>\n",
       "      <td>1300</td>\n",
       "      <td>3</td>\n",
       "      <td>4</td>\n",
       "      <td>5</td>\n",
       "      <td>1025</td>\n",
       "      <td>76.64</td>\n",
       "    </tr>\n",
       "    <tr>\n",
       "      <th>1432</th>\n",
       "      <td>10845</td>\n",
       "      <td>72</td>\n",
       "      <td>19000</td>\n",
       "      <td>Petrol</td>\n",
       "      <td>86</td>\n",
       "      <td>0</td>\n",
       "      <td>1300</td>\n",
       "      <td>3</td>\n",
       "      <td>4</td>\n",
       "      <td>5</td>\n",
       "      <td>1015</td>\n",
       "      <td>60.62</td>\n",
       "    </tr>\n",
       "    <tr>\n",
       "      <th>1433</th>\n",
       "      <td>8500</td>\n",
       "      <td>71</td>\n",
       "      <td>17016</td>\n",
       "      <td>Petrol</td>\n",
       "      <td>86</td>\n",
       "      <td>0</td>\n",
       "      <td>1300</td>\n",
       "      <td>3</td>\n",
       "      <td>4</td>\n",
       "      <td>5</td>\n",
       "      <td>1015</td>\n",
       "      <td>46.98</td>\n",
       "    </tr>\n",
       "    <tr>\n",
       "      <th>1434</th>\n",
       "      <td>7250</td>\n",
       "      <td>70</td>\n",
       "      <td>16916</td>\n",
       "      <td>Petrol</td>\n",
       "      <td>86</td>\n",
       "      <td>0</td>\n",
       "      <td>1300</td>\n",
       "      <td>3</td>\n",
       "      <td>4</td>\n",
       "      <td>5</td>\n",
       "      <td>1015</td>\n",
       "      <td>76.17</td>\n",
       "    </tr>\n",
       "    <tr>\n",
       "      <th>1435</th>\n",
       "      <td>6950</td>\n",
       "      <td>76</td>\n",
       "      <td>1</td>\n",
       "      <td>Petrol</td>\n",
       "      <td>110</td>\n",
       "      <td>0</td>\n",
       "      <td>1600</td>\n",
       "      <td>5</td>\n",
       "      <td>4</td>\n",
       "      <td>5</td>\n",
       "      <td>1114</td>\n",
       "      <td>82.53</td>\n",
       "    </tr>\n",
       "  </tbody>\n",
       "</table>\n",
       "<p>1436 rows × 12 columns</p>\n",
       "</div>"
      ],
      "text/plain": [
       "      Price  Age     KM FuelType   HP  Automatic    CC  Doors  Cylinders  \\\n",
       "0     13500   23  46986   Diesel   90          0  2000      3          4   \n",
       "1     13750   23  72937   Diesel   90          0  2000      3          4   \n",
       "2     13950   24  41711   Diesel   90          0  2000      3          4   \n",
       "3     14950   26  48000   Diesel   90          0  2000      3          4   \n",
       "4     13750   30  38500   Diesel   90          0  2000      3          4   \n",
       "...     ...  ...    ...      ...  ...        ...   ...    ...        ...   \n",
       "1431   7500   69  20544   Petrol   86          0  1300      3          4   \n",
       "1432  10845   72  19000   Petrol   86          0  1300      3          4   \n",
       "1433   8500   71  17016   Petrol   86          0  1300      3          4   \n",
       "1434   7250   70  16916   Petrol   86          0  1300      3          4   \n",
       "1435   6950   76      1   Petrol  110          0  1600      5          4   \n",
       "\n",
       "      Gears  Weight  Quarterly_Tax  \n",
       "0         5    1165          84.49  \n",
       "1         5    1165          83.77  \n",
       "2         5    1165          87.51  \n",
       "3         5    1165         105.14  \n",
       "4         5    1170          97.47  \n",
       "...     ...     ...            ...  \n",
       "1431      5    1025          76.64  \n",
       "1432      5    1015          60.62  \n",
       "1433      5    1015          46.98  \n",
       "1434      5    1015          76.17  \n",
       "1435      5    1114          82.53  \n",
       "\n",
       "[1436 rows x 12 columns]"
      ]
     },
     "execution_count": 49,
     "metadata": {},
     "output_type": "execute_result"
    }
   ],
   "source": [
    "df = df.dropna(subset=['Price','Age','KM','FuelType','HP','Automatic','CC','Doors','Weight'])\n",
    "df.reset_index(drop=True, inplace=True)\n",
    "df"
   ]
  },
  {
   "cell_type": "code",
   "execution_count": 50,
   "id": "b78cf9bb-1a41-4891-8742-756f63517df8",
   "metadata": {},
   "outputs": [
    {
     "data": {
      "text/html": [
       "<div>\n",
       "<style scoped>\n",
       "    .dataframe tbody tr th:only-of-type {\n",
       "        vertical-align: middle;\n",
       "    }\n",
       "\n",
       "    .dataframe tbody tr th {\n",
       "        vertical-align: top;\n",
       "    }\n",
       "\n",
       "    .dataframe thead th {\n",
       "        text-align: right;\n",
       "    }\n",
       "</style>\n",
       "<table border=\"1\" class=\"dataframe\">\n",
       "  <thead>\n",
       "    <tr style=\"text-align: right;\">\n",
       "      <th></th>\n",
       "      <th>count</th>\n",
       "      <th>mean</th>\n",
       "      <th>std</th>\n",
       "      <th>min</th>\n",
       "      <th>25%</th>\n",
       "      <th>50%</th>\n",
       "      <th>75%</th>\n",
       "      <th>max</th>\n",
       "    </tr>\n",
       "  </thead>\n",
       "  <tbody>\n",
       "    <tr>\n",
       "      <th>Price</th>\n",
       "      <td>1436.0</td>\n",
       "      <td>10730.824513</td>\n",
       "      <td>3626.964585</td>\n",
       "      <td>4350.0</td>\n",
       "      <td>8450.0000</td>\n",
       "      <td>9900.00</td>\n",
       "      <td>11950.00</td>\n",
       "      <td>32500.00</td>\n",
       "    </tr>\n",
       "    <tr>\n",
       "      <th>Age</th>\n",
       "      <td>1436.0</td>\n",
       "      <td>55.947075</td>\n",
       "      <td>18.599988</td>\n",
       "      <td>1.0</td>\n",
       "      <td>44.0000</td>\n",
       "      <td>61.00</td>\n",
       "      <td>70.00</td>\n",
       "      <td>80.00</td>\n",
       "    </tr>\n",
       "    <tr>\n",
       "      <th>KM</th>\n",
       "      <td>1436.0</td>\n",
       "      <td>68533.259749</td>\n",
       "      <td>37506.448872</td>\n",
       "      <td>1.0</td>\n",
       "      <td>43000.0000</td>\n",
       "      <td>63389.50</td>\n",
       "      <td>87020.75</td>\n",
       "      <td>243000.00</td>\n",
       "    </tr>\n",
       "    <tr>\n",
       "      <th>HP</th>\n",
       "      <td>1436.0</td>\n",
       "      <td>101.502089</td>\n",
       "      <td>14.981080</td>\n",
       "      <td>69.0</td>\n",
       "      <td>90.0000</td>\n",
       "      <td>110.00</td>\n",
       "      <td>110.00</td>\n",
       "      <td>192.00</td>\n",
       "    </tr>\n",
       "    <tr>\n",
       "      <th>Automatic</th>\n",
       "      <td>1436.0</td>\n",
       "      <td>0.055710</td>\n",
       "      <td>0.229441</td>\n",
       "      <td>0.0</td>\n",
       "      <td>0.0000</td>\n",
       "      <td>0.00</td>\n",
       "      <td>0.00</td>\n",
       "      <td>1.00</td>\n",
       "    </tr>\n",
       "    <tr>\n",
       "      <th>CC</th>\n",
       "      <td>1436.0</td>\n",
       "      <td>1576.855850</td>\n",
       "      <td>424.386770</td>\n",
       "      <td>1300.0</td>\n",
       "      <td>1400.0000</td>\n",
       "      <td>1600.00</td>\n",
       "      <td>1600.00</td>\n",
       "      <td>16000.00</td>\n",
       "    </tr>\n",
       "    <tr>\n",
       "      <th>Doors</th>\n",
       "      <td>1436.0</td>\n",
       "      <td>4.033426</td>\n",
       "      <td>0.952677</td>\n",
       "      <td>2.0</td>\n",
       "      <td>3.0000</td>\n",
       "      <td>4.00</td>\n",
       "      <td>5.00</td>\n",
       "      <td>5.00</td>\n",
       "    </tr>\n",
       "    <tr>\n",
       "      <th>Cylinders</th>\n",
       "      <td>1436.0</td>\n",
       "      <td>4.000000</td>\n",
       "      <td>0.000000</td>\n",
       "      <td>4.0</td>\n",
       "      <td>4.0000</td>\n",
       "      <td>4.00</td>\n",
       "      <td>4.00</td>\n",
       "      <td>4.00</td>\n",
       "    </tr>\n",
       "    <tr>\n",
       "      <th>Gears</th>\n",
       "      <td>1436.0</td>\n",
       "      <td>5.026462</td>\n",
       "      <td>0.188510</td>\n",
       "      <td>3.0</td>\n",
       "      <td>5.0000</td>\n",
       "      <td>5.00</td>\n",
       "      <td>5.00</td>\n",
       "      <td>6.00</td>\n",
       "    </tr>\n",
       "    <tr>\n",
       "      <th>Weight</th>\n",
       "      <td>1436.0</td>\n",
       "      <td>1072.459610</td>\n",
       "      <td>52.641120</td>\n",
       "      <td>1000.0</td>\n",
       "      <td>1040.0000</td>\n",
       "      <td>1070.00</td>\n",
       "      <td>1085.00</td>\n",
       "      <td>1615.00</td>\n",
       "    </tr>\n",
       "    <tr>\n",
       "      <th>Quarterly_Tax</th>\n",
       "      <td>1436.0</td>\n",
       "      <td>79.275710</td>\n",
       "      <td>23.413509</td>\n",
       "      <td>34.4</td>\n",
       "      <td>68.9725</td>\n",
       "      <td>78.56</td>\n",
       "      <td>87.28</td>\n",
       "      <td>791.41</td>\n",
       "    </tr>\n",
       "  </tbody>\n",
       "</table>\n",
       "</div>"
      ],
      "text/plain": [
       "                count          mean           std     min         25%  \\\n",
       "Price          1436.0  10730.824513   3626.964585  4350.0   8450.0000   \n",
       "Age            1436.0     55.947075     18.599988     1.0     44.0000   \n",
       "KM             1436.0  68533.259749  37506.448872     1.0  43000.0000   \n",
       "HP             1436.0    101.502089     14.981080    69.0     90.0000   \n",
       "Automatic      1436.0      0.055710      0.229441     0.0      0.0000   \n",
       "CC             1436.0   1576.855850    424.386770  1300.0   1400.0000   \n",
       "Doors          1436.0      4.033426      0.952677     2.0      3.0000   \n",
       "Cylinders      1436.0      4.000000      0.000000     4.0      4.0000   \n",
       "Gears          1436.0      5.026462      0.188510     3.0      5.0000   \n",
       "Weight         1436.0   1072.459610     52.641120  1000.0   1040.0000   \n",
       "Quarterly_Tax  1436.0     79.275710     23.413509    34.4     68.9725   \n",
       "\n",
       "                    50%       75%        max  \n",
       "Price           9900.00  11950.00   32500.00  \n",
       "Age               61.00     70.00      80.00  \n",
       "KM             63389.50  87020.75  243000.00  \n",
       "HP               110.00    110.00     192.00  \n",
       "Automatic          0.00      0.00       1.00  \n",
       "CC              1600.00   1600.00   16000.00  \n",
       "Doors              4.00      5.00       5.00  \n",
       "Cylinders          4.00      4.00       4.00  \n",
       "Gears              5.00      5.00       6.00  \n",
       "Weight          1070.00   1085.00    1615.00  \n",
       "Quarterly_Tax     78.56     87.28     791.41  "
      ]
     },
     "execution_count": 50,
     "metadata": {},
     "output_type": "execute_result"
    }
   ],
   "source": [
    "df.describe().T"
   ]
  },
  {
   "cell_type": "markdown",
   "id": "63d2219f-5337-4369-b582-07be21a9a2c8",
   "metadata": {},
   "source": [
    "##### 1.Perform exploratory data analysis (EDA) to gain insights into the dataset. Provide visualizations and summary statistics of the variables. Pre-process the data to apply the MLR."
   ]
  },
  {
   "cell_type": "code",
   "execution_count": 51,
   "id": "766c644c-40f4-4a60-8943-fb012abfb0d8",
   "metadata": {},
   "outputs": [
    {
     "data": {
      "text/html": [
       "<div>\n",
       "<style scoped>\n",
       "    .dataframe tbody tr th:only-of-type {\n",
       "        vertical-align: middle;\n",
       "    }\n",
       "\n",
       "    .dataframe tbody tr th {\n",
       "        vertical-align: top;\n",
       "    }\n",
       "\n",
       "    .dataframe thead th {\n",
       "        text-align: right;\n",
       "    }\n",
       "</style>\n",
       "<table border=\"1\" class=\"dataframe\">\n",
       "  <thead>\n",
       "    <tr style=\"text-align: right;\">\n",
       "      <th></th>\n",
       "      <th>Price</th>\n",
       "      <th>Age</th>\n",
       "      <th>KM</th>\n",
       "      <th>HP</th>\n",
       "      <th>Automatic</th>\n",
       "      <th>CC</th>\n",
       "      <th>Doors</th>\n",
       "      <th>Weight</th>\n",
       "      <th>Quarterly_Tax</th>\n",
       "    </tr>\n",
       "  </thead>\n",
       "  <tbody>\n",
       "    <tr>\n",
       "      <th>Price</th>\n",
       "      <td>1.000000</td>\n",
       "      <td>-0.876590</td>\n",
       "      <td>-0.569960</td>\n",
       "      <td>0.314990</td>\n",
       "      <td>0.033081</td>\n",
       "      <td>0.126389</td>\n",
       "      <td>0.185326</td>\n",
       "      <td>0.581198</td>\n",
       "      <td>0.098827</td>\n",
       "    </tr>\n",
       "    <tr>\n",
       "      <th>Age</th>\n",
       "      <td>-0.876590</td>\n",
       "      <td>1.000000</td>\n",
       "      <td>0.505672</td>\n",
       "      <td>-0.156622</td>\n",
       "      <td>0.031717</td>\n",
       "      <td>-0.098084</td>\n",
       "      <td>-0.148359</td>\n",
       "      <td>-0.470253</td>\n",
       "      <td>-0.076066</td>\n",
       "    </tr>\n",
       "    <tr>\n",
       "      <th>KM</th>\n",
       "      <td>-0.569960</td>\n",
       "      <td>0.505672</td>\n",
       "      <td>1.000000</td>\n",
       "      <td>-0.333538</td>\n",
       "      <td>-0.081854</td>\n",
       "      <td>0.102683</td>\n",
       "      <td>-0.036197</td>\n",
       "      <td>-0.028598</td>\n",
       "      <td>0.119840</td>\n",
       "    </tr>\n",
       "    <tr>\n",
       "      <th>HP</th>\n",
       "      <td>0.314990</td>\n",
       "      <td>-0.156622</td>\n",
       "      <td>-0.333538</td>\n",
       "      <td>1.000000</td>\n",
       "      <td>0.013144</td>\n",
       "      <td>0.035856</td>\n",
       "      <td>0.092424</td>\n",
       "      <td>0.089614</td>\n",
       "      <td>0.014075</td>\n",
       "    </tr>\n",
       "    <tr>\n",
       "      <th>Automatic</th>\n",
       "      <td>0.033081</td>\n",
       "      <td>0.031717</td>\n",
       "      <td>-0.081854</td>\n",
       "      <td>0.013144</td>\n",
       "      <td>1.000000</td>\n",
       "      <td>0.066740</td>\n",
       "      <td>-0.027654</td>\n",
       "      <td>0.057249</td>\n",
       "      <td>0.082010</td>\n",
       "    </tr>\n",
       "    <tr>\n",
       "      <th>CC</th>\n",
       "      <td>0.126389</td>\n",
       "      <td>-0.098084</td>\n",
       "      <td>0.102683</td>\n",
       "      <td>0.035856</td>\n",
       "      <td>0.066740</td>\n",
       "      <td>1.000000</td>\n",
       "      <td>0.079903</td>\n",
       "      <td>0.335637</td>\n",
       "      <td>0.898669</td>\n",
       "    </tr>\n",
       "    <tr>\n",
       "      <th>Doors</th>\n",
       "      <td>0.185326</td>\n",
       "      <td>-0.148359</td>\n",
       "      <td>-0.036197</td>\n",
       "      <td>0.092424</td>\n",
       "      <td>-0.027654</td>\n",
       "      <td>0.079903</td>\n",
       "      <td>1.000000</td>\n",
       "      <td>0.302618</td>\n",
       "      <td>0.061561</td>\n",
       "    </tr>\n",
       "    <tr>\n",
       "      <th>Weight</th>\n",
       "      <td>0.581198</td>\n",
       "      <td>-0.470253</td>\n",
       "      <td>-0.028598</td>\n",
       "      <td>0.089614</td>\n",
       "      <td>0.057249</td>\n",
       "      <td>0.335637</td>\n",
       "      <td>0.302618</td>\n",
       "      <td>1.000000</td>\n",
       "      <td>0.297997</td>\n",
       "    </tr>\n",
       "    <tr>\n",
       "      <th>Quarterly_Tax</th>\n",
       "      <td>0.098827</td>\n",
       "      <td>-0.076066</td>\n",
       "      <td>0.119840</td>\n",
       "      <td>0.014075</td>\n",
       "      <td>0.082010</td>\n",
       "      <td>0.898669</td>\n",
       "      <td>0.061561</td>\n",
       "      <td>0.297997</td>\n",
       "      <td>1.000000</td>\n",
       "    </tr>\n",
       "  </tbody>\n",
       "</table>\n",
       "</div>"
      ],
      "text/plain": [
       "                  Price       Age        KM        HP  Automatic        CC  \\\n",
       "Price          1.000000 -0.876590 -0.569960  0.314990   0.033081  0.126389   \n",
       "Age           -0.876590  1.000000  0.505672 -0.156622   0.031717 -0.098084   \n",
       "KM            -0.569960  0.505672  1.000000 -0.333538  -0.081854  0.102683   \n",
       "HP             0.314990 -0.156622 -0.333538  1.000000   0.013144  0.035856   \n",
       "Automatic      0.033081  0.031717 -0.081854  0.013144   1.000000  0.066740   \n",
       "CC             0.126389 -0.098084  0.102683  0.035856   0.066740  1.000000   \n",
       "Doors          0.185326 -0.148359 -0.036197  0.092424  -0.027654  0.079903   \n",
       "Weight         0.581198 -0.470253 -0.028598  0.089614   0.057249  0.335637   \n",
       "Quarterly_Tax  0.098827 -0.076066  0.119840  0.014075   0.082010  0.898669   \n",
       "\n",
       "                  Doors    Weight  Quarterly_Tax  \n",
       "Price          0.185326  0.581198       0.098827  \n",
       "Age           -0.148359 -0.470253      -0.076066  \n",
       "KM            -0.036197 -0.028598       0.119840  \n",
       "HP             0.092424  0.089614       0.014075  \n",
       "Automatic     -0.027654  0.057249       0.082010  \n",
       "CC             0.079903  0.335637       0.898669  \n",
       "Doors          1.000000  0.302618       0.061561  \n",
       "Weight         0.302618  1.000000       0.297997  \n",
       "Quarterly_Tax  0.061561  0.297997       1.000000  "
      ]
     },
     "execution_count": 51,
     "metadata": {},
     "output_type": "execute_result"
    }
   ],
   "source": [
    "num_cols = ['Price','Age','KM','HP','Automatic','CC','Doors','Weight','Quarterly_Tax']\n",
    "corr = df[num_cols].corr()\n",
    "corr"
   ]
  },
  {
   "cell_type": "code",
   "execution_count": 52,
   "id": "5f76038f-332c-4263-a5cd-b597b0c41351",
   "metadata": {},
   "outputs": [
    {
     "data": {
      "text/plain": [
       "Text(0.5, 0, 'Price (EUR)')"
      ]
     },
     "execution_count": 52,
     "metadata": {},
     "output_type": "execute_result"
    },
    {
     "data": {
      "image/png": "[encoded data removed]",
      "text/plain": [
       "<Figure size 1600x400 with 1 Axes>"
      ]
     },
     "metadata": {},
     "output_type": "display_data"
    }
   ],
   "source": [
    "plt.figure(figsize=(16,4))\n",
    "plt.subplot(1,3,1)\n",
    "sns.histplot(df['Price'], bins=30, kde=True)\n",
    "plt.title('Price Distribution'); plt.xlabel('Price (EUR)')\n"
   ]
  },
  {
   "cell_type": "code",
   "execution_count": 53,
   "id": "4f0c1b7e-53d8-43aa-8f89-00092028e543",
   "metadata": {},
   "outputs": [
    {
     "data": {
      "text/plain": [
       "Text(0, 0.5, 'Price')"
      ]
     },
     "execution_count": 53,
     "metadata": {},
     "output_type": "execute_result"
    },
    {
     "data": {
      "image/png": "[encoded data removed]",
      "text/plain": [
       "<Figure size 1200x400 with 1 Axes>"
      ]
     },
     "metadata": {},
     "output_type": "display_data"
    }
   ],
   "source": [
    "plt.figure(figsize=(12,4))\n",
    "plt.subplot(1,3,2)\n",
    "plt.scatter(df['KM'], df['Price'], alpha=0.5, s=20)\n",
    "plt.title('Price vs KM'); plt.xlabel('KM'); plt.ylabel('Price')"
   ]
  },
  {
   "cell_type": "code",
   "execution_count": 54,
   "id": "363efcae-1343-4dae-9439-f1c6f8fecf00",
   "metadata": {},
   "outputs": [
    {
     "data": {
      "text/plain": [
       "Text(0.5, 1.0, 'Price by FuelType')"
      ]
     },
     "execution_count": 54,
     "metadata": {},
     "output_type": "execute_result"
    },
    {
     "data": {
      "image/png": "[encoded data removed]",
      "text/plain": [
       "<Figure size 1200x400 with 1 Axes>"
      ]
     },
     "metadata": {},
     "output_type": "display_data"
    }
   ],
   "source": [
    "plt.figure(figsize=(12,4))\n",
    "plt.subplot(1,3,3)\n",
    "sns.boxplot(x='FuelType', y='Price', data=df)\n",
    "plt.title('Price by FuelType')"
   ]
  },
  {
   "cell_type": "code",
   "execution_count": 55,
   "id": "b12878e7-c609-4eb6-b3d4-3a33ecb6957a",
   "metadata": {},
   "outputs": [],
   "source": [
    "plt.tight_layout()\n",
    "plt.savefig(('eda_plots.png'), dpi=200)\n",
    "plt.close()"
   ]
  },
  {
   "cell_type": "markdown",
   "id": "8d5eb645-9961-400d-b33e-128b8cffe71d",
   "metadata": {},
   "source": [
    "##### 2.Split the dataset into training and testing sets (e.g., 80% training, 20% testing)."
   ]
  },
  {
   "cell_type": "code",
   "execution_count": 57,
   "id": "1117015b-bd25-4ec7-9e07-9536fa5579fd",
   "metadata": {},
   "outputs": [],
   "source": [
    "numeric_features = ['Age','KM','HP','CC','Doors','Weight','Quarterly_Tax','Automatic']\n",
    "categorical_features = ['FuelType'] "
   ]
  },
  {
   "cell_type": "code",
   "execution_count": 59,
   "id": "e5bc3d20-564a-435b-b903-9e463118a6ca",
   "metadata": {},
   "outputs": [],
   "source": [
    "preprocessor = ColumnTransformer(transformers=[\n",
    "    ('num', StandardScaler(), numeric_features),\n",
    "    ('cat', OneHotEncoder(drop='first', handle_unknown='ignore'), categorical_features)\n",
    "])\n"
   ]
  },
  {
   "cell_type": "code",
   "execution_count": 60,
   "id": "5092390c-4a65-4be2-9ca5-a85fc17545f0",
   "metadata": {},
   "outputs": [],
   "source": [
    "X = df[numeric_features + categorical_features]\n",
    "y = df['Price']\n"
   ]
  },
  {
   "cell_type": "code",
   "execution_count": 61,
   "id": "7a15ebf5-7bc8-4dee-81a6-ffa39b149333",
   "metadata": {},
   "outputs": [],
   "source": [
    "X_pre = preprocessor.fit_transform(X)\n"
   ]
  },
  {
   "cell_type": "code",
   "execution_count": 64,
   "id": "b16fee4d-f8f2-4334-8626-0af416fd294b",
   "metadata": {},
   "outputs": [],
   "source": [
    "ohe = preprocessor.named_transformers_['cat']\n",
    "try:\n",
    "    ohe_feature_names = ohe.get_feature_names_out(categorical_features).tolist()\n",
    "except Exception:\n",
    "    categories = ohe.categories_[0][1:] \n",
    "    ohe_feature_names = [f\"FuelType_{c}\" for c in categories]"
   ]
  },
  {
   "cell_type": "code",
   "execution_count": 65,
   "id": "c1d202e2-9c37-4fd5-82bc-2cc1d147bc56",
   "metadata": {},
   "outputs": [],
   "source": [
    "feature_names = numeric_features + ohe_feature_names\n",
    "X_pre_df = pd.DataFrame(X_pre, columns=feature_names)"
   ]
  },
  {
   "cell_type": "code",
   "execution_count": 67,
   "id": "d773f868-3bd0-48fd-8042-2afcfde50b51",
   "metadata": {},
   "outputs": [
    {
     "data": {
      "text/plain": [
       "((1148, 10), (288, 10), (1148,), (288,))"
      ]
     },
     "execution_count": 67,
     "metadata": {},
     "output_type": "execute_result"
    }
   ],
   "source": [
    "X_train, X_test, y_train, y_test = train_test_split(X_pre_df, y, test_size=0.2, random_state=42)\n",
    "X_train.shape, X_test.shape, y_train.shape, y_test.shape"
   ]
  },
  {
   "cell_type": "markdown",
   "id": "3126f9a9-5da4-4679-8671-6dded3f5f2ed",
   "metadata": {},
   "source": [
    "#### 3.Build a multiple linear regression model using the training dataset. Interpret the coefficients of the model. Build a minimum of 3 different models."
   ]
  },
  {
   "cell_type": "code",
   "execution_count": 68,
   "id": "b2bed41d-2ced-4907-8ebb-a3aa38189caa",
   "metadata": {},
   "outputs": [],
   "source": [
    "def rmse(y_true, y_pred):\n",
    "    return np.sqrt(mean_squared_error(y_true, y_pred))"
   ]
  },
  {
   "cell_type": "markdown",
   "id": "aa794abe-0dfd-4c24-a8a9-336069c18314",
   "metadata": {},
   "source": [
    "#### 4.Evaluate the performance of the model using appropriate evaluation metrics on the testing dataset."
   ]
  },
  {
   "cell_type": "code",
   "execution_count": 69,
   "id": "86b8073c-ead7-43c0-83c1-86e400b7e546",
   "metadata": {},
   "outputs": [],
   "source": [
    "def eval_and_report(name, y_true, y_pred):\n",
    "    m_rmse = rmse(y_true, y_pred)\n",
    "    m_mae = mean_absolute_error(y_true, y_pred)\n",
    "    m_r2 = r2_score(y_true, y_pred)\n",
    "    print(f\"{name}: RMSE={m_rmse:.2f}, MAE={m_mae:.2f}, R2={m_r2:.4f}\")\n",
    "    return {'RMSE': m_rmse, 'MAE': m_mae, 'R2': m_r2}"
   ]
  },
  {
   "cell_type": "code",
   "execution_count": 79,
   "id": "c7a16b09-ae78-46ce-86fa-9f2f3a76ae55",
   "metadata": {},
   "outputs": [
    {
     "name": "stdout",
     "output_type": "stream",
     "text": [
      "OLS_all: RMSE=1497.03, MAE=992.93, R2=0.8320\n"
     ]
    }
   ],
   "source": [
    "model_a = LinearRegression()\n",
    "model_a.fit(X_train, y_train)\n",
    "y_pred_a = model_a.predict(X_test)\n",
    "metrics_a = eval_and_report(\"OLS_all\", y_test, y_pred_a)"
   ]
  },
  {
   "cell_type": "code",
   "execution_count": 100,
   "id": "ad6cf6da-0dd6-45a3-b486-725e9f756e17",
   "metadata": {},
   "outputs": [
    {
     "name": "stdout",
     "output_type": "stream",
     "text": [
      "OLS_log_backtrans: RMSE=1294.70, MAE=873.92, R2=0.8744\n"
     ]
    }
   ],
   "source": [
    "y_log = np.log1p(y)  \n",
    "X_train_b, X_test_b, y_train_b, y_test_b = train_test_split(X_pre_df, y_log, test_size=0.2, random_state=42)\n",
    "model_b = LinearRegression()\n",
    "model_b.fit(X_train_b, y_train_b)\n",
    "y_pred_b_log = model_b.predict(X_test_b)\n",
    "y_pred_b = np.expm1(y_pred_b_log)  \n",
    "metrics_b = eval_and_report(\"OLS_log_backtrans\", y_test, y_pred_b)\n"
   ]
  },
  {
   "cell_type": "code",
   "execution_count": 81,
   "id": "f4b6a8cd-8e2f-4b9b-823b-ba2a38aee51a",
   "metadata": {},
   "outputs": [
    {
     "name": "stdout",
     "output_type": "stream",
     "text": [
      "OLS_selected: RMSE=1468.81, MAE=1078.61, R2=0.8383\n"
     ]
    }
   ],
   "source": [
    "selected = ['Age','KM','HP','Automatic','CC'] + [c for c in feature_names if 'FuelType' in c]\n",
    "X_sel = X_pre_df[selected]\n",
    "X_train_c, X_test_c, y_train_c, y_test_c = train_test_split(X_sel, y, test_size=0.2, random_state=42)\n",
    "model_c = LinearRegression()\n",
    "model_c.fit(X_train_c, y_train_c)\n",
    "y_pred_c = model_c.predict(X_test_c)\n",
    "metrics_c = eval_and_report(\"OLS_selected\", y_test_c, y_pred_c)"
   ]
  },
  {
   "cell_type": "markdown",
   "id": "22cac440-1781-4e6a-aaad-7f9e4681951c",
   "metadata": {},
   "source": [
    "#### 5.Apply Lasso and Ridge methods on the model."
   ]
  },
  {
   "cell_type": "code",
   "execution_count": 83,
   "id": "12999f5b-4e00-4d83-a035-88b92b654bef",
   "metadata": {},
   "outputs": [],
   "source": [
    "alphas = np.logspace(-3, 3, 50)\n",
    "\n",
    "lasso_cv = LassoCV(alphas=None, cv=5, random_state=42, max_iter=5000).fit(X_train, y_train)\n",
    "ridge_cv = RidgeCV(alphas=alphas, cv=5).fit(X_train, y_train)"
   ]
  },
  {
   "cell_type": "code",
   "execution_count": 84,
   "id": "881fec3d-8bb9-4640-aa7a-5c1ee1bb2af3",
   "metadata": {},
   "outputs": [],
   "source": [
    "y_pred_lasso = lasso_cv.predict(X_test)\n",
    "y_pred_ridge = ridge_cv.predict(X_test)"
   ]
  },
  {
   "cell_type": "code",
   "execution_count": 85,
   "id": "4658185a-371b-4bbe-86b5-02d0ddd8a6bf",
   "metadata": {},
   "outputs": [
    {
     "name": "stdout",
     "output_type": "stream",
     "text": [
      "LassoCV: RMSE=1408.48, MAE=996.22, R2=0.8513\n",
      "RidgeCV: RMSE=1440.05, MAE=995.25, R2=0.8446\n"
     ]
    }
   ],
   "source": [
    "metrics_lasso = eval_and_report(\"LassoCV\", y_test, y_pred_lasso)\n",
    "metrics_ridge = eval_and_report(\"RidgeCV\", y_test, y_pred_ridge)"
   ]
  },
  {
   "cell_type": "code",
   "execution_count": 86,
   "id": "e5ff9f5e-a03a-4806-8f26-5069483788e7",
   "metadata": {},
   "outputs": [
    {
     "data": {
      "text/plain": [
       "np.float64(60.091560511207526)"
      ]
     },
     "execution_count": 86,
     "metadata": {},
     "output_type": "execute_result"
    }
   ],
   "source": [
    "lasso_cv.alpha_"
   ]
  },
  {
   "cell_type": "code",
   "execution_count": 87,
   "id": "5bd31297-56c7-48fe-9400-8a30a50d62be",
   "metadata": {},
   "outputs": [
    {
     "data": {
      "text/plain": [
       "np.float64(79.06043210907701)"
      ]
     },
     "execution_count": 87,
     "metadata": {},
     "output_type": "execute_result"
    }
   ],
   "source": [
    "ridge_cv.alpha_"
   ]
  },
  {
   "cell_type": "code",
   "execution_count": 88,
   "id": "4d5ab4e1-1f77-49f5-82f3-bc9e3c184d3d",
   "metadata": {},
   "outputs": [],
   "source": [
    "coef_df = pd.DataFrame({\n",
    "    'feature': feature_names,\n",
    "    'coef_OLS_all': model_a.coef_\n",
    "}).sort_values(by='coef_OLS_all', key=lambda s: s.abs(), ascending=False)"
   ]
  },
  {
   "cell_type": "code",
   "execution_count": 92,
   "id": "aab9375a-b1a7-4e15-8c60-25e6424ffd69",
   "metadata": {},
   "outputs": [
    {
     "data": {
      "text/html": [
       "<div>\n",
       "<style scoped>\n",
       "    .dataframe tbody tr th:only-of-type {\n",
       "        vertical-align: middle;\n",
       "    }\n",
       "\n",
       "    .dataframe tbody tr th {\n",
       "        vertical-align: top;\n",
       "    }\n",
       "\n",
       "    .dataframe thead th {\n",
       "        text-align: right;\n",
       "    }\n",
       "</style>\n",
       "<table border=\"1\" class=\"dataframe\">\n",
       "  <thead>\n",
       "    <tr style=\"text-align: right;\">\n",
       "      <th></th>\n",
       "      <th>feature</th>\n",
       "      <th>coef_OLS_all</th>\n",
       "    </tr>\n",
       "  </thead>\n",
       "  <tbody>\n",
       "    <tr>\n",
       "      <th>0</th>\n",
       "      <td>Age</td>\n",
       "      <td>-2245.594452</td>\n",
       "    </tr>\n",
       "    <tr>\n",
       "      <th>9</th>\n",
       "      <td>FuelType_Petrol</td>\n",
       "      <td>1470.300431</td>\n",
       "    </tr>\n",
       "    <tr>\n",
       "      <th>5</th>\n",
       "      <td>Weight</td>\n",
       "      <td>1375.219180</td>\n",
       "    </tr>\n",
       "    <tr>\n",
       "      <th>1</th>\n",
       "      <td>KM</td>\n",
       "      <td>-598.534212</td>\n",
       "    </tr>\n",
       "    <tr>\n",
       "      <th>2</th>\n",
       "      <td>HP</td>\n",
       "      <td>235.302058</td>\n",
       "    </tr>\n",
       "    <tr>\n",
       "      <th>3</th>\n",
       "      <td>CC</td>\n",
       "      <td>-115.599860</td>\n",
       "    </tr>\n",
       "    <tr>\n",
       "      <th>6</th>\n",
       "      <td>Quarterly_Tax</td>\n",
       "      <td>114.878852</td>\n",
       "    </tr>\n",
       "    <tr>\n",
       "      <th>4</th>\n",
       "      <td>Doors</td>\n",
       "      <td>-80.576167</td>\n",
       "    </tr>\n",
       "    <tr>\n",
       "      <th>7</th>\n",
       "      <td>Automatic</td>\n",
       "      <td>17.833115</td>\n",
       "    </tr>\n",
       "    <tr>\n",
       "      <th>8</th>\n",
       "      <td>FuelType_Diesel</td>\n",
       "      <td>8.475170</td>\n",
       "    </tr>\n",
       "  </tbody>\n",
       "</table>\n",
       "</div>"
      ],
      "text/plain": [
       "           feature  coef_OLS_all\n",
       "0              Age  -2245.594452\n",
       "9  FuelType_Petrol   1470.300431\n",
       "5           Weight   1375.219180\n",
       "1               KM   -598.534212\n",
       "2               HP    235.302058\n",
       "3               CC   -115.599860\n",
       "6    Quarterly_Tax    114.878852\n",
       "4            Doors    -80.576167\n",
       "7        Automatic     17.833115\n",
       "8  FuelType_Diesel      8.475170"
      ]
     },
     "execution_count": 92,
     "metadata": {},
     "output_type": "execute_result"
    }
   ],
   "source": [
    "coef_df.head(10)"
   ]
  },
  {
   "cell_type": "code",
   "execution_count": 90,
   "id": "2e0bf356-a486-48f6-95b4-f6a285e58fb7",
   "metadata": {},
   "outputs": [
    {
     "data": {
      "text/html": [
       "<div>\n",
       "<style scoped>\n",
       "    .dataframe tbody tr th:only-of-type {\n",
       "        vertical-align: middle;\n",
       "    }\n",
       "\n",
       "    .dataframe tbody tr th {\n",
       "        vertical-align: top;\n",
       "    }\n",
       "\n",
       "    .dataframe thead th {\n",
       "        text-align: right;\n",
       "    }\n",
       "</style>\n",
       "<table border=\"1\" class=\"dataframe\">\n",
       "  <thead>\n",
       "    <tr style=\"text-align: right;\">\n",
       "      <th></th>\n",
       "      <th>feature</th>\n",
       "      <th>coef_OLS_selected</th>\n",
       "    </tr>\n",
       "  </thead>\n",
       "  <tbody>\n",
       "    <tr>\n",
       "      <th>5</th>\n",
       "      <td>FuelType_Diesel</td>\n",
       "      <td>2726.429846</td>\n",
       "    </tr>\n",
       "    <tr>\n",
       "      <th>0</th>\n",
       "      <td>Age</td>\n",
       "      <td>-2623.579732</td>\n",
       "    </tr>\n",
       "    <tr>\n",
       "      <th>2</th>\n",
       "      <td>HP</td>\n",
       "      <td>830.272397</td>\n",
       "    </tr>\n",
       "    <tr>\n",
       "      <th>1</th>\n",
       "      <td>KM</td>\n",
       "      <td>-686.970530</td>\n",
       "    </tr>\n",
       "    <tr>\n",
       "      <th>6</th>\n",
       "      <td>FuelType_Petrol</td>\n",
       "      <td>618.243439</td>\n",
       "    </tr>\n",
       "  </tbody>\n",
       "</table>\n",
       "</div>"
      ],
      "text/plain": [
       "           feature  coef_OLS_selected\n",
       "5  FuelType_Diesel        2726.429846\n",
       "0              Age       -2623.579732\n",
       "2               HP         830.272397\n",
       "1               KM        -686.970530\n",
       "6  FuelType_Petrol         618.243439"
      ]
     },
     "execution_count": 90,
     "metadata": {},
     "output_type": "execute_result"
    }
   ],
   "source": [
    "coef_sel_df = pd.DataFrame({\n",
    "    'feature': selected,\n",
    "    'coef_OLS_selected': model_c.coef_\n",
    "}).sort_values(by='coef_OLS_selected', key=lambda s: s.abs(), ascending=False)\n",
    "coef_sel_df.head()"
   ]
  },
  {
   "cell_type": "code",
   "execution_count": 91,
   "id": "c5ed9735-4077-4d50-984e-ce7888b58fee",
   "metadata": {},
   "outputs": [
    {
     "data": {
      "text/html": [
       "<div>\n",
       "<style scoped>\n",
       "    .dataframe tbody tr th:only-of-type {\n",
       "        vertical-align: middle;\n",
       "    }\n",
       "\n",
       "    .dataframe tbody tr th {\n",
       "        vertical-align: top;\n",
       "    }\n",
       "\n",
       "    .dataframe thead th {\n",
       "        text-align: right;\n",
       "    }\n",
       "</style>\n",
       "<table border=\"1\" class=\"dataframe\">\n",
       "  <thead>\n",
       "    <tr style=\"text-align: right;\">\n",
       "      <th></th>\n",
       "      <th>feature</th>\n",
       "      <th>coef_lasso</th>\n",
       "    </tr>\n",
       "  </thead>\n",
       "  <tbody>\n",
       "    <tr>\n",
       "      <th>0</th>\n",
       "      <td>Age</td>\n",
       "      <td>-2229.854477</td>\n",
       "    </tr>\n",
       "    <tr>\n",
       "      <th>1</th>\n",
       "      <td>KM</td>\n",
       "      <td>-713.457220</td>\n",
       "    </tr>\n",
       "    <tr>\n",
       "      <th>2</th>\n",
       "      <td>HP</td>\n",
       "      <td>393.364814</td>\n",
       "    </tr>\n",
       "    <tr>\n",
       "      <th>3</th>\n",
       "      <td>CC</td>\n",
       "      <td>-0.000000</td>\n",
       "    </tr>\n",
       "    <tr>\n",
       "      <th>4</th>\n",
       "      <td>Doors</td>\n",
       "      <td>0.000000</td>\n",
       "    </tr>\n",
       "    <tr>\n",
       "      <th>5</th>\n",
       "      <td>Weight</td>\n",
       "      <td>979.229866</td>\n",
       "    </tr>\n",
       "    <tr>\n",
       "      <th>6</th>\n",
       "      <td>Quarterly_Tax</td>\n",
       "      <td>-0.000000</td>\n",
       "    </tr>\n",
       "    <tr>\n",
       "      <th>7</th>\n",
       "      <td>Automatic</td>\n",
       "      <td>14.624191</td>\n",
       "    </tr>\n",
       "    <tr>\n",
       "      <th>8</th>\n",
       "      <td>FuelType_Diesel</td>\n",
       "      <td>-0.000000</td>\n",
       "    </tr>\n",
       "    <tr>\n",
       "      <th>9</th>\n",
       "      <td>FuelType_Petrol</td>\n",
       "      <td>0.000000</td>\n",
       "    </tr>\n",
       "  </tbody>\n",
       "</table>\n",
       "</div>"
      ],
      "text/plain": [
       "           feature   coef_lasso\n",
       "0              Age -2229.854477\n",
       "1               KM  -713.457220\n",
       "2               HP   393.364814\n",
       "3               CC    -0.000000\n",
       "4            Doors     0.000000\n",
       "5           Weight   979.229866\n",
       "6    Quarterly_Tax    -0.000000\n",
       "7        Automatic    14.624191\n",
       "8  FuelType_Diesel    -0.000000\n",
       "9  FuelType_Petrol     0.000000"
      ]
     },
     "execution_count": 91,
     "metadata": {},
     "output_type": "execute_result"
    }
   ],
   "source": [
    "lasso_coef_df = pd.DataFrame({'feature': feature_names, 'coef_lasso': lasso_cv.coef_})\n",
    "lasso_coef_df"
   ]
  },
  {
   "cell_type": "code",
   "execution_count": 93,
   "id": "1bf2e421-77f8-45fd-af70-48587d5d3875",
   "metadata": {},
   "outputs": [
    {
     "data": {
      "text/html": [
       "<div>\n",
       "<style scoped>\n",
       "    .dataframe tbody tr th:only-of-type {\n",
       "        vertical-align: middle;\n",
       "    }\n",
       "\n",
       "    .dataframe tbody tr th {\n",
       "        vertical-align: top;\n",
       "    }\n",
       "\n",
       "    .dataframe thead th {\n",
       "        text-align: right;\n",
       "    }\n",
       "</style>\n",
       "<table border=\"1\" class=\"dataframe\">\n",
       "  <thead>\n",
       "    <tr style=\"text-align: right;\">\n",
       "      <th></th>\n",
       "      <th>feature</th>\n",
       "      <th>coef_ridge</th>\n",
       "    </tr>\n",
       "  </thead>\n",
       "  <tbody>\n",
       "    <tr>\n",
       "      <th>0</th>\n",
       "      <td>Age</td>\n",
       "      <td>-2090.415439</td>\n",
       "    </tr>\n",
       "    <tr>\n",
       "      <th>1</th>\n",
       "      <td>KM</td>\n",
       "      <td>-736.208443</td>\n",
       "    </tr>\n",
       "    <tr>\n",
       "      <th>2</th>\n",
       "      <td>HP</td>\n",
       "      <td>359.541356</td>\n",
       "    </tr>\n",
       "    <tr>\n",
       "      <th>3</th>\n",
       "      <td>CC</td>\n",
       "      <td>-57.183047</td>\n",
       "    </tr>\n",
       "    <tr>\n",
       "      <th>4</th>\n",
       "      <td>Doors</td>\n",
       "      <td>-11.439394</td>\n",
       "    </tr>\n",
       "    <tr>\n",
       "      <th>5</th>\n",
       "      <td>Weight</td>\n",
       "      <td>1128.421155</td>\n",
       "    </tr>\n",
       "    <tr>\n",
       "      <th>6</th>\n",
       "      <td>Quarterly_Tax</td>\n",
       "      <td>52.601074</td>\n",
       "    </tr>\n",
       "    <tr>\n",
       "      <th>7</th>\n",
       "      <td>Automatic</td>\n",
       "      <td>42.381924</td>\n",
       "    </tr>\n",
       "    <tr>\n",
       "      <th>8</th>\n",
       "      <td>FuelType_Diesel</td>\n",
       "      <td>-140.804656</td>\n",
       "    </tr>\n",
       "    <tr>\n",
       "      <th>9</th>\n",
       "      <td>FuelType_Petrol</td>\n",
       "      <td>313.596625</td>\n",
       "    </tr>\n",
       "  </tbody>\n",
       "</table>\n",
       "</div>"
      ],
      "text/plain": [
       "           feature   coef_ridge\n",
       "0              Age -2090.415439\n",
       "1               KM  -736.208443\n",
       "2               HP   359.541356\n",
       "3               CC   -57.183047\n",
       "4            Doors   -11.439394\n",
       "5           Weight  1128.421155\n",
       "6    Quarterly_Tax    52.601074\n",
       "7        Automatic    42.381924\n",
       "8  FuelType_Diesel  -140.804656\n",
       "9  FuelType_Petrol   313.596625"
      ]
     },
     "execution_count": 93,
     "metadata": {},
     "output_type": "execute_result"
    }
   ],
   "source": [
    "ridge_coef_df = pd.DataFrame({'feature': feature_names, 'coef_ridge': ridge_cv.coef_})\n",
    "ridge_coef_df"
   ]
  },
  {
   "cell_type": "code",
   "execution_count": 94,
   "id": "3a4a947d-deda-486e-882f-200470578307",
   "metadata": {},
   "outputs": [
    {
     "data": {
      "text/html": [
       "<div>\n",
       "<style scoped>\n",
       "    .dataframe tbody tr th:only-of-type {\n",
       "        vertical-align: middle;\n",
       "    }\n",
       "\n",
       "    .dataframe tbody tr th {\n",
       "        vertical-align: top;\n",
       "    }\n",
       "\n",
       "    .dataframe thead th {\n",
       "        text-align: right;\n",
       "    }\n",
       "</style>\n",
       "<table border=\"1\" class=\"dataframe\">\n",
       "  <thead>\n",
       "    <tr style=\"text-align: right;\">\n",
       "      <th></th>\n",
       "      <th>actual</th>\n",
       "      <th>pred_OLS_all</th>\n",
       "      <th>pred_OLS_log_back</th>\n",
       "      <th>pred_OLS_sel</th>\n",
       "      <th>pred_lasso</th>\n",
       "      <th>pred_ridge</th>\n",
       "    </tr>\n",
       "  </thead>\n",
       "  <tbody>\n",
       "    <tr>\n",
       "      <th>594</th>\n",
       "      <td>10800</td>\n",
       "      <td>11160.289346</td>\n",
       "      <td>10985.604596</td>\n",
       "      <td>11903.058813</td>\n",
       "      <td>11327.303647</td>\n",
       "      <td>11254.456454</td>\n",
       "    </tr>\n",
       "    <tr>\n",
       "      <th>754</th>\n",
       "      <td>9950</td>\n",
       "      <td>9066.545864</td>\n",
       "      <td>8845.975435</td>\n",
       "      <td>9030.457522</td>\n",
       "      <td>8966.079776</td>\n",
       "      <td>9054.369959</td>\n",
       "    </tr>\n",
       "    <tr>\n",
       "      <th>630</th>\n",
       "      <td>7500</td>\n",
       "      <td>9212.974998</td>\n",
       "      <td>8709.564537</td>\n",
       "      <td>9409.196696</td>\n",
       "      <td>9592.628097</td>\n",
       "      <td>9381.444554</td>\n",
       "    </tr>\n",
       "    <tr>\n",
       "      <th>1259</th>\n",
       "      <td>9250</td>\n",
       "      <td>8869.858543</td>\n",
       "      <td>8748.714441</td>\n",
       "      <td>8688.246962</td>\n",
       "      <td>8969.649272</td>\n",
       "      <td>9043.104019</td>\n",
       "    </tr>\n",
       "    <tr>\n",
       "      <th>903</th>\n",
       "      <td>9750</td>\n",
       "      <td>10082.049025</td>\n",
       "      <td>9749.043968</td>\n",
       "      <td>9846.339934</td>\n",
       "      <td>10105.741566</td>\n",
       "      <td>10197.841145</td>\n",
       "    </tr>\n",
       "    <tr>\n",
       "      <th>...</th>\n",
       "      <td>...</td>\n",
       "      <td>...</td>\n",
       "      <td>...</td>\n",
       "      <td>...</td>\n",
       "      <td>...</td>\n",
       "      <td>...</td>\n",
       "    </tr>\n",
       "    <tr>\n",
       "      <th>174</th>\n",
       "      <td>21950</td>\n",
       "      <td>19229.064263</td>\n",
       "      <td>20610.048165</td>\n",
       "      <td>18790.832456</td>\n",
       "      <td>18901.466895</td>\n",
       "      <td>18770.213523</td>\n",
       "    </tr>\n",
       "    <tr>\n",
       "      <th>1428</th>\n",
       "      <td>8450</td>\n",
       "      <td>8041.079369</td>\n",
       "      <td>8446.256646</td>\n",
       "      <td>8120.915814</td>\n",
       "      <td>8147.302582</td>\n",
       "      <td>8247.558445</td>\n",
       "    </tr>\n",
       "    <tr>\n",
       "      <th>297</th>\n",
       "      <td>12850</td>\n",
       "      <td>13380.866366</td>\n",
       "      <td>12855.289307</td>\n",
       "      <td>13697.480161</td>\n",
       "      <td>13533.015239</td>\n",
       "      <td>13401.574348</td>\n",
       "    </tr>\n",
       "    <tr>\n",
       "      <th>1435</th>\n",
       "      <td>6950</td>\n",
       "      <td>10737.518838</td>\n",
       "      <td>10123.384084</td>\n",
       "      <td>9375.224963</td>\n",
       "      <td>10634.965709</td>\n",
       "      <td>10966.423525</td>\n",
       "    </tr>\n",
       "    <tr>\n",
       "      <th>1009</th>\n",
       "      <td>8900</td>\n",
       "      <td>10638.671536</td>\n",
       "      <td>10256.706414</td>\n",
       "      <td>11096.887965</td>\n",
       "      <td>10779.599331</td>\n",
       "      <td>10776.820483</td>\n",
       "    </tr>\n",
       "  </tbody>\n",
       "</table>\n",
       "<p>288 rows × 6 columns</p>\n",
       "</div>"
      ],
      "text/plain": [
       "      actual  pred_OLS_all  pred_OLS_log_back  pred_OLS_sel    pred_lasso  \\\n",
       "594    10800  11160.289346       10985.604596  11903.058813  11327.303647   \n",
       "754     9950   9066.545864        8845.975435   9030.457522   8966.079776   \n",
       "630     7500   9212.974998        8709.564537   9409.196696   9592.628097   \n",
       "1259    9250   8869.858543        8748.714441   8688.246962   8969.649272   \n",
       "903     9750  10082.049025        9749.043968   9846.339934  10105.741566   \n",
       "...      ...           ...                ...           ...           ...   \n",
       "174    21950  19229.064263       20610.048165  18790.832456  18901.466895   \n",
       "1428    8450   8041.079369        8446.256646   8120.915814   8147.302582   \n",
       "297    12850  13380.866366       12855.289307  13697.480161  13533.015239   \n",
       "1435    6950  10737.518838       10123.384084   9375.224963  10634.965709   \n",
       "1009    8900  10638.671536       10256.706414  11096.887965  10779.599331   \n",
       "\n",
       "        pred_ridge  \n",
       "594   11254.456454  \n",
       "754    9054.369959  \n",
       "630    9381.444554  \n",
       "1259   9043.104019  \n",
       "903   10197.841145  \n",
       "...            ...  \n",
       "174   18770.213523  \n",
       "1428   8247.558445  \n",
       "297   13401.574348  \n",
       "1435  10966.423525  \n",
       "1009  10776.820483  \n",
       "\n",
       "[288 rows x 6 columns]"
      ]
     },
     "execution_count": 94,
     "metadata": {},
     "output_type": "execute_result"
    }
   ],
   "source": [
    "predictions_out = pd.DataFrame({\n",
    "    'actual': y_test,\n",
    "    'pred_OLS_all': y_pred_a,\n",
    "    'pred_OLS_log_back': y_pred_b,\n",
    "    'pred_OLS_sel': np.nan,\n",
    "    'pred_lasso': y_pred_lasso,\n",
    "    'pred_ridge': y_pred_ridge\n",
    "}, index=y_test.index)\n",
    "predictions_out.loc[X_test_c.index, 'pred_OLS_sel'] = y_pred_c\n",
    "predictions_out"
   ]
  },
  {
   "cell_type": "code",
   "execution_count": 95,
   "id": "65483873-ca1f-489a-89c4-d7ae998f5f35",
   "metadata": {},
   "outputs": [
    {
     "data": {
      "text/html": [
       "<div>\n",
       "<style scoped>\n",
       "    .dataframe tbody tr th:only-of-type {\n",
       "        vertical-align: middle;\n",
       "    }\n",
       "\n",
       "    .dataframe tbody tr th {\n",
       "        vertical-align: top;\n",
       "    }\n",
       "\n",
       "    .dataframe thead th {\n",
       "        text-align: right;\n",
       "    }\n",
       "</style>\n",
       "<table border=\"1\" class=\"dataframe\">\n",
       "  <thead>\n",
       "    <tr style=\"text-align: right;\">\n",
       "      <th></th>\n",
       "      <th>RMSE</th>\n",
       "      <th>MAE</th>\n",
       "      <th>R2</th>\n",
       "    </tr>\n",
       "  </thead>\n",
       "  <tbody>\n",
       "    <tr>\n",
       "      <th>OLS_all</th>\n",
       "      <td>1497.033210</td>\n",
       "      <td>992.929557</td>\n",
       "      <td>0.832036</td>\n",
       "    </tr>\n",
       "    <tr>\n",
       "      <th>OLS_log_backtrans</th>\n",
       "      <td>1294.697227</td>\n",
       "      <td>873.923708</td>\n",
       "      <td>0.874371</td>\n",
       "    </tr>\n",
       "    <tr>\n",
       "      <th>OLS_selected</th>\n",
       "      <td>1468.808467</td>\n",
       "      <td>1078.614376</td>\n",
       "      <td>0.838310</td>\n",
       "    </tr>\n",
       "    <tr>\n",
       "      <th>LassoCV</th>\n",
       "      <td>1408.477750</td>\n",
       "      <td>996.221800</td>\n",
       "      <td>0.851320</td>\n",
       "    </tr>\n",
       "    <tr>\n",
       "      <th>RidgeCV</th>\n",
       "      <td>1440.049695</td>\n",
       "      <td>995.252222</td>\n",
       "      <td>0.844579</td>\n",
       "    </tr>\n",
       "  </tbody>\n",
       "</table>\n",
       "</div>"
      ],
      "text/plain": [
       "                          RMSE          MAE        R2\n",
       "OLS_all            1497.033210   992.929557  0.832036\n",
       "OLS_log_backtrans  1294.697227   873.923708  0.874371\n",
       "OLS_selected       1468.808467  1078.614376  0.838310\n",
       "LassoCV            1408.477750   996.221800  0.851320\n",
       "RidgeCV            1440.049695   995.252222  0.844579"
      ]
     },
     "execution_count": 95,
     "metadata": {},
     "output_type": "execute_result"
    }
   ],
   "source": [
    "metrics_summary = pd.DataFrame.from_dict({\n",
    "    'OLS_all': metrics_a,\n",
    "    'OLS_log_backtrans': metrics_b,\n",
    "    'OLS_selected': metrics_c,\n",
    "    'LassoCV': metrics_lasso,\n",
    "    'RidgeCV': metrics_ridge\n",
    "}, orient='index')\n",
    "metrics_summary"
   ]
  },
  {
   "cell_type": "code",
   "execution_count": 98,
   "id": "4f27566e-e269-46f9-9cb9-c36e183f7167",
   "metadata": {},
   "outputs": [],
   "source": [
    "def save_scatter(y_true, y_pred, title):\n",
    "    plt.figure(figsize=(6,5))\n",
    "    plt.scatter(y_true, y_pred, alpha=0.6, s=20)\n",
    "    mn = min(y_true.min(), y_pred.min())\n",
    "    mx = max(y_true.max(), y_pred.max())\n",
    "    plt.plot([mn,mx],[mn,mx],'k--', linewidth=1)\n",
    "    plt.xlabel('Actual Price'); plt.ylabel('Predicted Price'); plt.title(title)\n",
    "    plt.show()"
   ]
  },
  {
   "cell_type": "code",
   "execution_count": 99,
   "id": "12d58dbf-4fdc-4dc1-98c9-ba46164728d3",
   "metadata": {},
   "outputs": [
    {
     "data": {
      "image/png": "[encoded data removed]",
      "text/plain": [
       "<Figure size 600x500 with 1 Axes>"
      ]
     },
     "metadata": {},
     "output_type": "display_data"
    },
    {
     "data": {
      "image/png": "[encoded data removed]",
      "text/plain": [
       "<Figure size 600x500 with 1 Axes>"
      ]
     },
     "metadata": {},
     "output_type": "display_data"
    }
   ],
   "source": [
    "save_scatter(y_test, y_pred_a, 'OLS (all) Pred vs Actual')\n",
    "save_scatter(y_test, y_pred_ridge, 'Ridge Pred vs Actual')"
   ]
  },
  {
   "cell_type": "markdown",
   "id": "30dc7c18-e58b-4749-a293-134f3c413224",
   "metadata": {},
   "source": [
    "### Interview Questions:"
   ]
  },
  {
   "cell_type": "markdown",
   "id": "e46316ee-4853-44d3-a3ba-2b10f609c09e",
   "metadata": {},
   "source": [
    "##### 1.What is Normalization & Standardization and how is it helpful?"
   ]
  },
  {
   "cell_type": "markdown",
   "id": "bdedc737-3629-4397-8642-79bac657a837",
   "metadata": {},
   "source": [
    "##### \n",
    "- Normalization:\n",
    "    - Scales data to [0,1] range using (x - min) / (max - min).\n",
    "    - Useful for distance-based models (e.g., k-NN, Neural Nets).\n",
    "\n",
    "- Standardization:\n",
    "    - Centers and scales data: (x - mean) / std.\n",
    "    - Produces zero mean and unit variance.\n",
    "    - Used here for Linear Regression because it ensures all coefficients are comparable and improves model stability.."
   ]
  },
  {
   "cell_type": "markdown",
   "id": "852dffdd-8f30-4161-9b66-a3bc60ff0da2",
   "metadata": {},
   "source": [
    "#### 2.What techniques can be used to address multicollinearity in multiple linear regression?"
   ]
  },
  {
   "cell_type": "markdown",
   "id": "b6b7f007-d76d-431f-9614-94ab6c92a20e",
   "metadata": {},
   "source": [
    "##### - Techniques to address multicollinearity:\n",
    "\n",
    "- Remove or combine highly correlated features (e.g., if CC and Cylinders correlate strongly, drop one or create an aggregate).\n",
    "- Principal Component Regression / PCA: transform features into orthogonal components.\n",
    "- Regularization (Ridge reduces coefficient magnitude; Lasso can set some coefficients to zero).\n",
    "- Variance Inflation Factor (VIF) analysis: detect variables with high VIF and consider removal.\n",
    "- Use domain knowledge to prefer one of correlated variables."
   ]
  },
  {
   "cell_type": "code",
   "execution_count": 101,
   "id": "87c212ba-bb66-46f3-afd4-039f1be08eb9",
   "metadata": {},
   "outputs": [
    {
     "name": "stdout",
     "output_type": "stream",
     "text": [
      "1. Linearity → We assume a linear relationship between independent variables and the target Price.\n",
      "2. Independence → Each car observation is independent — no repeated entries.\n",
      "3. Homoscedasticity → Variance of residuals is constant across fitted values. Violation leads to unreliable standard errors.\n",
      "4. Normality of residuals → Errors are assumed normally distributed for valid confidence intervals.\n",
      "5. Multicollinearity → Some variables (e.g., CC and HP) might be correlated — Ridge/Lasso helps mitigate this.\n"
     ]
    }
   ],
   "source": [
    "assumptions = {\n",
    "    \"1. Linearity\": \"We assume a linear relationship between independent variables and the target Price.\",\n",
    "    \"2. Independence\": \"Each car observation is independent — no repeated entries.\",\n",
    "    \"3. Homoscedasticity\": \"Variance of residuals is constant across fitted values. Violation leads to unreliable standard errors.\",\n",
    "    \"4. Normality of residuals\": \"Errors are assumed normally distributed for valid confidence intervals.\",\n",
    "    \"5. Multicollinearity\": \"Some variables (e.g., CC and HP) might be correlated — Ridge/Lasso helps mitigate this.\"\n",
    "}\n",
    "\n",
    "for k,v in assumptions.items():\n",
    "    print(f\"{k} → {v}\")"
   ]
  },
  {
   "cell_type": "code",
   "execution_count": null,
   "id": "4c538662-9261-4af6-972c-2a8b6d1bed48",
   "metadata": {},
   "outputs": [],
   "source": []
  }
 ],
 "metadata": {
  "kernelspec": {
   "display_name": "Python 3 (ipykernel)",
   "language": "python",
   "name": "python3"
  },
  "language_info": {
   "codemirror_mode": {
    "name": "ipython",
    "version": 3
   },
   "file_extension": ".py",
   "mimetype": "text/x-python",
   "name": "python",
   "nbconvert_exporter": "python",
   "pygments_lexer": "ipython3",
   "version": "3.13.5"
  }
 },
 "nbformat": 4,
 "nbformat_minor": 5
}
