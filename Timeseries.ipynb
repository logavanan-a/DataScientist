{
 "cells": [
  {
   "cell_type": "markdown",
   "id": "fdf42e3d-7464-4e7f-ab00-3af3e665cbba",
   "metadata": {},
   "source": [
    "### FORECASTING EXCHANGE RATES USING TIME SERIES ANALYSIS"
   ]
  },
  {
   "cell_type": "markdown",
   "id": "7a1137a0-cb35-4c94-8491-cf32e7cb37e6",
   "metadata": {},
   "source": [
    "#### Objective:\n",
    "Leverage ARIMA and Exponential Smoothing techniques to forecast future exchange rates based on historical data provided in the exchange_rate.csv dataset. \n"
   ]
  },
  {
   "cell_type": "markdown",
   "id": "0245f69c-a065-4e54-a90d-728311415a44",
   "metadata": {},
   "source": [
    "#### Dataset:\n",
    "The dataset contains historical exchange rate with each column representing a different currency rate over time. The first column indicates the date, and the second column represents exchange rates USD to Australian Dollar.\n"
   ]
  },
  {
   "cell_type": "code",
   "execution_count": 1,
   "id": "a45e4f64-7d87-4737-8028-57a3e7b4a2e1",
   "metadata": {},
   "outputs": [],
   "source": [
    "import warnings\n",
    "warnings.filterwarnings(\"ignore\")\n",
    "import os\n",
    "import pandas as pd\n",
    "import numpy as np\n",
    "import matplotlib.pyplot as plt\n",
    "from statsmodels.tsa.seasonal import seasonal_decompose\n",
    "from statsmodels.tsa.stattools import adfuller\n",
    "from statsmodels.graphics.tsaplots import plot_acf, plot_pacf\n",
    "from statsmodels.tsa.arima.model import ARIMA\n",
    "from statsmodels.tsa.holtwinters import ExponentialSmoothing\n",
    "from sklearn.metrics import mean_absolute_error, mean_squared_error\n",
    "from math import sqrt"
   ]
  },
  {
   "cell_type": "code",
   "execution_count": 2,
   "id": "2f7b73d9-a56b-4013-b9f9-49e919a45327",
   "metadata": {},
   "outputs": [],
   "source": [
    "def mape(y_true, y_pred):\n",
    "    y_true, y_pred = np.array(y_true), np.array(y_pred)\n",
    "    mask = y_true != 0\n",
    "    if mask.sum() == 0:\n",
    "        return np.nan\n",
    "    return np.mean(np.abs((y_true[mask] - y_pred[mask]) / y_true[mask])) * 100"
   ]
  },
  {
   "cell_type": "code",
   "execution_count": 3,
   "id": "2cd5d8f4-b074-4e95-8693-687b0071137e",
   "metadata": {},
   "outputs": [],
   "source": [
    "def print_metrics(y_true, y_pred, label=\"Model\"):\n",
    "    mae = mean_absolute_error(y_true, y_pred)\n",
    "    rmse = sqrt(mean_squared_error(y_true, y_pred))\n",
    "    mape_v = mape(y_true, y_pred)\n",
    "    print(f\"{label} --> MAE: {mae:.6f}, RMSE: {rmse:.6f}, MAPE: {mape_v:.4f}%\")\n",
    "    return mae, rmse, mape_v"
   ]
  },
  {
   "cell_type": "code",
   "execution_count": 4,
   "id": "a9f98972-1e9e-4f90-a85e-11a166af7a82",
   "metadata": {},
   "outputs": [],
   "source": [
    "file_path = \"exchange_rate.csv\"\n",
    "\n"
   ]
  },
  {
   "cell_type": "code",
   "execution_count": 5,
   "id": "6297e048-a4e8-43ac-9404-97e486c426fd",
   "metadata": {},
   "outputs": [
    {
     "data": {
      "text/html": [
       "<div>\n",
       "<style scoped>\n",
       "    .dataframe tbody tr th:only-of-type {\n",
       "        vertical-align: middle;\n",
       "    }\n",
       "\n",
       "    .dataframe tbody tr th {\n",
       "        vertical-align: top;\n",
       "    }\n",
       "\n",
       "    .dataframe thead th {\n",
       "        text-align: right;\n",
       "    }\n",
       "</style>\n",
       "<table border=\"1\" class=\"dataframe\">\n",
       "  <thead>\n",
       "    <tr style=\"text-align: right;\">\n",
       "      <th></th>\n",
       "      <th>date</th>\n",
       "      <th>Ex_rate</th>\n",
       "    </tr>\n",
       "  </thead>\n",
       "  <tbody>\n",
       "    <tr>\n",
       "      <th>0</th>\n",
       "      <td>01-01-1990 00:00</td>\n",
       "      <td>0.7855</td>\n",
       "    </tr>\n",
       "    <tr>\n",
       "      <th>1</th>\n",
       "      <td>02-01-1990 00:00</td>\n",
       "      <td>0.7818</td>\n",
       "    </tr>\n",
       "    <tr>\n",
       "      <th>2</th>\n",
       "      <td>03-01-1990 00:00</td>\n",
       "      <td>0.7867</td>\n",
       "    </tr>\n",
       "    <tr>\n",
       "      <th>3</th>\n",
       "      <td>04-01-1990 00:00</td>\n",
       "      <td>0.7860</td>\n",
       "    </tr>\n",
       "    <tr>\n",
       "      <th>4</th>\n",
       "      <td>05-01-1990 00:00</td>\n",
       "      <td>0.7849</td>\n",
       "    </tr>\n",
       "  </tbody>\n",
       "</table>\n",
       "</div>"
      ],
      "text/plain": [
       "               date  Ex_rate\n",
       "0  01-01-1990 00:00   0.7855\n",
       "1  02-01-1990 00:00   0.7818\n",
       "2  03-01-1990 00:00   0.7867\n",
       "3  04-01-1990 00:00   0.7860\n",
       "4  05-01-1990 00:00   0.7849"
      ]
     },
     "execution_count": 5,
     "metadata": {},
     "output_type": "execute_result"
    }
   ],
   "source": [
    "df = pd.read_csv(file_path, parse_dates=[0])\n",
    "df.head()"
   ]
  },
  {
   "cell_type": "code",
   "execution_count": 6,
   "id": "7870d0d0-e379-40d6-9191-0894f80501d1",
   "metadata": {},
   "outputs": [
    {
     "name": "stdout",
     "output_type": "stream",
     "text": [
      "<class 'pandas.core.frame.DataFrame'>\n",
      "RangeIndex: 7588 entries, 0 to 7587\n",
      "Data columns (total 2 columns):\n",
      " #   Column   Non-Null Count  Dtype  \n",
      "---  ------   --------------  -----  \n",
      " 0   date     7588 non-null   object \n",
      " 1   Ex_rate  7588 non-null   float64\n",
      "dtypes: float64(1), object(1)\n",
      "memory usage: 118.7+ KB\n"
     ]
    }
   ],
   "source": [
    "df.info()"
   ]
  },
  {
   "cell_type": "code",
   "execution_count": 7,
   "id": "ca097e70-0d1a-4c9b-af20-2392a3c63a14",
   "metadata": {},
   "outputs": [],
   "source": [
    "df.columns = [\"date\", \"USD_AUD\"]\n",
    "df.set_index(\"date\", inplace=True)\n",
    "series = df[\"USD_AUD\"].sort_index()"
   ]
  },
  {
   "cell_type": "code",
   "execution_count": 8,
   "id": "da2c36e2-5307-492f-b714-b3b2af8e5c31",
   "metadata": {},
   "outputs": [
    {
     "name": "stdout",
     "output_type": "stream",
     "text": [
      "Series (n=7588):\n"
     ]
    },
    {
     "data": {
      "text/plain": [
       "date\n",
       "01-01-1990 00:00    0.785500\n",
       "01-01-1991 00:00    0.764500\n",
       "01-01-1992 00:00    0.672000\n",
       "01-01-1993 00:00    0.740300\n",
       "01-01-1994 00:00    0.735000\n",
       "                      ...   \n",
       "31-12-2005 00:00    1.030758\n",
       "31-12-2006 00:00    1.030641\n",
       "31-12-2007 00:00    0.909132\n",
       "31-12-2008 00:00    0.786813\n",
       "31-12-2009 00:00    0.753381\n",
       "Name: USD_AUD, Length: 7588, dtype: float64"
      ]
     },
     "execution_count": 8,
     "metadata": {},
     "output_type": "execute_result"
    }
   ],
   "source": [
    "print(\"Series (n={}):\".format(len(series)))\n",
    "series"
   ]
  },
  {
   "cell_type": "code",
   "execution_count": 9,
   "id": "f2627ab2-f4fc-411c-81f7-9755e5c43348",
   "metadata": {},
   "outputs": [
    {
     "data": {
      "text/plain": [
       "count    7588.000000\n",
       "mean        0.776974\n",
       "std         0.136620\n",
       "min         0.483297\n",
       "25%         0.701422\n",
       "50%         0.761377\n",
       "75%         0.873477\n",
       "max         1.102536\n",
       "Name: USD_AUD, dtype: float64"
      ]
     },
     "execution_count": 9,
     "metadata": {},
     "output_type": "execute_result"
    }
   ],
   "source": [
    "series.describe()"
   ]
  },
  {
   "cell_type": "code",
   "execution_count": 10,
   "id": "fe7e7f01-0472-42db-8c8a-bff9c0ae2013",
   "metadata": {},
   "outputs": [
    {
     "data": {
      "image/png": "[encoded data removed]",
      "text/plain": [
       "<Figure size 800x300 with 1 Axes>"
      ]
     },
     "metadata": {},
     "output_type": "display_data"
    }
   ],
   "source": [
    "plt.figure(figsize=(8,3))\n",
    "plt.plot(series, marker='o')\n",
    "plt.title(\"USD->AUD (sample)\")\n",
    "plt.ylabel(\"Exchange rate\")\n",
    "plt.tight_layout()\n",
    "plt.show()"
   ]
  },
  {
   "cell_type": "code",
   "execution_count": 11,
   "id": "71e14bef-74b1-4770-a876-8b73dc2d235a",
   "metadata": {},
   "outputs": [
    {
     "data": {
      "text/plain": [
       "np.int64(0)"
      ]
     },
     "execution_count": 11,
     "metadata": {},
     "output_type": "execute_result"
    }
   ],
   "source": [
    "series.isna().sum()"
   ]
  },
  {
   "cell_type": "code",
   "execution_count": 12,
   "id": "bfa6174e-a231-4b3c-9fa3-644de3419190",
   "metadata": {},
   "outputs": [
    {
     "name": "stdout",
     "output_type": "stream",
     "text": [
      "\n",
      "ADF statistic: -14.438089, p-value: 0.000000\n",
      "-> ADF suggests stationarity (but unreliable with n=5).\n"
     ]
    }
   ],
   "source": [
    "try:\n",
    "    adf_res = adfuller(series)\n",
    "    print(\"\\nADF statistic: {:.6f}, p-value: {:.6f}\".format(adf_res[0], adf_res[1]))\n",
    "    if adf_res[1] > 0.05:\n",
    "        print(\"-> ADF suggests non-stationarity (but unreliable with n=5).\")\n",
    "    else:\n",
    "        print(\"-> ADF suggests stationarity (but unreliable with n=5).\")\n",
    "except Exception as e:\n",
    "    print(\"ADF test could not be performed:\", e)"
   ]
  },
  {
   "cell_type": "code",
   "execution_count": 13,
   "id": "c9424c94-bd50-4569-a95b-8d053510feff",
   "metadata": {},
   "outputs": [
    {
     "name": "stdout",
     "output_type": "stream",
     "text": [
      "\n",
      "Max ACF/PACF lags allowed for this sample: 3793\n"
     ]
    },
    {
     "data": {
      "image/png": "[encoded data removed]",
      "text/plain": [
       "<Figure size 640x480 with 1 Axes>"
      ]
     },
     "metadata": {},
     "output_type": "display_data"
    },
    {
     "data": {
      "image/png": "[encoded data removed]",
      "text/plain": [
       "<Figure size 640x480 with 1 Axes>"
      ]
     },
     "metadata": {},
     "output_type": "display_data"
    }
   ],
   "source": [
    "max_lags_allowed = max(0, len(series)//2 - 1)  \n",
    "print(\"\\nMax ACF/PACF lags allowed for this sample:\", max_lags_allowed)\n",
    "if max_lags_allowed >= 1:\n",
    "    \n",
    "    plot_acf(series, lags=max_lags_allowed)\n",
    "    plt.show()\n",
    "    try:\n",
    "        plot_pacf(series, lags=max_lags_allowed, method='ywm')\n",
    "        plt.show()\n",
    "    except Exception as e:\n",
    "        print(\"PACF plot not available:\", e)\n",
    "else:\n",
    "    print(\"Not enough data to plot PACF/ACF beyond trivial lags.\")"
   ]
  },
  {
   "cell_type": "code",
   "execution_count": 14,
   "id": "1907f5e2-653a-48e6-9894-13a3dc9edc93",
   "metadata": {},
   "outputs": [
    {
     "name": "stdout",
     "output_type": "stream",
     "text": [
      "\n",
      "Train size: 7587 Test size: 1\n"
     ]
    }
   ],
   "source": [
    "h = 1 if len(series) > 1 else 0\n",
    "train = series[:-h] if h>0 else series.copy()\n",
    "test = series[-h:] if h>0 else pd.Series(dtype=float)\n",
    "print(\"\\nTrain size:\", len(train), \"Test size:\", len(test))"
   ]
  },
  {
   "cell_type": "code",
   "execution_count": 15,
   "id": "287a7cf9-22fe-4b5f-a9c6-e79c8e5504d1",
   "metadata": {},
   "outputs": [],
   "source": [
    "def mape(y_true, y_pred):\n",
    "    y_true, y_pred = np.array(y_true), np.array(y_pred)\n",
    "    mask = y_true != 0\n",
    "    return np.mean(np.abs((y_true[mask] - y_pred[mask]) / y_true[mask]))*100 if mask.sum()>0 else np.nan"
   ]
  },
  {
   "cell_type": "code",
   "execution_count": 23,
   "id": "44bda274-3974-4bd5-a041-86e8f94134db",
   "metadata": {},
   "outputs": [
    {
     "name": "stdout",
     "output_type": "stream",
     "text": [
      "\n",
      "Selected ARIMA order (illustrative): (1, 1, 2)\n",
      "ARIMA forecast (test): [0.77615927]\n"
     ]
    }
   ],
   "source": [
    "import warnings\n",
    "warnings.filterwarnings(\"ignore\")\n",
    "arima_metrics = (np.nan, np.nan, np.nan)\n",
    "if len(train) >= 3:\n",
    "    best_aic = np.inf\n",
    "    best_model = None\n",
    "    best_order = None\n",
    "    for p in range(0,3):\n",
    "        for q in range(0,3):\n",
    "            try:\n",
    "                m = ARIMA(train, order=(p,d,q)).fit()\n",
    "                if m.aic < best_aic:\n",
    "                    best_aic, best_model, best_order = m.aic, m, (p,d,q)\n",
    "            except Exception:\n",
    "                pass\n",
    "    print(\"\\nSelected ARIMA order (illustrative):\", best_order)\n",
    "    if best_model is not None and h>0:\n",
    "        pred = best_model.get_forecast(steps=h).predicted_mean\n",
    "        pred.index = test.index\n",
    "        print(\"ARIMA forecast (test):\", pred.values)\n",
    "        arima_metrics = (mean_absolute_error(test, pred),\n",
    "                         sqrt(mean_squared_error(test, pred)),\n",
    "                         mape(test, pred))\n",
    "else:\n",
    "    print(\"\\nNot enough observations to fit ARIMA (need >=3 in this simple routine).\")\n"
   ]
  },
  {
   "cell_type": "code",
   "execution_count": 24,
   "id": "5e5e7913-86e1-41b2-8552-df9d155755c6",
   "metadata": {},
   "outputs": [
    {
     "name": "stdout",
     "output_type": "stream",
     "text": [
      "\n",
      "Holt-Winters forecast (test): [0.79510245]\n"
     ]
    }
   ],
   "source": [
    "hw_metrics = (np.nan, np.nan, np.nan)\n",
    "if len(train) >= 2 and h>0:\n",
    "    try:\n",
    "        hw = ExponentialSmoothing(train, trend='add', seasonal=None).fit(optimized=True)\n",
    "        hw_pred = hw.forecast(steps=h)\n",
    "        hw_pred.index = test.index\n",
    "        print(\"\\nHolt-Winters forecast (test):\", hw_pred.values)\n",
    "        hw_metrics = (mean_absolute_error(test, hw_pred),\n",
    "                      sqrt(mean_squared_error(test, hw_pred)),\n",
    "                      mape(test, hw_pred))\n",
    "    except Exception as e:\n",
    "        print(\"Holt-Winters fitting failed:\", e)\n",
    "else:\n",
    "    print(\"\\nNot enough observations to fit Holt-Winters trend model (need >=2).\")"
   ]
  },
  {
   "cell_type": "code",
   "execution_count": 25,
   "id": "4d19f01d-67fd-495e-959d-e34f48a8bdae",
   "metadata": {},
   "outputs": [],
   "source": [
    "comp = pd.DataFrame({\n",
    "    \"Model\": [\"ARIMA\", \"Holt-Winters\"],\n",
    "    \"MAE\": [arima_metrics[0], hw_metrics[0]],\n",
    "    \"RMSE\": [arima_metrics[1], hw_metrics[1]],\n",
    "    \"MAPE (%)\": [arima_metrics[2], hw_metrics[2]]\n",
    "})"
   ]
  },
  {
   "cell_type": "code",
   "execution_count": 19,
   "id": "2ef20c7a-bb7e-4b19-9264-0c62ce48d2eb",
   "metadata": {},
   "outputs": [
    {
     "data": {
      "text/plain": [
       "'       Model      MAE     RMSE  MAPE (%)\\n       ARIMA      NaN      NaN       NaN\\nHolt-Winters 0.041721 0.041721  5.537895'"
      ]
     },
     "execution_count": 19,
     "metadata": {},
     "output_type": "execute_result"
    }
   ],
   "source": [
    "comp.to_string(index=False)"
   ]
  },
  {
   "cell_type": "markdown",
   "id": "fedea53e-2240-4e54-b6ae-73f9f136cebc",
   "metadata": {},
   "source": [
    "#### Part 1 — Data Preparation & Exploration\n",
    "\n",
    "Data loading: explain parsing the date column using dayfirst=True to get proper DatetimeIndex.\n",
    "\n",
    "Exploration: include the time plot and descriptive stats. Explicitly note “sample size = 5 — insufficient to detect seasonality or reliable trends.”\n",
    "\n",
    "Preprocessing: mention missing-value check (none in this snippet) and general approaches you would use on a full dataset (time interpolation, forward/back-fill, outlier detection e.g. winsorizing or local median-based smoothing).\n",
    "\n",
    "Part 2 — Model Building (ARIMA)\n",
    "\n",
    "Parameter selection via ACF/PACF: say that with n=5 ACF/PACF beyond trivial lags are unreliable. Show the small ACF plot and state that you cannot form meaningful p/q suggestions.\n",
    "\n",
    "Model fitting: state you attempted minimal ARIMA only for demonstration; include the code and note the fitted order is only illustrative.\n",
    "\n",
    "Diagnostics: state that residual diagnostics are not meaningful with so few residuals. For a full dataset you would plot residuals, ACF of residuals, Ljung-Box test, QQ-plot.\n",
    "\n",
    "Forecasting: show the illustrative forecast and explicitly label it “not robust”.\n",
    "\n",
    "Part 3 — Evaluation & Comparison\n",
    "\n",
    "Compute MAE/RMSE/MAPE (they will be computed if a 1-step test exists) but emphasize these are not meaningful for model comparison on n=5; explain for a real assignment you should use rolling-origin cross-validation and multiple test windows.\n",
    "\n",
    "Discuss general comparative points: Holt–Winters good for stable seasonality + trend; ARIMA for autocorrelation structure and short-term dynamics; SARIMA for seasonal AR terms.\n",
    "\n",
    "Conclusion\n",
    "\n",
    "State that with only 5 observations you cannot recommend a best model. Provide clear next steps to obtain/prepare more data (below)."
   ]
  },
  {
   "cell_type": "code",
   "execution_count": null,
   "id": "de7fb875-a0fc-41bf-bd1c-f1ff5da4661a",
   "metadata": {},
   "outputs": [],
   "source": []
  }
 ],
 "metadata": {
  "kernelspec": {
   "display_name": "Python 3 (ipykernel)",
   "language": "python",
   "name": "python3"
  },
  "language_info": {
   "codemirror_mode": {
    "name": "ipython",
    "version": 3
   },
   "file_extension": ".py",
   "mimetype": "text/x-python",
   "name": "python",
   "nbconvert_exporter": "python",
   "pygments_lexer": "ipython3",
   "version": "3.13.5"
  }
 },
 "nbformat": 4,
 "nbformat_minor": 5
}
